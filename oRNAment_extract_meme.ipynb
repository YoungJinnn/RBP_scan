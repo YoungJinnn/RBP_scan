{
 "cells": [
  {
   "cell_type": "code",
   "execution_count": 1,
   "id": "4bd1344e-ea00-479e-bfa3-4ef1e006fd44",
   "metadata": {},
   "outputs": [],
   "source": [
    "file_info <- read.table(\"/home/ylee/oRNAment/PWMs/conv.sh\", header = FALSE, sep = \" \")"
   ]
  },
  {
   "cell_type": "code",
   "execution_count": 2,
   "id": "d866ce97-1b39-4a09-a459-12f8385a7335",
   "metadata": {
    "scrolled": true
   },
   "outputs": [
    {
     "data": {
      "text/html": [
       "<table class=\"dataframe\">\n",
       "<caption>A data.frame: 6 × 2</caption>\n",
       "<thead>\n",
       "\t<tr><th></th><th scope=col>base_name</th><th scope=col>num_name</th></tr>\n",
       "\t<tr><th></th><th scope=col>&lt;chr&gt;</th><th scope=col>&lt;chr&gt;</th></tr>\n",
       "</thead>\n",
       "<tbody>\n",
       "\t<tr><th scope=row>1</th><td>A1CF_7mer_logo0.PWM   </td><td>001.PWM;</td></tr>\n",
       "\t<tr><th scope=row>2</th><td>A1CF_7mer_logo1.PWM   </td><td>002.PWM;</td></tr>\n",
       "\t<tr><th scope=row>3</th><td>A1CF_7mer_logo2.PWM   </td><td>003.PWM;</td></tr>\n",
       "\t<tr><th scope=row>4</th><td>A1CF_7mer_logo3.PWM   </td><td>004.PWM;</td></tr>\n",
       "\t<tr><th scope=row>5</th><td>A1CF_7mer_logo4.PWM   </td><td>005.PWM;</td></tr>\n",
       "\t<tr><th scope=row>6</th><td>A1CF_7mer_logoM001.PWM</td><td>006.PWM;</td></tr>\n",
       "</tbody>\n",
       "</table>\n"
      ],
      "text/latex": [
       "A data.frame: 6 × 2\n",
       "\\begin{tabular}{r|ll}\n",
       "  & base\\_name & num\\_name\\\\\n",
       "  & <chr> & <chr>\\\\\n",
       "\\hline\n",
       "\t1 & A1CF\\_7mer\\_logo0.PWM    & 001.PWM;\\\\\n",
       "\t2 & A1CF\\_7mer\\_logo1.PWM    & 002.PWM;\\\\\n",
       "\t3 & A1CF\\_7mer\\_logo2.PWM    & 003.PWM;\\\\\n",
       "\t4 & A1CF\\_7mer\\_logo3.PWM    & 004.PWM;\\\\\n",
       "\t5 & A1CF\\_7mer\\_logo4.PWM    & 005.PWM;\\\\\n",
       "\t6 & A1CF\\_7mer\\_logoM001.PWM & 006.PWM;\\\\\n",
       "\\end{tabular}\n"
      ],
      "text/markdown": [
       "\n",
       "A data.frame: 6 × 2\n",
       "\n",
       "| <!--/--> | base_name &lt;chr&gt; | num_name &lt;chr&gt; |\n",
       "|---|---|---|\n",
       "| 1 | A1CF_7mer_logo0.PWM    | 001.PWM; |\n",
       "| 2 | A1CF_7mer_logo1.PWM    | 002.PWM; |\n",
       "| 3 | A1CF_7mer_logo2.PWM    | 003.PWM; |\n",
       "| 4 | A1CF_7mer_logo3.PWM    | 004.PWM; |\n",
       "| 5 | A1CF_7mer_logo4.PWM    | 005.PWM; |\n",
       "| 6 | A1CF_7mer_logoM001.PWM | 006.PWM; |\n",
       "\n"
      ],
      "text/plain": [
       "  base_name              num_name\n",
       "1 A1CF_7mer_logo0.PWM    001.PWM;\n",
       "2 A1CF_7mer_logo1.PWM    002.PWM;\n",
       "3 A1CF_7mer_logo2.PWM    003.PWM;\n",
       "4 A1CF_7mer_logo3.PWM    004.PWM;\n",
       "5 A1CF_7mer_logo4.PWM    005.PWM;\n",
       "6 A1CF_7mer_logoM001.PWM 006.PWM;"
      ]
     },
     "metadata": {},
     "output_type": "display_data"
    }
   ],
   "source": [
    "file_info <- file_info[, -1]\n",
    "colnames(file_info) <- c(\"base_name\", \"num_name\")\n",
    "head(file_info)"
   ]
  },
  {
   "cell_type": "code",
   "execution_count": 3,
   "id": "02256158-8895-4ddf-9a57-0f4bb9596162",
   "metadata": {},
   "outputs": [
    {
     "data": {
      "text/html": [
       "<table class=\"dataframe\">\n",
       "<caption>A data.frame: 6 × 4</caption>\n",
       "<thead>\n",
       "\t<tr><th></th><th scope=col>base_name</th><th scope=col>num_name</th><th scope=col>RBP_name</th><th scope=col>motif_id</th></tr>\n",
       "\t<tr><th></th><th scope=col>&lt;chr&gt;</th><th scope=col>&lt;chr&gt;</th><th scope=col>&lt;chr&gt;</th><th scope=col>&lt;chr&gt;</th></tr>\n",
       "</thead>\n",
       "<tbody>\n",
       "\t<tr><th scope=row>1</th><td>A1CF_7mer_logo0.PWM   </td><td>001.PWM</td><td>A1CF</td><td>0   </td></tr>\n",
       "\t<tr><th scope=row>2</th><td>A1CF_7mer_logo1.PWM   </td><td>002.PWM</td><td>A1CF</td><td>1   </td></tr>\n",
       "\t<tr><th scope=row>3</th><td>A1CF_7mer_logo2.PWM   </td><td>003.PWM</td><td>A1CF</td><td>2   </td></tr>\n",
       "\t<tr><th scope=row>4</th><td>A1CF_7mer_logo3.PWM   </td><td>004.PWM</td><td>A1CF</td><td>3   </td></tr>\n",
       "\t<tr><th scope=row>5</th><td>A1CF_7mer_logo4.PWM   </td><td>005.PWM</td><td>A1CF</td><td>4   </td></tr>\n",
       "\t<tr><th scope=row>6</th><td>A1CF_7mer_logoM001.PWM</td><td>006.PWM</td><td>A1CF</td><td>M001</td></tr>\n",
       "</tbody>\n",
       "</table>\n"
      ],
      "text/latex": [
       "A data.frame: 6 × 4\n",
       "\\begin{tabular}{r|llll}\n",
       "  & base\\_name & num\\_name & RBP\\_name & motif\\_id\\\\\n",
       "  & <chr> & <chr> & <chr> & <chr>\\\\\n",
       "\\hline\n",
       "\t1 & A1CF\\_7mer\\_logo0.PWM    & 001.PWM & A1CF & 0   \\\\\n",
       "\t2 & A1CF\\_7mer\\_logo1.PWM    & 002.PWM & A1CF & 1   \\\\\n",
       "\t3 & A1CF\\_7mer\\_logo2.PWM    & 003.PWM & A1CF & 2   \\\\\n",
       "\t4 & A1CF\\_7mer\\_logo3.PWM    & 004.PWM & A1CF & 3   \\\\\n",
       "\t5 & A1CF\\_7mer\\_logo4.PWM    & 005.PWM & A1CF & 4   \\\\\n",
       "\t6 & A1CF\\_7mer\\_logoM001.PWM & 006.PWM & A1CF & M001\\\\\n",
       "\\end{tabular}\n"
      ],
      "text/markdown": [
       "\n",
       "A data.frame: 6 × 4\n",
       "\n",
       "| <!--/--> | base_name &lt;chr&gt; | num_name &lt;chr&gt; | RBP_name &lt;chr&gt; | motif_id &lt;chr&gt; |\n",
       "|---|---|---|---|---|\n",
       "| 1 | A1CF_7mer_logo0.PWM    | 001.PWM | A1CF | 0    |\n",
       "| 2 | A1CF_7mer_logo1.PWM    | 002.PWM | A1CF | 1    |\n",
       "| 3 | A1CF_7mer_logo2.PWM    | 003.PWM | A1CF | 2    |\n",
       "| 4 | A1CF_7mer_logo3.PWM    | 004.PWM | A1CF | 3    |\n",
       "| 5 | A1CF_7mer_logo4.PWM    | 005.PWM | A1CF | 4    |\n",
       "| 6 | A1CF_7mer_logoM001.PWM | 006.PWM | A1CF | M001 |\n",
       "\n"
      ],
      "text/plain": [
       "  base_name              num_name RBP_name motif_id\n",
       "1 A1CF_7mer_logo0.PWM    001.PWM  A1CF     0       \n",
       "2 A1CF_7mer_logo1.PWM    002.PWM  A1CF     1       \n",
       "3 A1CF_7mer_logo2.PWM    003.PWM  A1CF     2       \n",
       "4 A1CF_7mer_logo3.PWM    004.PWM  A1CF     3       \n",
       "5 A1CF_7mer_logo4.PWM    005.PWM  A1CF     4       \n",
       "6 A1CF_7mer_logoM001.PWM 006.PWM  A1CF     M001    "
      ]
     },
     "metadata": {},
     "output_type": "display_data"
    }
   ],
   "source": [
    "file_info$num_name <- sub(\";$\", \"\", file_info$num_name)\n",
    "file_info$RBP_name <- sub(\"_7mer.*\", \"\", file_info$base_name)\n",
    "file_info$motif_id <- gsub(\".*logo(.*)\\\\.PWM\", \"\\\\1\", file_info$base_name)\n",
    "head(file_info)"
   ]
  },
  {
   "cell_type": "code",
   "execution_count": 5,
   "id": "12dfb59d-b3f2-434f-8fdd-e3d4f0af8a3d",
   "metadata": {},
   "outputs": [],
   "source": [
    "library(AnnotationDbi)\n",
    "library(org.Hs.eg.db) # Human gene database\n",
    "library(org.Mm.eg.db) # Mouse gene database"
   ]
  },
  {
   "cell_type": "code",
   "execution_count": 6,
   "id": "0cdab6af-7c9f-4a5c-b1ac-a7a0e9991811",
   "metadata": {},
   "outputs": [
    {
     "data": {
      "text/html": [
       "<table class=\"dataframe\">\n",
       "<caption>A data.frame: 6 × 6</caption>\n",
       "<thead>\n",
       "\t<tr><th></th><th scope=col>base_name</th><th scope=col>num_name</th><th scope=col>RBP_name</th><th scope=col>motif_id</th><th scope=col>valid_human</th><th scope=col>valid_mouse</th></tr>\n",
       "\t<tr><th></th><th scope=col>&lt;chr&gt;</th><th scope=col>&lt;chr&gt;</th><th scope=col>&lt;chr&gt;</th><th scope=col>&lt;chr&gt;</th><th scope=col>&lt;lgl&gt;</th><th scope=col>&lt;lgl&gt;</th></tr>\n",
       "</thead>\n",
       "<tbody>\n",
       "\t<tr><th scope=row>1</th><td>A1CF_7mer_logo0.PWM   </td><td>001.PWM</td><td>A1CF</td><td>0   </td><td>TRUE</td><td>FALSE</td></tr>\n",
       "\t<tr><th scope=row>2</th><td>A1CF_7mer_logo1.PWM   </td><td>002.PWM</td><td>A1CF</td><td>1   </td><td>TRUE</td><td>FALSE</td></tr>\n",
       "\t<tr><th scope=row>3</th><td>A1CF_7mer_logo2.PWM   </td><td>003.PWM</td><td>A1CF</td><td>2   </td><td>TRUE</td><td>FALSE</td></tr>\n",
       "\t<tr><th scope=row>4</th><td>A1CF_7mer_logo3.PWM   </td><td>004.PWM</td><td>A1CF</td><td>3   </td><td>TRUE</td><td>FALSE</td></tr>\n",
       "\t<tr><th scope=row>5</th><td>A1CF_7mer_logo4.PWM   </td><td>005.PWM</td><td>A1CF</td><td>4   </td><td>TRUE</td><td>FALSE</td></tr>\n",
       "\t<tr><th scope=row>6</th><td>A1CF_7mer_logoM001.PWM</td><td>006.PWM</td><td>A1CF</td><td>M001</td><td>TRUE</td><td>FALSE</td></tr>\n",
       "</tbody>\n",
       "</table>\n"
      ],
      "text/latex": [
       "A data.frame: 6 × 6\n",
       "\\begin{tabular}{r|llllll}\n",
       "  & base\\_name & num\\_name & RBP\\_name & motif\\_id & valid\\_human & valid\\_mouse\\\\\n",
       "  & <chr> & <chr> & <chr> & <chr> & <lgl> & <lgl>\\\\\n",
       "\\hline\n",
       "\t1 & A1CF\\_7mer\\_logo0.PWM    & 001.PWM & A1CF & 0    & TRUE & FALSE\\\\\n",
       "\t2 & A1CF\\_7mer\\_logo1.PWM    & 002.PWM & A1CF & 1    & TRUE & FALSE\\\\\n",
       "\t3 & A1CF\\_7mer\\_logo2.PWM    & 003.PWM & A1CF & 2    & TRUE & FALSE\\\\\n",
       "\t4 & A1CF\\_7mer\\_logo3.PWM    & 004.PWM & A1CF & 3    & TRUE & FALSE\\\\\n",
       "\t5 & A1CF\\_7mer\\_logo4.PWM    & 005.PWM & A1CF & 4    & TRUE & FALSE\\\\\n",
       "\t6 & A1CF\\_7mer\\_logoM001.PWM & 006.PWM & A1CF & M001 & TRUE & FALSE\\\\\n",
       "\\end{tabular}\n"
      ],
      "text/markdown": [
       "\n",
       "A data.frame: 6 × 6\n",
       "\n",
       "| <!--/--> | base_name &lt;chr&gt; | num_name &lt;chr&gt; | RBP_name &lt;chr&gt; | motif_id &lt;chr&gt; | valid_human &lt;lgl&gt; | valid_mouse &lt;lgl&gt; |\n",
       "|---|---|---|---|---|---|---|\n",
       "| 1 | A1CF_7mer_logo0.PWM    | 001.PWM | A1CF | 0    | TRUE | FALSE |\n",
       "| 2 | A1CF_7mer_logo1.PWM    | 002.PWM | A1CF | 1    | TRUE | FALSE |\n",
       "| 3 | A1CF_7mer_logo2.PWM    | 003.PWM | A1CF | 2    | TRUE | FALSE |\n",
       "| 4 | A1CF_7mer_logo3.PWM    | 004.PWM | A1CF | 3    | TRUE | FALSE |\n",
       "| 5 | A1CF_7mer_logo4.PWM    | 005.PWM | A1CF | 4    | TRUE | FALSE |\n",
       "| 6 | A1CF_7mer_logoM001.PWM | 006.PWM | A1CF | M001 | TRUE | FALSE |\n",
       "\n"
      ],
      "text/plain": [
       "  base_name              num_name RBP_name motif_id valid_human valid_mouse\n",
       "1 A1CF_7mer_logo0.PWM    001.PWM  A1CF     0        TRUE        FALSE      \n",
       "2 A1CF_7mer_logo1.PWM    002.PWM  A1CF     1        TRUE        FALSE      \n",
       "3 A1CF_7mer_logo2.PWM    003.PWM  A1CF     2        TRUE        FALSE      \n",
       "4 A1CF_7mer_logo3.PWM    004.PWM  A1CF     3        TRUE        FALSE      \n",
       "5 A1CF_7mer_logo4.PWM    005.PWM  A1CF     4        TRUE        FALSE      \n",
       "6 A1CF_7mer_logoM001.PWM 006.PWM  A1CF     M001     TRUE        FALSE      "
      ]
     },
     "metadata": {},
     "output_type": "display_data"
    }
   ],
   "source": [
    "# bring valid key list\n",
    "valid_human_keys <- c(keys(org.Hs.eg.db, keytype = \"SYMBOL\"), keys(org.Hs.eg.db, keytype = \"ENSEMBL\"))\n",
    "valid_mouse_keys <- c(keys(org.Mm.eg.db, keytype = \"SYMBOL\"), keys(org.Mm.eg.db, keytype = \"ENSEMBL\"))\n",
    "\n",
    "# check if the RBP_name is valid\n",
    "file_info$valid_human <- file_info$RBP_name %in% valid_human_keys\n",
    "file_info$valid_mouse <- file_info$RBP_name %in% valid_mouse_keys\n",
    "\n",
    "head(file_info)"
   ]
  },
  {
   "cell_type": "code",
   "execution_count": 7,
   "id": "aec61359-5ac2-4ca8-b409-97a40cec458f",
   "metadata": {
    "collapsed": true,
    "jupyter": {
     "outputs_hidden": true
    },
    "scrolled": true
   },
   "outputs": [
    {
     "name": "stdout",
     "output_type": "stream",
     "text": [
      "[1] \"Saved: /home/ylee/oRNAment/oRNAment_PFM_species_filtered/A1CF_PWM_0.txt\"\n",
      "[1] \"Saved: /home/ylee/oRNAment/oRNAment_PFM_species_filtered/A1CF_PWM_1.txt\"\n",
      "[1] \"Saved: /home/ylee/oRNAment/oRNAment_PFM_species_filtered/A1CF_PWM_2.txt\"\n",
      "[1] \"Saved: /home/ylee/oRNAment/oRNAment_PFM_species_filtered/A1CF_PWM_3.txt\"\n",
      "[1] \"Saved: /home/ylee/oRNAment/oRNAment_PFM_species_filtered/A1CF_PWM_4.txt\"\n",
      "[1] \"Saved: /home/ylee/oRNAment/oRNAment_PFM_species_filtered/A1CF_PWM_M001.txt\"\n",
      "[1] \"Saved: /home/ylee/oRNAment/oRNAment_PFM_species_filtered/ANKHD1_PWM_M002.txt\"\n",
      "[1] \"Saved: /home/ylee/oRNAment/oRNAment_PFM_species_filtered/BOLL_PWM_0.txt\"\n",
      "[1] \"Saved: /home/ylee/oRNAment/oRNAment_PFM_species_filtered/BOLL_PWM_1.txt\"\n",
      "[1] \"Saved: /home/ylee/oRNAment/oRNAment_PFM_species_filtered/BOLL_PWM_2.txt\"\n",
      "[1] \"Saved: /home/ylee/oRNAment/oRNAment_PFM_species_filtered/BOLL_PWM_3.txt\"\n",
      "[1] \"Saved: /home/ylee/oRNAment/oRNAment_PFM_species_filtered/CELF1_PWM_0.txt\"\n",
      "[1] \"Saved: /home/ylee/oRNAment/oRNAment_PFM_species_filtered/CELF1_PWM_1.txt\"\n",
      "[1] \"Saved: /home/ylee/oRNAment/oRNAment_PFM_species_filtered/CELF1_PWM_2.txt\"\n",
      "[1] \"Saved: /home/ylee/oRNAment/oRNAment_PFM_species_filtered/CNOT4_PWM_0.txt\"\n",
      "[1] \"Saved: /home/ylee/oRNAment/oRNAment_PFM_species_filtered/CNOT4_PWM_1.txt\"\n",
      "[1] \"Saved: /home/ylee/oRNAment/oRNAment_PFM_species_filtered/CNOT4_PWM_2.txt\"\n",
      "[1] \"Saved: /home/ylee/oRNAment/oRNAment_PFM_species_filtered/CNOT4_PWM_3.txt\"\n",
      "[1] \"Saved: /home/ylee/oRNAment/oRNAment_PFM_species_filtered/Cnot4_PWM_M008.txt\"\n",
      "[1] \"Saved: /home/ylee/oRNAment/oRNAment_PFM_species_filtered/CNOT4_PWM_M147.txt\"\n",
      "[1] \"Saved: /home/ylee/oRNAment/oRNAment_PFM_species_filtered/CPEB1_PWM_0.txt\"\n",
      "[1] \"Saved: /home/ylee/oRNAment/oRNAment_PFM_species_filtered/CPEB2_PWM_M012.txt\"\n",
      "[1] \"Saved: /home/ylee/oRNAment/oRNAment_PFM_species_filtered/CPEB4_PWM_M149.txt\"\n",
      "[1] \"Saved: /home/ylee/oRNAment/oRNAment_PFM_species_filtered/DAZ3_PWM_0.txt\"\n",
      "[1] \"Saved: /home/ylee/oRNAment/oRNAment_PFM_species_filtered/DAZ3_PWM_1.txt\"\n",
      "[1] \"Saved: /home/ylee/oRNAment/oRNAment_PFM_species_filtered/DAZ3_PWM_2.txt\"\n",
      "[1] \"Saved: /home/ylee/oRNAment/oRNAment_PFM_species_filtered/DAZ3_PWM_3.txt\"\n",
      "[1] \"Saved: /home/ylee/oRNAment/oRNAment_PFM_species_filtered/DAZ3_PWM_4.txt\"\n",
      "[1] \"Saved: /home/ylee/oRNAment/oRNAment_PFM_species_filtered/DAZ3_PWM_5.txt\"\n",
      "[1] \"Saved: /home/ylee/oRNAment/oRNAment_PFM_species_filtered/DAZAP1_PWM_0.txt\"\n",
      "[1] \"Saved: /home/ylee/oRNAment/oRNAment_PFM_species_filtered/DAZAP1_PWM_1.txt\"\n",
      "[1] \"Saved: /home/ylee/oRNAment/oRNAment_PFM_species_filtered/DAZAP1_PWM_2.txt\"\n",
      "[1] \"Saved: /home/ylee/oRNAment/oRNAment_PFM_species_filtered/DAZAP1_PWM_M013.txt\"\n",
      "[1] \"Saved: /home/ylee/oRNAment/oRNAment_PFM_species_filtered/EIF4B_PWM_M290.txt\"\n",
      "[1] \"Saved: /home/ylee/oRNAment/oRNAment_PFM_species_filtered/EIF4B_PWM_M291.txt\"\n",
      "[1] \"Saved: /home/ylee/oRNAment/oRNAment_PFM_species_filtered/EIF4G2_PWM_0.txt\"\n",
      "[1] \"Saved: /home/ylee/oRNAment/oRNAment_PFM_species_filtered/EIF4G2_PWM_1.txt\"\n",
      "[1] \"Saved: /home/ylee/oRNAment/oRNAment_PFM_species_filtered/EIF4G2_PWM_2.txt\"\n",
      "[1] \"Saved: /home/ylee/oRNAment/oRNAment_PFM_species_filtered/EIF4G2_PWM_3.txt\"\n",
      "[1] \"Saved: /home/ylee/oRNAment/oRNAment_PFM_species_filtered/ELAVL1_PWM_M031.txt\"\n",
      "[1] \"Saved: /home/ylee/oRNAment/oRNAment_PFM_species_filtered/ELAVL1_PWM_M108.txt\"\n",
      "[1] \"Saved: /home/ylee/oRNAment/oRNAment_PFM_species_filtered/ELAVL1_PWM_M112.txt\"\n",
      "[1] \"Saved: /home/ylee/oRNAment/oRNAment_PFM_species_filtered/ELAVL1_PWM_M127.txt\"\n",
      "[1] \"Saved: /home/ylee/oRNAment/oRNAment_PFM_species_filtered/ELAVL1_PWM_M232.txt\"\n",
      "[1] \"Saved: /home/ylee/oRNAment/oRNAment_PFM_species_filtered/ELAVL4_PWM_0.txt\"\n",
      "[1] \"Saved: /home/ylee/oRNAment/oRNAment_PFM_species_filtered/ELAVL4_PWM_1.txt\"\n",
      "[1] \"Saved: /home/ylee/oRNAment/oRNAment_PFM_species_filtered/ELAVL4_PWM_2.txt\"\n",
      "[1] \"Saved: /home/ylee/oRNAment/oRNAment_PFM_species_filtered/ENOX1_PWM_M140.txt\"\n",
      "[1] \"Saved: /home/ylee/oRNAment/oRNAment_PFM_species_filtered/ESRP1_PWM_0.txt\"\n",
      "[1] \"Saved: /home/ylee/oRNAment/oRNAment_PFM_species_filtered/ESRP1_PWM_1.txt\"\n",
      "[1] \"Saved: /home/ylee/oRNAment/oRNAment_PFM_species_filtered/ESRP1_PWM_2.txt\"\n",
      "[1] \"Saved: /home/ylee/oRNAment/oRNAment_PFM_species_filtered/ESRP2_PWM_M141.txt\"\n",
      "[1] \"Saved: /home/ylee/oRNAment/oRNAment_PFM_species_filtered/EWSR1_PWM_0.txt\"\n",
      "[1] \"Saved: /home/ylee/oRNAment/oRNAment_PFM_species_filtered/EWSR1_PWM_1.txt\"\n",
      "[1] \"Saved: /home/ylee/oRNAment/oRNAment_PFM_species_filtered/EWSR1_PWM_2.txt\"\n",
      "[1] \"Saved: /home/ylee/oRNAment/oRNAment_PFM_species_filtered/EWSR1_PWM_3.txt\"\n",
      "[1] \"Saved: /home/ylee/oRNAment/oRNAment_PFM_species_filtered/Fmr1_PWM_M015.txt\"\n",
      "[1] \"Saved: /home/ylee/oRNAment/oRNAment_PFM_species_filtered/FMR1_PWM_M016.txt\"\n",
      "[1] \"Saved: /home/ylee/oRNAment/oRNAment_PFM_species_filtered/FUBP1_PWM_0.txt\"\n",
      "[1] \"Saved: /home/ylee/oRNAment/oRNAment_PFM_species_filtered/FUBP1_PWM_1.txt\"\n",
      "[1] \"Saved: /home/ylee/oRNAment/oRNAment_PFM_species_filtered/FUBP1_PWM_2.txt\"\n",
      "[1] \"Saved: /home/ylee/oRNAment/oRNAment_PFM_species_filtered/FUBP1_PWM_3.txt\"\n",
      "[1] \"Saved: /home/ylee/oRNAment/oRNAment_PFM_species_filtered/FUBP3_PWM_0.txt\"\n",
      "[1] \"Saved: /home/ylee/oRNAment/oRNAment_PFM_species_filtered/FUBP3_PWM_1.txt\"\n",
      "[1] \"Saved: /home/ylee/oRNAment/oRNAment_PFM_species_filtered/FUS_PWM_0.txt\"\n",
      "[1] \"Saved: /home/ylee/oRNAment/oRNAment_PFM_species_filtered/FXR2_PWM_M020.txt\"\n",
      "[1] \"Saved: /home/ylee/oRNAment/oRNAment_PFM_species_filtered/G3BP2_PWM_M021.txt\"\n",
      "[1] \"Saved: /home/ylee/oRNAment/oRNAment_PFM_species_filtered/HNRNPA0_PWM_0.txt\"\n",
      "[1] \"Saved: /home/ylee/oRNAment/oRNAment_PFM_species_filtered/HNRNPA0_PWM_1.txt\"\n",
      "[1] \"Saved: /home/ylee/oRNAment/oRNAment_PFM_species_filtered/HNRNPA0_PWM_2.txt\"\n",
      "[1] \"Saved: /home/ylee/oRNAment/oRNAment_PFM_species_filtered/HNRNPA0_PWM_3.txt\"\n",
      "[1] \"Saved: /home/ylee/oRNAment/oRNAment_PFM_species_filtered/HNRNPA1_PWM_M022.txt\"\n",
      "[1] \"Saved: /home/ylee/oRNAment/oRNAment_PFM_species_filtered/HNRNPA1L2_PWM_M023.txt\"\n",
      "[1] \"Saved: /home/ylee/oRNAment/oRNAment_PFM_species_filtered/HNRNPA2B1_PWM_0.txt\"\n",
      "[1] \"Saved: /home/ylee/oRNAment/oRNAment_PFM_species_filtered/HNRNPA2B1_PWM_1.txt\"\n",
      "[1] \"Saved: /home/ylee/oRNAment/oRNAment_PFM_species_filtered/HNRNPA2B1_PWM_M024.txt\"\n",
      "[1] \"Saved: /home/ylee/oRNAment/oRNAment_PFM_species_filtered/HNRNPAB_PWM_M210.txt\"\n",
      "[1] \"Saved: /home/ylee/oRNAment/oRNAment_PFM_species_filtered/HNRNPC_PWM_0.txt\"\n",
      "[1] \"Saved: /home/ylee/oRNAment/oRNAment_PFM_species_filtered/HNRNPC_PWM_1.txt\"\n",
      "[1] \"Saved: /home/ylee/oRNAment/oRNAment_PFM_species_filtered/HNRNPC_PWM_M025.txt\"\n",
      "[1] \"Saved: /home/ylee/oRNAment/oRNAment_PFM_species_filtered/HNRNPCL1_PWM_0.txt\"\n",
      "[1] \"Saved: /home/ylee/oRNAment/oRNAment_PFM_species_filtered/HNRNPCL1_PWM_1.txt\"\n",
      "[1] \"Saved: /home/ylee/oRNAment/oRNAment_PFM_species_filtered/HNRNPCL1_PWM_M158.txt\"\n",
      "[1] \"Saved: /home/ylee/oRNAment/oRNAment_PFM_species_filtered/HNRNPD_PWM_0.txt\"\n",
      "[1] \"Saved: /home/ylee/oRNAment/oRNAment_PFM_species_filtered/HNRNPD_PWM_1.txt\"\n",
      "[1] \"Saved: /home/ylee/oRNAment/oRNAment_PFM_species_filtered/HNRNPD_PWM_2.txt\"\n",
      "[1] \"Saved: /home/ylee/oRNAment/oRNAment_PFM_species_filtered/HNRNPDL_PWM_0.txt\"\n",
      "[1] \"Saved: /home/ylee/oRNAment/oRNAment_PFM_species_filtered/HNRNPDL_PWM_1.txt\"\n",
      "[1] \"Saved: /home/ylee/oRNAment/oRNAment_PFM_species_filtered/HNRNPF_PWM_0.txt\"\n",
      "[1] \"Saved: /home/ylee/oRNAment/oRNAment_PFM_species_filtered/HNRNPF_PWM_1.txt\"\n",
      "[1] \"Saved: /home/ylee/oRNAment/oRNAment_PFM_species_filtered/HNRNPF_PWM_2.txt\"\n",
      "[1] \"Saved: /home/ylee/oRNAment/oRNAment_PFM_species_filtered/HNRNPH2_PWM_0.txt\"\n",
      "[1] \"Saved: /home/ylee/oRNAment/oRNAment_PFM_species_filtered/HNRNPH2_PWM_1.txt\"\n",
      "[1] \"Saved: /home/ylee/oRNAment/oRNAment_PFM_species_filtered/HNRNPH2_PWM_M151.txt\"\n",
      "[1] \"Saved: /home/ylee/oRNAment/oRNAment_PFM_species_filtered/HNRNPK_PWM_0.txt\"\n",
      "[1] \"Saved: /home/ylee/oRNAment/oRNAment_PFM_species_filtered/HNRNPK_PWM_1.txt\"\n",
      "[1] \"Saved: /home/ylee/oRNAment/oRNAment_PFM_species_filtered/HNRNPK_PWM_2.txt\"\n",
      "[1] \"Saved: /home/ylee/oRNAment/oRNAment_PFM_species_filtered/HNRNPK_PWM_3.txt\"\n",
      "[1] \"Saved: /home/ylee/oRNAment/oRNAment_PFM_species_filtered/HNRNPL_PWM_0.txt\"\n",
      "[1] \"Saved: /home/ylee/oRNAment/oRNAment_PFM_species_filtered/HNRNPL_PWM_1.txt\"\n",
      "[1] \"Saved: /home/ylee/oRNAment/oRNAment_PFM_species_filtered/HNRNPL_PWM_M027.txt\"\n",
      "[1] \"Saved: /home/ylee/oRNAment/oRNAment_PFM_species_filtered/HNRNPL_PWM_M089.txt\"\n",
      "[1] \"Saved: /home/ylee/oRNAment/oRNAment_PFM_species_filtered/IGF2BP1_PWM_0.txt\"\n",
      "[1] \"Saved: /home/ylee/oRNAment/oRNAment_PFM_species_filtered/IGF2BP1_PWM_1.txt\"\n",
      "[1] \"Saved: /home/ylee/oRNAment/oRNAment_PFM_species_filtered/IGF2BP1_PWM_2.txt\"\n",
      "[1] \"Saved: /home/ylee/oRNAment/oRNAment_PFM_species_filtered/IGF2BP2_PWM_0.txt\"\n",
      "[1] \"Saved: /home/ylee/oRNAment/oRNAment_PFM_species_filtered/IGF2BP2_PWM_1.txt\"\n",
      "[1] \"Saved: /home/ylee/oRNAment/oRNAment_PFM_species_filtered/IGF2BP2_PWM_2.txt\"\n",
      "[1] \"Saved: /home/ylee/oRNAment/oRNAment_PFM_species_filtered/IGF2BP2_PWM_3.txt\"\n",
      "[1] \"Saved: /home/ylee/oRNAment/oRNAment_PFM_species_filtered/IGF2BP2_PWM_M032.txt\"\n",
      "[1] \"Saved: /home/ylee/oRNAment/oRNAment_PFM_species_filtered/IGF2BP3_PWM_M163.txt\"\n",
      "[1] \"Saved: /home/ylee/oRNAment/oRNAment_PFM_species_filtered/ILF2_PWM_0.txt\"\n",
      "[1] \"Saved: /home/ylee/oRNAment/oRNAment_PFM_species_filtered/ILF2_PWM_1.txt\"\n",
      "[1] \"Saved: /home/ylee/oRNAment/oRNAment_PFM_species_filtered/ILF2_PWM_2.txt\"\n",
      "[1] \"Saved: /home/ylee/oRNAment/oRNAment_PFM_species_filtered/Khdrbs1_PWM_M060.txt\"\n",
      "[1] \"Saved: /home/ylee/oRNAment/oRNAment_PFM_species_filtered/KHDRBS1_PWM_M160.txt\"\n",
      "[1] \"Saved: /home/ylee/oRNAment/oRNAment_PFM_species_filtered/KHDRBS2_PWM_0.txt\"\n",
      "[1] \"Saved: /home/ylee/oRNAment/oRNAment_PFM_species_filtered/KHDRBS2_PWM_1.txt\"\n",
      "[1] \"Saved: /home/ylee/oRNAment/oRNAment_PFM_species_filtered/KHDRBS2_PWM_2.txt\"\n",
      "[1] \"Saved: /home/ylee/oRNAment/oRNAment_PFM_species_filtered/KHDRBS2_PWM_M176.txt\"\n",
      "[1] \"Saved: /home/ylee/oRNAment/oRNAment_PFM_species_filtered/KHDRBS3_PWM_0.txt\"\n",
      "[1] \"Saved: /home/ylee/oRNAment/oRNAment_PFM_species_filtered/KHDRBS3_PWM_1.txt\"\n",
      "[1] \"Saved: /home/ylee/oRNAment/oRNAment_PFM_species_filtered/KHDRBS3_PWM_2.txt\"\n",
      "[1] \"Saved: /home/ylee/oRNAment/oRNAment_PFM_species_filtered/KHDRBS3_PWM_3.txt\"\n",
      "[1] \"Saved: /home/ylee/oRNAment/oRNAment_PFM_species_filtered/KHSRP_PWM_0.txt\"\n",
      "[1] \"Saved: /home/ylee/oRNAment/oRNAment_PFM_species_filtered/KHSRP_PWM_1.txt\"\n",
      "[1] \"Saved: /home/ylee/oRNAment/oRNAment_PFM_species_filtered/LIN28A_PWM_M035.txt\"\n",
      "[1] \"Saved: /home/ylee/oRNAment/oRNAment_PFM_species_filtered/LIN28A_PWM_M153.txt\"\n",
      "[1] \"Saved: /home/ylee/oRNAment/oRNAment_PFM_species_filtered/MATR3_PWM_M036.txt\"\n",
      "[1] \"Saved: /home/ylee/oRNAment/oRNAment_PFM_species_filtered/MBNL1_PWM_0.txt\"\n",
      "[1] \"Saved: /home/ylee/oRNAment/oRNAment_PFM_species_filtered/MBNL1_PWM_1.txt\"\n",
      "[1] \"Saved: /home/ylee/oRNAment/oRNAment_PFM_species_filtered/MBNL1_PWM_2.txt\"\n",
      "[1] \"Saved: /home/ylee/oRNAment/oRNAment_PFM_species_filtered/MBNL1_PWM_3.txt\"\n",
      "[1] \"Saved: /home/ylee/oRNAment/oRNAment_PFM_species_filtered/MBNL1_PWM_M037.txt\"\n",
      "[1] \"Saved: /home/ylee/oRNAment/oRNAment_PFM_species_filtered/MSI1_PWM_0.txt\"\n",
      "[1] \"Saved: /home/ylee/oRNAment/oRNAment_PFM_species_filtered/MSI1_PWM_1.txt\"\n",
      "[1] \"Saved: /home/ylee/oRNAment/oRNAment_PFM_species_filtered/MSI1_PWM_2.txt\"\n",
      "[1] \"Saved: /home/ylee/oRNAment/oRNAment_PFM_species_filtered/MSI1_PWM_M040.txt\"\n",
      "[1] \"Saved: /home/ylee/oRNAment/oRNAment_PFM_species_filtered/MSI1_PWM_M167.txt\"\n",
      "[1] \"Saved: /home/ylee/oRNAment/oRNAment_PFM_species_filtered/NOVA1_PWM_0.txt\"\n",
      "[1] \"Saved: /home/ylee/oRNAment/oRNAment_PFM_species_filtered/NOVA1_PWM_1.txt\"\n",
      "[1] \"Saved: /home/ylee/oRNAment/oRNAment_PFM_species_filtered/NOVA1_PWM_2.txt\"\n",
      "[1] \"Saved: /home/ylee/oRNAment/oRNAment_PFM_species_filtered/NOVA1_PWM_3.txt\"\n",
      "[1] \"Saved: /home/ylee/oRNAment/oRNAment_PFM_species_filtered/PABPC1_PWM_M146.txt\"\n",
      "[1] \"Saved: /home/ylee/oRNAment/oRNAment_PFM_species_filtered/PABPC1_PWM_M349.txt\"\n",
      "[1] \"Saved: /home/ylee/oRNAment/oRNAment_PFM_species_filtered/PABPC3_PWM_M144.txt\"\n",
      "[1] \"Saved: /home/ylee/oRNAment/oRNAment_PFM_species_filtered/PABPC4_PWM_M042.txt\"\n",
      "[1] \"Saved: /home/ylee/oRNAment/oRNAment_PFM_species_filtered/PABPC5_PWM_M162.txt\"\n",
      "[1] \"Saved: /home/ylee/oRNAment/oRNAment_PFM_species_filtered/PABPN1_PWM_M148.txt\"\n",
      "[1] \"Saved: /home/ylee/oRNAment/oRNAment_PFM_species_filtered/PABPN1L_PWM_0.txt\"\n",
      "[1] \"Saved: /home/ylee/oRNAment/oRNAment_PFM_species_filtered/PABPN1L_PWM_1.txt\"\n",
      "[1] \"Saved: /home/ylee/oRNAment/oRNAment_PFM_species_filtered/PCBP1_PWM_0.txt\"\n",
      "[1] \"Saved: /home/ylee/oRNAment/oRNAment_PFM_species_filtered/PCBP1_PWM_1.txt\"\n",
      "[1] \"Saved: /home/ylee/oRNAment/oRNAment_PFM_species_filtered/PCBP1_PWM_2.txt\"\n",
      "[1] \"Saved: /home/ylee/oRNAment/oRNAment_PFM_species_filtered/PCBP1_PWM_3.txt\"\n",
      "[1] \"Saved: /home/ylee/oRNAment/oRNAment_PFM_species_filtered/PCBP1_PWM_M177.txt\"\n",
      "[1] \"Saved: /home/ylee/oRNAment/oRNAment_PFM_species_filtered/PCBP2_PWM_0.txt\"\n",
      "[1] \"Saved: /home/ylee/oRNAment/oRNAment_PFM_species_filtered/PCBP2_PWM_1.txt\"\n",
      "[1] \"Saved: /home/ylee/oRNAment/oRNAment_PFM_species_filtered/PCBP2_PWM_2.txt\"\n",
      "[1] \"Saved: /home/ylee/oRNAment/oRNAment_PFM_species_filtered/PCBP2_PWM_3.txt\"\n",
      "[1] \"Saved: /home/ylee/oRNAment/oRNAment_PFM_species_filtered/PCBP2_PWM_4.txt\"\n",
      "[1] \"Saved: /home/ylee/oRNAment/oRNAment_PFM_species_filtered/PCBP2_PWM_M043.txt\"\n",
      "[1] \"Saved: /home/ylee/oRNAment/oRNAment_PFM_species_filtered/PCBP4_PWM_0.txt\"\n",
      "[1] \"Saved: /home/ylee/oRNAment/oRNAment_PFM_species_filtered/PCBP4_PWM_1.txt\"\n",
      "[1] \"Saved: /home/ylee/oRNAment/oRNAment_PFM_species_filtered/PCBP4_PWM_2.txt\"\n",
      "[1] \"Saved: /home/ylee/oRNAment/oRNAment_PFM_species_filtered/PPRC1_PWM_M044.txt\"\n",
      "[1] \"Saved: /home/ylee/oRNAment/oRNAment_PFM_species_filtered/PRR3_PWM_0.txt\"\n",
      "[1] \"Saved: /home/ylee/oRNAment/oRNAment_PFM_species_filtered/PRR3_PWM_1.txt\"\n",
      "[1] \"Saved: /home/ylee/oRNAment/oRNAment_PFM_species_filtered/PRR3_PWM_2.txt\"\n",
      "[1] \"Saved: /home/ylee/oRNAment/oRNAment_PFM_species_filtered/PTBP1_PWM_M227.txt\"\n",
      "[1] \"Saved: /home/ylee/oRNAment/oRNAment_PFM_species_filtered/PTBP1_PWM_M228.txt\"\n",
      "[1] \"Saved: /home/ylee/oRNAment/oRNAment_PFM_species_filtered/PTBP3_PWM_0.txt\"\n",
      "[1] \"Saved: /home/ylee/oRNAment/oRNAment_PFM_species_filtered/PTBP3_PWM_1.txt\"\n",
      "[1] \"Saved: /home/ylee/oRNAment/oRNAment_PFM_species_filtered/PUF60_PWM_0.txt\"\n",
      "[1] \"Saved: /home/ylee/oRNAment/oRNAment_PFM_species_filtered/PUF60_PWM_1.txt\"\n",
      "[1] \"Saved: /home/ylee/oRNAment/oRNAment_PFM_species_filtered/PUM1_PWM_0.txt\"\n",
      "[1] \"Saved: /home/ylee/oRNAment/oRNAment_PFM_species_filtered/PUM1_PWM_1.txt\"\n",
      "[1] \"Saved: /home/ylee/oRNAment/oRNAment_PFM_species_filtered/QKI_PWM_M046.txt\"\n",
      "[1] \"Saved: /home/ylee/oRNAment/oRNAment_PFM_species_filtered/QKI_PWM_M262.txt\"\n",
      "[1] \"Saved: /home/ylee/oRNAment/oRNAment_PFM_species_filtered/RALY_PWM_M150.txt\"\n",
      "[1] \"Saved: /home/ylee/oRNAment/oRNAment_PFM_species_filtered/RALYL_PWM_0.txt\"\n",
      "[1] \"Saved: /home/ylee/oRNAment/oRNAment_PFM_species_filtered/RALYL_PWM_1.txt\"\n",
      "[1] \"Saved: /home/ylee/oRNAment/oRNAment_PFM_species_filtered/RBFOX2_PWM_0.txt\"\n",
      "[1] \"Saved: /home/ylee/oRNAment/oRNAment_PFM_species_filtered/RBFOX3_PWM_0.txt\"\n",
      "[1] \"Saved: /home/ylee/oRNAment/oRNAment_PFM_species_filtered/RBM3_PWM_M048.txt\"\n",
      "[1] \"Saved: /home/ylee/oRNAment/oRNAment_PFM_species_filtered/RBM4_PWM_0.txt\"\n",
      "[1] \"Saved: /home/ylee/oRNAment/oRNAment_PFM_species_filtered/RBM4_PWM_1.txt\"\n",
      "[1] \"Saved: /home/ylee/oRNAment/oRNAment_PFM_species_filtered/RBM4_PWM_2.txt\"\n",
      "[1] \"Saved: /home/ylee/oRNAment/oRNAment_PFM_species_filtered/RBM4_PWM_M050.txt\"\n",
      "[1] \"Saved: /home/ylee/oRNAment/oRNAment_PFM_species_filtered/RBM4_PWM_M109.txt\"\n",
      "[1] \"Saved: /home/ylee/oRNAment/oRNAment_PFM_species_filtered/RBM4B_PWM_0.txt\"\n",
      "[1] \"Saved: /home/ylee/oRNAment/oRNAment_PFM_species_filtered/RBM4B_PWM_1.txt\"\n",
      "[1] \"Saved: /home/ylee/oRNAment/oRNAment_PFM_species_filtered/RBM4B_PWM_2.txt\"\n",
      "[1] \"Saved: /home/ylee/oRNAment/oRNAment_PFM_species_filtered/RBM4B_PWM_3.txt\"\n",
      "[1] \"Saved: /home/ylee/oRNAment/oRNAment_PFM_species_filtered/RBM5_PWM_M053.txt\"\n",
      "[1] \"Saved: /home/ylee/oRNAment/oRNAment_PFM_species_filtered/RBM5_PWM_M145.txt\"\n",
      "[1] \"Saved: /home/ylee/oRNAment/oRNAment_PFM_species_filtered/RBM6_PWM_0.txt\"\n",
      "[1] \"Saved: /home/ylee/oRNAment/oRNAment_PFM_species_filtered/RBM6_PWM_1.txt\"\n",
      "[1] \"Saved: /home/ylee/oRNAment/oRNAment_PFM_species_filtered/RBM6_PWM_2.txt\"\n",
      "[1] \"Saved: /home/ylee/oRNAment/oRNAment_PFM_species_filtered/RBM6_PWM_3.txt\"\n",
      "[1] \"Saved: /home/ylee/oRNAment/oRNAment_PFM_species_filtered/RBM6_PWM_M161.txt\"\n",
      "[1] \"Saved: /home/ylee/oRNAment/oRNAment_PFM_species_filtered/RBM8A_PWM_M054.txt\"\n",
      "[1] \"Saved: /home/ylee/oRNAment/oRNAment_PFM_species_filtered/RBM15B_PWM_0.txt\"\n",
      "[1] \"Saved: /home/ylee/oRNAment/oRNAment_PFM_species_filtered/RBM15B_PWM_1.txt\"\n",
      "[1] \"Saved: /home/ylee/oRNAment/oRNAment_PFM_species_filtered/RBM15B_PWM_2.txt\"\n",
      "[1] \"Saved: /home/ylee/oRNAment/oRNAment_PFM_species_filtered/RBM22_PWM_0.txt\"\n",
      "[1] \"Saved: /home/ylee/oRNAment/oRNAment_PFM_species_filtered/RBM23_PWM_0.txt\"\n",
      "[1] \"Saved: /home/ylee/oRNAment/oRNAment_PFM_species_filtered/RBM23_PWM_1.txt\"\n",
      "[1] \"Saved: /home/ylee/oRNAment/oRNAment_PFM_species_filtered/RBM24_PWM_0.txt\"\n",
      "[1] \"Saved: /home/ylee/oRNAment/oRNAment_PFM_species_filtered/RBM24_PWM_1.txt\"\n",
      "[1] \"Saved: /home/ylee/oRNAment/oRNAment_PFM_species_filtered/RBM24_PWM_M175.txt\"\n",
      "[1] \"Saved: /home/ylee/oRNAment/oRNAment_PFM_species_filtered/RBM25_PWM_0.txt\"\n",
      "[1] \"Saved: /home/ylee/oRNAment/oRNAment_PFM_species_filtered/RBM25_PWM_1.txt\"\n",
      "[1] \"Saved: /home/ylee/oRNAment/oRNAment_PFM_species_filtered/RBM25_PWM_2.txt\"\n",
      "[1] \"Saved: /home/ylee/oRNAment/oRNAment_PFM_species_filtered/RBM28_PWM_M047.txt\"\n",
      "[1] \"Saved: /home/ylee/oRNAment/oRNAment_PFM_species_filtered/Rbm38_PWM_M049.txt\"\n",
      "[1] \"Saved: /home/ylee/oRNAment/oRNAment_PFM_species_filtered/RBM41_PWM_0.txt\"\n",
      "[1] \"Saved: /home/ylee/oRNAment/oRNAment_PFM_species_filtered/RBM41_PWM_1.txt\"\n",
      "[1] \"Saved: /home/ylee/oRNAment/oRNAment_PFM_species_filtered/RBM41_PWM_M051.txt\"\n",
      "[1] \"Saved: /home/ylee/oRNAment/oRNAment_PFM_species_filtered/RBM42_PWM_M142.txt\"\n",
      "[1] \"Saved: /home/ylee/oRNAment/oRNAment_PFM_species_filtered/RBM45_PWM_0.txt\"\n",
      "[1] \"Saved: /home/ylee/oRNAment/oRNAment_PFM_species_filtered/RBM45_PWM_1.txt\"\n",
      "[1] \"Saved: /home/ylee/oRNAment/oRNAment_PFM_species_filtered/RBM45_PWM_2.txt\"\n",
      "[1] \"Saved: /home/ylee/oRNAment/oRNAment_PFM_species_filtered/RBM45_PWM_3.txt\"\n",
      "[1] \"Saved: /home/ylee/oRNAment/oRNAment_PFM_species_filtered/RBM45_PWM_4.txt\"\n",
      "[1] \"Saved: /home/ylee/oRNAment/oRNAment_PFM_species_filtered/RBM45_PWM_5.txt\"\n",
      "[1] \"Saved: /home/ylee/oRNAment/oRNAment_PFM_species_filtered/Rbm45_PWM_M209.txt\"\n",
      "[1] \"Saved: /home/ylee/oRNAment/oRNAment_PFM_species_filtered/RBM46_PWM_M052.txt\"\n",
      "[1] \"Saved: /home/ylee/oRNAment/oRNAment_PFM_species_filtered/RBM47_PWM_0.txt\"\n",
      "[1] \"Saved: /home/ylee/oRNAment/oRNAment_PFM_species_filtered/RBM47_PWM_1.txt\"\n",
      "[1] \"Saved: /home/ylee/oRNAment/oRNAment_PFM_species_filtered/RBMS1_PWM_M143.txt\"\n",
      "[1] \"Saved: /home/ylee/oRNAment/oRNAment_PFM_species_filtered/RBMS2_PWM_0.txt\"\n",
      "[1] \"Saved: /home/ylee/oRNAment/oRNAment_PFM_species_filtered/RBMS2_PWM_1.txt\"\n",
      "[1] \"Saved: /home/ylee/oRNAment/oRNAment_PFM_species_filtered/RBMS2_PWM_2.txt\"\n",
      "[1] \"Saved: /home/ylee/oRNAment/oRNAment_PFM_species_filtered/RBMS3_PWM_0.txt\"\n",
      "[1] \"Saved: /home/ylee/oRNAment/oRNAment_PFM_species_filtered/RBMS3_PWM_1.txt\"\n",
      "[1] \"Saved: /home/ylee/oRNAment/oRNAment_PFM_species_filtered/RBMS3_PWM_2.txt\"\n",
      "[1] \"Saved: /home/ylee/oRNAment/oRNAment_PFM_species_filtered/RBMS3_PWM_3.txt\"\n",
      "[1] \"Saved: /home/ylee/oRNAment/oRNAment_PFM_species_filtered/RBMS3_PWM_M055.txt\"\n",
      "[1] \"Saved: /home/ylee/oRNAment/oRNAment_PFM_species_filtered/RBMS3_PWM_M164.txt\"\n",
      "[1] \"Saved: /home/ylee/oRNAment/oRNAment_PFM_species_filtered/Rbp1_PWM_M056.txt\"\n",
      "[1] \"Saved: /home/ylee/oRNAment/oRNAment_PFM_species_filtered/RC3H1_PWM_0.txt\"\n",
      "[1] \"Saved: /home/ylee/oRNAment/oRNAment_PFM_species_filtered/RC3H1_PWM_1.txt\"\n",
      "[1] \"Saved: /home/ylee/oRNAment/oRNAment_PFM_species_filtered/RC3H1_PWM_2.txt\"\n",
      "[1] \"Saved: /home/ylee/oRNAment/oRNAment_PFM_species_filtered/RC3H1_PWM_3.txt\"\n",
      "[1] \"Saved: /home/ylee/oRNAment/oRNAment_PFM_species_filtered/Rsf1_PWM_M059.txt\"\n",
      "[1] \"Saved: /home/ylee/oRNAment/oRNAment_PFM_species_filtered/SAMD4A_PWM_M061.txt\"\n",
      "[1] \"Saved: /home/ylee/oRNAment/oRNAment_PFM_species_filtered/SART3_PWM_M062.txt\"\n",
      "[1] \"Saved: /home/ylee/oRNAment/oRNAment_PFM_species_filtered/SF1_PWM_0.txt\"\n",
      "[1] \"Saved: /home/ylee/oRNAment/oRNAment_PFM_species_filtered/SF1_PWM_1.txt\"\n",
      "[1] \"Saved: /home/ylee/oRNAment/oRNAment_PFM_species_filtered/SF1_PWM_2.txt\"\n",
      "[1] \"Saved: /home/ylee/oRNAment/oRNAment_PFM_species_filtered/SFPQ_PWM_0.txt\"\n",
      "[1] \"Saved: /home/ylee/oRNAment/oRNAment_PFM_species_filtered/SFPQ_PWM_1.txt\"\n",
      "[1] \"Saved: /home/ylee/oRNAment/oRNAment_PFM_species_filtered/SFPQ_PWM_2.txt\"\n",
      "[1] \"Saved: /home/ylee/oRNAment/oRNAment_PFM_species_filtered/SFPQ_PWM_3.txt\"\n",
      "[1] \"Saved: /home/ylee/oRNAment/oRNAment_PFM_species_filtered/SFPQ_PWM_4.txt\"\n",
      "[1] \"Saved: /home/ylee/oRNAment/oRNAment_PFM_species_filtered/SFPQ_PWM_5.txt\"\n",
      "[1] \"Saved: /home/ylee/oRNAment/oRNAment_PFM_species_filtered/SFPQ_PWM_M168.txt\"\n",
      "[1] \"Saved: /home/ylee/oRNAment/oRNAment_PFM_species_filtered/SNRNP70_PWM_M068.txt\"\n",
      "[1] \"Saved: /home/ylee/oRNAment/oRNAment_PFM_species_filtered/SNRPA_PWM_0.txt\"\n",
      "[1] \"Saved: /home/ylee/oRNAment/oRNAment_PFM_species_filtered/SNRPA_PWM_1.txt\"\n",
      "[1] \"Saved: /home/ylee/oRNAment/oRNAment_PFM_species_filtered/SNRPA_PWM_M069.txt\"\n",
      "[1] \"Saved: /home/ylee/oRNAment/oRNAment_PFM_species_filtered/SNRPA_PWM_M318.txt\"\n",
      "[1] \"Saved: /home/ylee/oRNAment/oRNAment_PFM_species_filtered/SNRPA_PWM_M319.txt\"\n",
      "[1] \"Saved: /home/ylee/oRNAment/oRNAment_PFM_species_filtered/SNRPA_PWM_M348.txt\"\n",
      "[1] \"Saved: /home/ylee/oRNAment/oRNAment_PFM_species_filtered/SRSF1_PWM_M102.txt\"\n",
      "[1] \"Saved: /home/ylee/oRNAment/oRNAment_PFM_species_filtered/SRSF1_PWM_M103.txt\"\n",
      "[1] \"Saved: /home/ylee/oRNAment/oRNAment_PFM_species_filtered/SRSF1_PWM_M104.txt\"\n",
      "[1] \"Saved: /home/ylee/oRNAment/oRNAment_PFM_species_filtered/SRSF1_PWM_M105.txt\"\n",
      "[1] \"Saved: /home/ylee/oRNAment/oRNAment_PFM_species_filtered/SRSF1_PWM_M154.txt\"\n",
      "[1] \"Saved: /home/ylee/oRNAment/oRNAment_PFM_species_filtered/SRSF1_PWM_M273.txt\"\n",
      "[1] \"Saved: /home/ylee/oRNAment/oRNAment_PFM_species_filtered/SRSF2_PWM_0.txt\"\n",
      "[1] \"Saved: /home/ylee/oRNAment/oRNAment_PFM_species_filtered/SRSF2_PWM_1.txt\"\n",
      "[1] \"Saved: /home/ylee/oRNAment/oRNAment_PFM_species_filtered/SRSF2_PWM_2.txt\"\n",
      "[1] \"Saved: /home/ylee/oRNAment/oRNAment_PFM_species_filtered/SRSF2_PWM_3.txt\"\n",
      "[1] \"Saved: /home/ylee/oRNAment/oRNAment_PFM_species_filtered/SRSF4_PWM_0.txt\"\n",
      "[1] \"Saved: /home/ylee/oRNAment/oRNAment_PFM_species_filtered/SRSF4_PWM_1.txt\"\n",
      "[1] \"Saved: /home/ylee/oRNAment/oRNAment_PFM_species_filtered/SRSF4_PWM_2.txt\"\n",
      "[1] \"Saved: /home/ylee/oRNAment/oRNAment_PFM_species_filtered/SRSF5_PWM_0.txt\"\n",
      "[1] \"Saved: /home/ylee/oRNAment/oRNAment_PFM_species_filtered/SRSF5_PWM_1.txt\"\n",
      "[1] \"Saved: /home/ylee/oRNAment/oRNAment_PFM_species_filtered/SRSF5_PWM_2.txt\"\n",
      "[1] \"Saved: /home/ylee/oRNAment/oRNAment_PFM_species_filtered/SRSF5_PWM_3.txt\"\n",
      "[1] \"Saved: /home/ylee/oRNAment/oRNAment_PFM_species_filtered/SRSF5_PWM_4.txt\"\n",
      "[1] \"Saved: /home/ylee/oRNAment/oRNAment_PFM_species_filtered/SRSF8_PWM_0.txt\"\n",
      "[1] \"Saved: /home/ylee/oRNAment/oRNAment_PFM_species_filtered/SRSF8_PWM_1.txt\"\n",
      "[1] \"Saved: /home/ylee/oRNAment/oRNAment_PFM_species_filtered/SRSF9_PWM_0.txt\"\n",
      "[1] \"Saved: /home/ylee/oRNAment/oRNAment_PFM_species_filtered/SRSF9_PWM_1.txt\"\n",
      "[1] \"Saved: /home/ylee/oRNAment/oRNAment_PFM_species_filtered/SRSF9_PWM_2.txt\"\n",
      "[1] \"Saved: /home/ylee/oRNAment/oRNAment_PFM_species_filtered/SRSF9_PWM_M065.txt\"\n",
      "[1] \"Saved: /home/ylee/oRNAment/oRNAment_PFM_species_filtered/SRSF9_PWM_M072.txt\"\n",
      "[1] \"Saved: /home/ylee/oRNAment/oRNAment_PFM_species_filtered/SRSF10_PWM_0.txt\"\n",
      "[1] \"Saved: /home/ylee/oRNAment/oRNAment_PFM_species_filtered/SRSF10_PWM_1.txt\"\n",
      "[1] \"Saved: /home/ylee/oRNAment/oRNAment_PFM_species_filtered/SRSF11_PWM_0.txt\"\n",
      "[1] \"Saved: /home/ylee/oRNAment/oRNAment_PFM_species_filtered/SRSF11_PWM_1.txt\"\n",
      "[1] \"Saved: /home/ylee/oRNAment/oRNAment_PFM_species_filtered/TAF15_PWM_0.txt\"\n",
      "[1] \"Saved: /home/ylee/oRNAment/oRNAment_PFM_species_filtered/TAF15_PWM_1.txt\"\n",
      "[1] \"Saved: /home/ylee/oRNAment/oRNAment_PFM_species_filtered/TAF15_PWM_2.txt\"\n",
      "[1] \"Saved: /home/ylee/oRNAment/oRNAment_PFM_species_filtered/TARDBP_PWM_0.txt\"\n",
      "[1] \"Saved: /home/ylee/oRNAment/oRNAment_PFM_species_filtered/TARDBP_PWM_1.txt\"\n",
      "[1] \"Saved: /home/ylee/oRNAment/oRNAment_PFM_species_filtered/TIA1_PWM_0.txt\"\n",
      "[1] \"Saved: /home/ylee/oRNAment/oRNAment_PFM_species_filtered/TIA1_PWM_2.txt\"\n",
      "[1] \"Saved: /home/ylee/oRNAment/oRNAment_PFM_species_filtered/TIA1_PWM_M075.txt\"\n",
      "[1] \"Saved: /home/ylee/oRNAment/oRNAment_PFM_species_filtered/TIA1_PWM_M156.txt\"\n",
      "[1] \"Saved: /home/ylee/oRNAment/oRNAment_PFM_species_filtered/TRA2A_PWM_0.txt\"\n",
      "[1] \"Saved: /home/ylee/oRNAment/oRNAment_PFM_species_filtered/TRA2A_PWM_1.txt\"\n",
      "[1] \"Saved: /home/ylee/oRNAment/oRNAment_PFM_species_filtered/TRNAU1AP_PWM_0.txt\"\n",
      "[1] \"Saved: /home/ylee/oRNAment/oRNAment_PFM_species_filtered/TRNAU1AP_PWM_1.txt\"\n",
      "[1] \"Saved: /home/ylee/oRNAment/oRNAment_PFM_species_filtered/TRNAU1AP_PWM_2.txt\"\n",
      "[1] \"Saved: /home/ylee/oRNAment/oRNAment_PFM_species_filtered/U2AF2_PWM_M077.txt\"\n",
      "[1] \"Saved: /home/ylee/oRNAment/oRNAment_PFM_species_filtered/UNK_PWM_0.txt\"\n",
      "[1] \"Saved: /home/ylee/oRNAment/oRNAment_PFM_species_filtered/UNK_PWM_1.txt\"\n",
      "[1] \"Saved: /home/ylee/oRNAment/oRNAment_PFM_species_filtered/UNK_PWM_2.txt\"\n",
      "[1] \"Saved: /home/ylee/oRNAment/oRNAment_PFM_species_filtered/UNK_PWM_3.txt\"\n",
      "[1] \"Saved: /home/ylee/oRNAment/oRNAment_PFM_species_filtered/YBX2_PWM_M082.txt\"\n",
      "[1] \"Saved: /home/ylee/oRNAment/oRNAment_PFM_species_filtered/ZC3H10_PWM_M083.txt\"\n",
      "[1] \"Saved: /home/ylee/oRNAment/oRNAment_PFM_species_filtered/ZCRB1_PWM_0.txt\"\n",
      "[1] \"Saved: /home/ylee/oRNAment/oRNAment_PFM_species_filtered/ZCRB1_PWM_1.txt\"\n",
      "[1] \"Saved: /home/ylee/oRNAment/oRNAment_PFM_species_filtered/ZFP36_PWM_0.txt\"\n",
      "[1] \"Saved: /home/ylee/oRNAment/oRNAment_PFM_species_filtered/ZNF326_PWM_0.txt\"\n",
      "[1] \"Saved: /home/ylee/oRNAment/oRNAment_PFM_species_filtered/ZNF326_PWM_1.txt\"\n",
      "[1] \"Saved: /home/ylee/oRNAment/oRNAment_PFM_species_filtered/ZNF326_PWM_2.txt\"\n",
      "[1] \"Saved: /home/ylee/oRNAment/oRNAment_PFM_species_filtered/ZNF326_PWM_3.txt\"\n",
      "[1] \"Saved: /home/ylee/oRNAment/oRNAment_PFM_species_filtered/ZNF638_PWM_M155.txt\"\n"
     ]
    }
   ],
   "source": [
    "input_dir = \"/home/ylee/oRNAment/PWMs/\"\n",
    "output_dir = \"/home/ylee/oRNAment/oRNAment_PFM_species_filtered/\"\n",
    "\n",
    "for (i in 1:nrow(file_info)) {\n",
    "    RBP <- file_info[i, \"RBP_name\"]\n",
    "    \n",
    "    if (file_info[i, \"valid_human\"] || file_info[i, \"valid_mouse\"]) {\n",
    "        input_file <- file.path(paste0(input_dir, file_info[i, \"num_name\"]))\n",
    "        output_file <- file.path(paste0(output_dir, file_info[i, \"RBP_name\"], \"_PWM_\", file_info[i, \"motif_id\"], \".txt\"))\n",
    "        \n",
    "        motif_data <- read.table(input_file, header = TRUE, sep = \"\\t\", stringsAsFactors = FALSE)\n",
    "        matrix_data <- motif_data[, -1]  # Remove the first column (\"P0\")    \n",
    "        \n",
    "        write.table(matrix_data, output_file, sep = \"\\t\", row.names = FALSE, col.names = FALSE, quote = FALSE)\n",
    "        print(paste(\"Saved:\", output_file))\n",
    "    }\n",
    "}"
   ]
  },
  {
   "cell_type": "markdown",
   "id": "3d3c4b25-6793-47ba-b0aa-35dcdacd0515",
   "metadata": {},
   "source": [
    "## Summary_original_info\n",
    "##### Summary that includes the original database information"
   ]
  },
  {
   "cell_type": "code",
   "execution_count": 18,
   "id": "47a78105-742a-4420-8103-ab90748a88e4",
   "metadata": {},
   "outputs": [],
   "source": [
    "base_dir <- \"/home/ylee/oRNAment/oRNAment_meme\""
   ]
  },
  {
   "cell_type": "code",
   "execution_count": 20,
   "id": "ab6bfa93-8b95-4db3-a19f-ad08208c2792",
   "metadata": {},
   "outputs": [],
   "source": [
    "files <- list.files(base_dir, full.names = TRUE)\n",
    "\n",
    "file_info <- data.frame(\n",
    "    full_path = files,\n",
    "    base_name = basename(files),\n",
    "    stringsAsFactors = FALSE\n",
    ")\n",
    "\n",
    "file_info$RBP_name <- sub(\"_PWM.*\", \"\", file_info$base_name)\n",
    "file_info$motif_id <- sub(\".meme\", \"\", sub(\".*PWM_\", \"\", file_info$base_name))"
   ]
  },
  {
   "cell_type": "code",
   "execution_count": 21,
   "id": "63d7c29b-83c6-473b-9676-da2ca3f3ee81",
   "metadata": {},
   "outputs": [],
   "source": [
    "for (i in 1:nrow(file_info)) {\n",
    "    lines <- readLines(file_info[i, \"full_path\"])\n",
    "    motif_line <- grep(\"^MOTIF\", lines, value = TRUE)  # Find line starting with \"MOTIF\"\n",
    "    motif_name <- sub(\"^MOTIF \\\\d+\\\\s+\", \"\", motif_line)  # Remove \"MOTIF <number> \" to get the name\n",
    "    file_info[i, \"motif_alt_id\"] <- motif_name\n",
    "}"
   ]
  },
  {
   "cell_type": "code",
   "execution_count": 22,
   "id": "e2302bb0-ff0d-4d0c-9fb3-37d19ab84d6a",
   "metadata": {},
   "outputs": [
    {
     "data": {
      "text/html": [
       "<table class=\"dataframe\">\n",
       "<caption>A data.frame: 6 × 5</caption>\n",
       "<thead>\n",
       "\t<tr><th></th><th scope=col>full_path</th><th scope=col>base_name</th><th scope=col>RBP_name</th><th scope=col>motif_id</th><th scope=col>motif_alt_id</th></tr>\n",
       "\t<tr><th></th><th scope=col>&lt;chr&gt;</th><th scope=col>&lt;chr&gt;</th><th scope=col>&lt;chr&gt;</th><th scope=col>&lt;chr&gt;</th><th scope=col>&lt;chr&gt;</th></tr>\n",
       "</thead>\n",
       "<tbody>\n",
       "\t<tr><th scope=row>1</th><td>/home/ylee/oRNAment/oRNAment_meme/A1CF_PWM_0.meme   </td><td>A1CF_PWM_0.meme   </td><td>A1CF</td><td>0   </td><td>NTAATTA</td></tr>\n",
       "\t<tr><th scope=row>2</th><td>/home/ylee/oRNAment/oRNAment_meme/A1CF_PWM_1.meme   </td><td>A1CF_PWM_1.meme   </td><td>A1CF</td><td>1   </td><td>VAATCAN</td></tr>\n",
       "\t<tr><th scope=row>3</th><td>/home/ylee/oRNAment/oRNAment_meme/A1CF_PWM_2.meme   </td><td>A1CF_PWM_2.meme   </td><td>A1CF</td><td>2   </td><td>SGGRCTG</td></tr>\n",
       "\t<tr><th scope=row>4</th><td>/home/ylee/oRNAment/oRNAment_meme/A1CF_PWM_3.meme   </td><td>A1CF_PWM_3.meme   </td><td>A1CF</td><td>3   </td><td>AGHTCGG</td></tr>\n",
       "\t<tr><th scope=row>5</th><td>/home/ylee/oRNAment/oRNAment_meme/A1CF_PWM_4.meme   </td><td>A1CF_PWM_4.meme   </td><td>A1CF</td><td>4   </td><td>AATAWAV</td></tr>\n",
       "\t<tr><th scope=row>6</th><td>/home/ylee/oRNAment/oRNAment_meme/A1CF_PWM_M001.meme</td><td>A1CF_PWM_M001.meme</td><td>A1CF</td><td>M001</td><td>WTAATTR</td></tr>\n",
       "</tbody>\n",
       "</table>\n"
      ],
      "text/latex": [
       "A data.frame: 6 × 5\n",
       "\\begin{tabular}{r|lllll}\n",
       "  & full\\_path & base\\_name & RBP\\_name & motif\\_id & motif\\_alt\\_id\\\\\n",
       "  & <chr> & <chr> & <chr> & <chr> & <chr>\\\\\n",
       "\\hline\n",
       "\t1 & /home/ylee/oRNAment/oRNAment\\_meme/A1CF\\_PWM\\_0.meme    & A1CF\\_PWM\\_0.meme    & A1CF & 0    & NTAATTA\\\\\n",
       "\t2 & /home/ylee/oRNAment/oRNAment\\_meme/A1CF\\_PWM\\_1.meme    & A1CF\\_PWM\\_1.meme    & A1CF & 1    & VAATCAN\\\\\n",
       "\t3 & /home/ylee/oRNAment/oRNAment\\_meme/A1CF\\_PWM\\_2.meme    & A1CF\\_PWM\\_2.meme    & A1CF & 2    & SGGRCTG\\\\\n",
       "\t4 & /home/ylee/oRNAment/oRNAment\\_meme/A1CF\\_PWM\\_3.meme    & A1CF\\_PWM\\_3.meme    & A1CF & 3    & AGHTCGG\\\\\n",
       "\t5 & /home/ylee/oRNAment/oRNAment\\_meme/A1CF\\_PWM\\_4.meme    & A1CF\\_PWM\\_4.meme    & A1CF & 4    & AATAWAV\\\\\n",
       "\t6 & /home/ylee/oRNAment/oRNAment\\_meme/A1CF\\_PWM\\_M001.meme & A1CF\\_PWM\\_M001.meme & A1CF & M001 & WTAATTR\\\\\n",
       "\\end{tabular}\n"
      ],
      "text/markdown": [
       "\n",
       "A data.frame: 6 × 5\n",
       "\n",
       "| <!--/--> | full_path &lt;chr&gt; | base_name &lt;chr&gt; | RBP_name &lt;chr&gt; | motif_id &lt;chr&gt; | motif_alt_id &lt;chr&gt; |\n",
       "|---|---|---|---|---|---|\n",
       "| 1 | /home/ylee/oRNAment/oRNAment_meme/A1CF_PWM_0.meme    | A1CF_PWM_0.meme    | A1CF | 0    | NTAATTA |\n",
       "| 2 | /home/ylee/oRNAment/oRNAment_meme/A1CF_PWM_1.meme    | A1CF_PWM_1.meme    | A1CF | 1    | VAATCAN |\n",
       "| 3 | /home/ylee/oRNAment/oRNAment_meme/A1CF_PWM_2.meme    | A1CF_PWM_2.meme    | A1CF | 2    | SGGRCTG |\n",
       "| 4 | /home/ylee/oRNAment/oRNAment_meme/A1CF_PWM_3.meme    | A1CF_PWM_3.meme    | A1CF | 3    | AGHTCGG |\n",
       "| 5 | /home/ylee/oRNAment/oRNAment_meme/A1CF_PWM_4.meme    | A1CF_PWM_4.meme    | A1CF | 4    | AATAWAV |\n",
       "| 6 | /home/ylee/oRNAment/oRNAment_meme/A1CF_PWM_M001.meme | A1CF_PWM_M001.meme | A1CF | M001 | WTAATTR |\n",
       "\n"
      ],
      "text/plain": [
       "  full_path                                            base_name         \n",
       "1 /home/ylee/oRNAment/oRNAment_meme/A1CF_PWM_0.meme    A1CF_PWM_0.meme   \n",
       "2 /home/ylee/oRNAment/oRNAment_meme/A1CF_PWM_1.meme    A1CF_PWM_1.meme   \n",
       "3 /home/ylee/oRNAment/oRNAment_meme/A1CF_PWM_2.meme    A1CF_PWM_2.meme   \n",
       "4 /home/ylee/oRNAment/oRNAment_meme/A1CF_PWM_3.meme    A1CF_PWM_3.meme   \n",
       "5 /home/ylee/oRNAment/oRNAment_meme/A1CF_PWM_4.meme    A1CF_PWM_4.meme   \n",
       "6 /home/ylee/oRNAment/oRNAment_meme/A1CF_PWM_M001.meme A1CF_PWM_M001.meme\n",
       "  RBP_name motif_id motif_alt_id\n",
       "1 A1CF     0        NTAATTA     \n",
       "2 A1CF     1        VAATCAN     \n",
       "3 A1CF     2        SGGRCTG     \n",
       "4 A1CF     3        AGHTCGG     \n",
       "5 A1CF     4        AATAWAV     \n",
       "6 A1CF     M001     WTAATTR     "
      ]
     },
     "metadata": {},
     "output_type": "display_data"
    }
   ],
   "source": [
    "head(file_info)"
   ]
  },
  {
   "cell_type": "code",
   "execution_count": 23,
   "id": "34572132-2dbb-43ce-afe7-6aa2ef7db3f5",
   "metadata": {},
   "outputs": [
    {
     "data": {
      "text/html": [
       "<table class=\"dataframe\">\n",
       "<caption>A data.frame: 6 × 3</caption>\n",
       "<thead>\n",
       "\t<tr><th></th><th scope=col>RBP_name</th><th scope=col>motif_id</th><th scope=col>motif_alt_id</th></tr>\n",
       "\t<tr><th></th><th scope=col>&lt;chr&gt;</th><th scope=col>&lt;chr&gt;</th><th scope=col>&lt;chr&gt;</th></tr>\n",
       "</thead>\n",
       "<tbody>\n",
       "\t<tr><th scope=row>1</th><td>A1CF</td><td>0   </td><td>NTAATTA</td></tr>\n",
       "\t<tr><th scope=row>2</th><td>A1CF</td><td>1   </td><td>VAATCAN</td></tr>\n",
       "\t<tr><th scope=row>3</th><td>A1CF</td><td>2   </td><td>SGGRCTG</td></tr>\n",
       "\t<tr><th scope=row>4</th><td>A1CF</td><td>3   </td><td>AGHTCGG</td></tr>\n",
       "\t<tr><th scope=row>5</th><td>A1CF</td><td>4   </td><td>AATAWAV</td></tr>\n",
       "\t<tr><th scope=row>6</th><td>A1CF</td><td>M001</td><td>WTAATTR</td></tr>\n",
       "</tbody>\n",
       "</table>\n"
      ],
      "text/latex": [
       "A data.frame: 6 × 3\n",
       "\\begin{tabular}{r|lll}\n",
       "  & RBP\\_name & motif\\_id & motif\\_alt\\_id\\\\\n",
       "  & <chr> & <chr> & <chr>\\\\\n",
       "\\hline\n",
       "\t1 & A1CF & 0    & NTAATTA\\\\\n",
       "\t2 & A1CF & 1    & VAATCAN\\\\\n",
       "\t3 & A1CF & 2    & SGGRCTG\\\\\n",
       "\t4 & A1CF & 3    & AGHTCGG\\\\\n",
       "\t5 & A1CF & 4    & AATAWAV\\\\\n",
       "\t6 & A1CF & M001 & WTAATTR\\\\\n",
       "\\end{tabular}\n"
      ],
      "text/markdown": [
       "\n",
       "A data.frame: 6 × 3\n",
       "\n",
       "| <!--/--> | RBP_name &lt;chr&gt; | motif_id &lt;chr&gt; | motif_alt_id &lt;chr&gt; |\n",
       "|---|---|---|---|\n",
       "| 1 | A1CF | 0    | NTAATTA |\n",
       "| 2 | A1CF | 1    | VAATCAN |\n",
       "| 3 | A1CF | 2    | SGGRCTG |\n",
       "| 4 | A1CF | 3    | AGHTCGG |\n",
       "| 5 | A1CF | 4    | AATAWAV |\n",
       "| 6 | A1CF | M001 | WTAATTR |\n",
       "\n"
      ],
      "text/plain": [
       "  RBP_name motif_id motif_alt_id\n",
       "1 A1CF     0        NTAATTA     \n",
       "2 A1CF     1        VAATCAN     \n",
       "3 A1CF     2        SGGRCTG     \n",
       "4 A1CF     3        AGHTCGG     \n",
       "5 A1CF     4        AATAWAV     \n",
       "6 A1CF     M001     WTAATTR     "
      ]
     },
     "metadata": {},
     "output_type": "display_data"
    }
   ],
   "source": [
    "file_info <- file_info[, -c(1, 2)]\n",
    "head(file_info)"
   ]
  },
  {
   "cell_type": "code",
   "execution_count": 24,
   "id": "c1faf19d-73cf-4b62-9ea1-ca6e9e7d7786",
   "metadata": {},
   "outputs": [
    {
     "data": {
      "text/html": [
       "125"
      ],
      "text/latex": [
       "125"
      ],
      "text/markdown": [
       "125"
      ],
      "text/plain": [
       "[1] 125"
      ]
     },
     "metadata": {},
     "output_type": "display_data"
    }
   ],
   "source": [
    "length(unique(file_info$RBP_name))"
   ]
  },
  {
   "cell_type": "code",
   "execution_count": 25,
   "id": "b81aadc1-eb6b-4550-b614-660c7172dd0f",
   "metadata": {},
   "outputs": [
    {
     "data": {
      "text/html": [
       "323"
      ],
      "text/latex": [
       "323"
      ],
      "text/markdown": [
       "323"
      ],
      "text/plain": [
       "[1] 323"
      ]
     },
     "metadata": {},
     "output_type": "display_data"
    }
   ],
   "source": [
    "nrow(file_info)"
   ]
  },
  {
   "cell_type": "code",
   "execution_count": 26,
   "id": "d6db5a6a-764e-45ab-b367-ba673395e4fd",
   "metadata": {},
   "outputs": [],
   "source": [
    "write.csv(file_info, \"/home/ylee/oRNAment/oRNAment_RBP_motifs_original_db_info.csv\", row.names = FALSE)"
   ]
  },
  {
   "cell_type": "markdown",
   "id": "916af6bf-f466-4933-95dd-6a844cec77e9",
   "metadata": {},
   "source": [
    "## Summary\n",
    "##### Summary that includes annotation of fimo"
   ]
  },
  {
   "cell_type": "code",
   "execution_count": 53,
   "id": "e1ae708b-4c36-4c29-a882-1f24715b15f0",
   "metadata": {},
   "outputs": [],
   "source": [
    "library(dplyr)\n",
    "library(tidyr)"
   ]
  },
  {
   "cell_type": "code",
   "execution_count": 54,
   "id": "a2ebed78-41af-497f-8dcd-c05f06481a9b",
   "metadata": {},
   "outputs": [],
   "source": [
    "base_dir <- \"/home/ylee/oRNAment/oRNAment_meme_combined\""
   ]
  },
  {
   "cell_type": "code",
   "execution_count": 55,
   "id": "3b719b60-dc42-4ab3-ac7f-822c22c0bb52",
   "metadata": {},
   "outputs": [
    {
     "data": {
      "text/html": [
       "125"
      ],
      "text/latex": [
       "125"
      ],
      "text/markdown": [
       "125"
      ],
      "text/plain": [
       "[1] 125"
      ]
     },
     "metadata": {},
     "output_type": "display_data"
    }
   ],
   "source": [
    "files <- list.files(base_dir, full.names = TRUE)\n",
    "rbp_list <- sub(\"_combined.*\", \"\", basename(files))\n",
    "length(rbp_list)"
   ]
  },
  {
   "cell_type": "code",
   "execution_count": 56,
   "id": "0900843d-97c5-4095-a3c4-046089668911",
   "metadata": {},
   "outputs": [],
   "source": [
    "# Extract RBP related motifs from the MEME file\n",
    "extract_motifs <- function(rbp_list, database) { \n",
    "    RBP_motifs <- data.frame(\n",
    "        RBP_name = character(),\n",
    "        motif_id = character(),\n",
    "        motif_alt_id = character()    \n",
    "    )\n",
    "    \n",
    "    for (rbp in rbp_list){\n",
    "        RBP_name <- rbp\n",
    "        motif_id <- NULL\n",
    "        motif_alt_id <- NULL\n",
    "        \n",
    "        meme_file <- paste0(base_dir, \"/\", rbp, \"_combined_\", database, \".meme\")\n",
    "        lines <- readLines(meme_file)\n",
    "\n",
    "        for (line in lines) {\n",
    "            if (grepl(\"^MOTIF\", line)) {\n",
    "              motif_id <- sub(\"MOTIF (\\\\S+) (\\\\S+)\", \"\\\\1\", line)  # extract motif ID\n",
    "              motif_alt_id <- sub(\"MOTIF (\\\\S+) (\\\\S+)\", \"\\\\2\", line)  # extract motif alternative ID\n",
    "            }\n",
    "            if (grepl(\"^letter-probability matrix\", line)) {\n",
    "                new_row <- data.frame(\n",
    "                    RBP_name = rbp,\n",
    "                    motif_id = motif_id,\n",
    "                    motif_alt_id = motif_alt_id\n",
    "                )\n",
    "                RBP_motifs <- bind_rows(RBP_motifs, new_row)\n",
    "            }\n",
    "        }\n",
    "    }\n",
    "  \n",
    "  return(RBP_motifs)\n",
    "}"
   ]
  },
  {
   "cell_type": "code",
   "execution_count": 57,
   "id": "1596a1aa-1a5e-4099-acbb-1f42e7eb15ab",
   "metadata": {},
   "outputs": [
    {
     "data": {
      "text/html": [
       "<table class=\"dataframe\">\n",
       "<caption>A data.frame: 6 × 3</caption>\n",
       "<thead>\n",
       "\t<tr><th></th><th scope=col>RBP_name</th><th scope=col>motif_id</th><th scope=col>motif_alt_id</th></tr>\n",
       "\t<tr><th></th><th scope=col>&lt;chr&gt;</th><th scope=col>&lt;chr&gt;</th><th scope=col>&lt;chr&gt;</th></tr>\n",
       "</thead>\n",
       "<tbody>\n",
       "\t<tr><th scope=row>1</th><td>A1CF</td><td>1.1</td><td>NTAATTA</td></tr>\n",
       "\t<tr><th scope=row>2</th><td>A1CF</td><td>1.2</td><td>VAATCAN</td></tr>\n",
       "\t<tr><th scope=row>3</th><td>A1CF</td><td>1.3</td><td>SGGRCTG</td></tr>\n",
       "\t<tr><th scope=row>4</th><td>A1CF</td><td>1.4</td><td>AGHTCGG</td></tr>\n",
       "\t<tr><th scope=row>5</th><td>A1CF</td><td>1.5</td><td>AATAWAV</td></tr>\n",
       "\t<tr><th scope=row>6</th><td>A1CF</td><td>1.6</td><td>WTAATTR</td></tr>\n",
       "</tbody>\n",
       "</table>\n"
      ],
      "text/latex": [
       "A data.frame: 6 × 3\n",
       "\\begin{tabular}{r|lll}\n",
       "  & RBP\\_name & motif\\_id & motif\\_alt\\_id\\\\\n",
       "  & <chr> & <chr> & <chr>\\\\\n",
       "\\hline\n",
       "\t1 & A1CF & 1.1 & NTAATTA\\\\\n",
       "\t2 & A1CF & 1.2 & VAATCAN\\\\\n",
       "\t3 & A1CF & 1.3 & SGGRCTG\\\\\n",
       "\t4 & A1CF & 1.4 & AGHTCGG\\\\\n",
       "\t5 & A1CF & 1.5 & AATAWAV\\\\\n",
       "\t6 & A1CF & 1.6 & WTAATTR\\\\\n",
       "\\end{tabular}\n"
      ],
      "text/markdown": [
       "\n",
       "A data.frame: 6 × 3\n",
       "\n",
       "| <!--/--> | RBP_name &lt;chr&gt; | motif_id &lt;chr&gt; | motif_alt_id &lt;chr&gt; |\n",
       "|---|---|---|---|\n",
       "| 1 | A1CF | 1.1 | NTAATTA |\n",
       "| 2 | A1CF | 1.2 | VAATCAN |\n",
       "| 3 | A1CF | 1.3 | SGGRCTG |\n",
       "| 4 | A1CF | 1.4 | AGHTCGG |\n",
       "| 5 | A1CF | 1.5 | AATAWAV |\n",
       "| 6 | A1CF | 1.6 | WTAATTR |\n",
       "\n"
      ],
      "text/plain": [
       "  RBP_name motif_id motif_alt_id\n",
       "1 A1CF     1.1      NTAATTA     \n",
       "2 A1CF     1.2      VAATCAN     \n",
       "3 A1CF     1.3      SGGRCTG     \n",
       "4 A1CF     1.4      AGHTCGG     \n",
       "5 A1CF     1.5      AATAWAV     \n",
       "6 A1CF     1.6      WTAATTR     "
      ]
     },
     "metadata": {},
     "output_type": "display_data"
    }
   ],
   "source": [
    "RBP_motifs <- extract_motifs(rbp_list, \"oRNAment\")\n",
    "head(RBP_motifs)"
   ]
  },
  {
   "cell_type": "code",
   "execution_count": 58,
   "id": "dea998c2-e4f8-44f1-86c2-05256e7d7657",
   "metadata": {},
   "outputs": [
    {
     "data": {
      "text/html": [
       "125"
      ],
      "text/latex": [
       "125"
      ],
      "text/markdown": [
       "125"
      ],
      "text/plain": [
       "[1] 125"
      ]
     },
     "metadata": {},
     "output_type": "display_data"
    },
    {
     "data": {
      "text/html": [
       "323"
      ],
      "text/latex": [
       "323"
      ],
      "text/markdown": [
       "323"
      ],
      "text/plain": [
       "[1] 323"
      ]
     },
     "metadata": {},
     "output_type": "display_data"
    }
   ],
   "source": [
    "length(unique(RBP_motifs$RBP_name))\n",
    "nrow(RBP_motifs)"
   ]
  },
  {
   "cell_type": "code",
   "execution_count": 59,
   "id": "1d3a7bb8-c013-44a4-ba8f-4b457802ccab",
   "metadata": {},
   "outputs": [],
   "source": [
    "write.csv(RBP_motifs, \"/home/ylee/oRNAment/oRNAment_RBP_motifs.csv\", row.names = FALSE)"
   ]
  },
  {
   "cell_type": "code",
   "execution_count": null,
   "id": "c5bcc809-0f4a-492e-b2cf-d840631368b7",
   "metadata": {},
   "outputs": [],
   "source": []
  }
 ],
 "metadata": {
  "kernelspec": {
   "display_name": "r_4.1.2",
   "language": "R",
   "name": "r_4.1.2"
  },
  "language_info": {
   "codemirror_mode": "r",
   "file_extension": ".r",
   "mimetype": "text/x-r-source",
   "name": "R",
   "pygments_lexer": "r",
   "version": "4.1.2"
  }
 },
 "nbformat": 4,
 "nbformat_minor": 5
}
