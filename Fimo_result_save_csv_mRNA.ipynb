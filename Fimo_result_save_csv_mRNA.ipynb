{
 "cells": [
  {
   "cell_type": "code",
   "execution_count": 1,
   "id": "af22c348-06d0-4327-80a6-184ccaada9f1",
   "metadata": {
    "scrolled": true
   },
   "outputs": [
    {
     "name": "stderr",
     "output_type": "stream",
     "text": [
      "\n",
      "Attaching package: ‘dplyr’\n",
      "\n",
      "\n",
      "The following objects are masked from ‘package:stats’:\n",
      "\n",
      "    filter, lag\n",
      "\n",
      "\n",
      "The following objects are masked from ‘package:base’:\n",
      "\n",
      "    intersect, setdiff, setequal, union\n",
      "\n",
      "\n"
     ]
    }
   ],
   "source": [
    "library(dplyr)\n",
    "library(tidyr)"
   ]
  },
  {
   "cell_type": "code",
   "execution_count": 2,
   "id": "bb761107-3423-4b71-95b6-b64775e76245",
   "metadata": {},
   "outputs": [],
   "source": [
    "setwd(\"/home/ylee/meme/\")"
   ]
  },
  {
   "cell_type": "code",
   "execution_count": 5,
   "id": "01233655-6b85-4ce9-997a-a5b4c4faa2e0",
   "metadata": {},
   "outputs": [
    {
     "data": {
      "text/html": [
       "<table class=\"dataframe\">\n",
       "<caption>A data.frame: 6 × 20</caption>\n",
       "<thead>\n",
       "\t<tr><th></th><th scope=col>V1</th><th scope=col>V2</th><th scope=col>V3</th><th scope=col>V4</th><th scope=col>V5</th><th scope=col>V6</th><th scope=col>V7</th><th scope=col>V8</th><th scope=col>V9</th><th scope=col>V10</th><th scope=col>V11</th><th scope=col>V12</th><th scope=col>V13</th><th scope=col>V14</th><th scope=col>V15</th><th scope=col>V16</th><th scope=col>V17</th><th scope=col>V18</th><th scope=col>V19</th><th scope=col>V20</th></tr>\n",
       "\t<tr><th></th><th scope=col>&lt;chr&gt;</th><th scope=col>&lt;int&gt;</th><th scope=col>&lt;int&gt;</th><th scope=col>&lt;int&gt;</th><th scope=col>&lt;int&gt;</th><th scope=col>&lt;int&gt;</th><th scope=col>&lt;int&gt;</th><th scope=col>&lt;int&gt;</th><th scope=col>&lt;int&gt;</th><th scope=col>&lt;int&gt;</th><th scope=col>&lt;int&gt;</th><th scope=col>&lt;int&gt;</th><th scope=col>&lt;int&gt;</th><th scope=col>&lt;int&gt;</th><th scope=col>&lt;int&gt;</th><th scope=col>&lt;int&gt;</th><th scope=col>&lt;int&gt;</th><th scope=col>&lt;int&gt;</th><th scope=col>&lt;int&gt;</th><th scope=col>&lt;int&gt;</th></tr>\n",
       "</thead>\n",
       "<tbody>\n",
       "\t<tr><th scope=row>1</th><td>AARS </td><td>0</td><td>0</td><td>0</td><td>0</td><td> 0</td><td> 0</td><td> 0</td><td> 0</td><td> 0</td><td> 0</td><td>NA</td><td>NA</td><td>NA</td><td>NA</td><td>NA</td><td>NA</td><td>NA</td><td>NA</td><td>NA</td></tr>\n",
       "\t<tr><th scope=row>2</th><td>AGGF1</td><td>0</td><td>0</td><td>0</td><td>0</td><td> 0</td><td> 0</td><td> 1</td><td> 0</td><td> 0</td><td> 0</td><td> 0</td><td>NA</td><td>NA</td><td>NA</td><td>NA</td><td>NA</td><td>NA</td><td>NA</td><td>NA</td></tr>\n",
       "\t<tr><th scope=row>3</th><td>AUH  </td><td>0</td><td>0</td><td>0</td><td>0</td><td> 0</td><td> 0</td><td> 0</td><td> 0</td><td> 0</td><td> 0</td><td> 0</td><td> 0</td><td> 0</td><td> 0</td><td> 0</td><td> 0</td><td> 0</td><td> 0</td><td> 0</td></tr>\n",
       "\t<tr><th scope=row>4</th><td>BCCIP</td><td>0</td><td>0</td><td>0</td><td>0</td><td> 0</td><td> 0</td><td> 0</td><td> 0</td><td> 0</td><td>NA</td><td>NA</td><td>NA</td><td>NA</td><td>NA</td><td>NA</td><td>NA</td><td>NA</td><td>NA</td><td>NA</td></tr>\n",
       "\t<tr><th scope=row>5</th><td>BUD13</td><td>0</td><td>0</td><td>0</td><td>0</td><td> 0</td><td> 0</td><td> 0</td><td> 0</td><td> 0</td><td> 1</td><td> 0</td><td> 0</td><td> 0</td><td> 0</td><td> 0</td><td> 0</td><td>NA</td><td>NA</td><td>NA</td></tr>\n",
       "\t<tr><th scope=row>6</th><td>CDC40</td><td>0</td><td>0</td><td>0</td><td>0</td><td>NA</td><td>NA</td><td>NA</td><td>NA</td><td>NA</td><td>NA</td><td>NA</td><td>NA</td><td>NA</td><td>NA</td><td>NA</td><td>NA</td><td>NA</td><td>NA</td><td>NA</td></tr>\n",
       "</tbody>\n",
       "</table>\n"
      ],
      "text/latex": [
       "A data.frame: 6 × 20\n",
       "\\begin{tabular}{r|llllllllllllllllllll}\n",
       "  & V1 & V2 & V3 & V4 & V5 & V6 & V7 & V8 & V9 & V10 & V11 & V12 & V13 & V14 & V15 & V16 & V17 & V18 & V19 & V20\\\\\n",
       "  & <chr> & <int> & <int> & <int> & <int> & <int> & <int> & <int> & <int> & <int> & <int> & <int> & <int> & <int> & <int> & <int> & <int> & <int> & <int> & <int>\\\\\n",
       "\\hline\n",
       "\t1 & AARS  & 0 & 0 & 0 & 0 &  0 &  0 &  0 &  0 &  0 &  0 & NA & NA & NA & NA & NA & NA & NA & NA & NA\\\\\n",
       "\t2 & AGGF1 & 0 & 0 & 0 & 0 &  0 &  0 &  1 &  0 &  0 &  0 &  0 & NA & NA & NA & NA & NA & NA & NA & NA\\\\\n",
       "\t3 & AUH   & 0 & 0 & 0 & 0 &  0 &  0 &  0 &  0 &  0 &  0 &  0 &  0 &  0 &  0 &  0 &  0 &  0 &  0 &  0\\\\\n",
       "\t4 & BCCIP & 0 & 0 & 0 & 0 &  0 &  0 &  0 &  0 &  0 & NA & NA & NA & NA & NA & NA & NA & NA & NA & NA\\\\\n",
       "\t5 & BUD13 & 0 & 0 & 0 & 0 &  0 &  0 &  0 &  0 &  0 &  1 &  0 &  0 &  0 &  0 &  0 &  0 & NA & NA & NA\\\\\n",
       "\t6 & CDC40 & 0 & 0 & 0 & 0 & NA & NA & NA & NA & NA & NA & NA & NA & NA & NA & NA & NA & NA & NA & NA\\\\\n",
       "\\end{tabular}\n"
      ],
      "text/markdown": [
       "\n",
       "A data.frame: 6 × 20\n",
       "\n",
       "| <!--/--> | V1 &lt;chr&gt; | V2 &lt;int&gt; | V3 &lt;int&gt; | V4 &lt;int&gt; | V5 &lt;int&gt; | V6 &lt;int&gt; | V7 &lt;int&gt; | V8 &lt;int&gt; | V9 &lt;int&gt; | V10 &lt;int&gt; | V11 &lt;int&gt; | V12 &lt;int&gt; | V13 &lt;int&gt; | V14 &lt;int&gt; | V15 &lt;int&gt; | V16 &lt;int&gt; | V17 &lt;int&gt; | V18 &lt;int&gt; | V19 &lt;int&gt; | V20 &lt;int&gt; |\n",
       "|---|---|---|---|---|---|---|---|---|---|---|---|---|---|---|---|---|---|---|---|---|\n",
       "| 1 | AARS  | 0 | 0 | 0 | 0 |  0 |  0 |  0 |  0 |  0 |  0 | NA | NA | NA | NA | NA | NA | NA | NA | NA |\n",
       "| 2 | AGGF1 | 0 | 0 | 0 | 0 |  0 |  0 |  1 |  0 |  0 |  0 |  0 | NA | NA | NA | NA | NA | NA | NA | NA |\n",
       "| 3 | AUH   | 0 | 0 | 0 | 0 |  0 |  0 |  0 |  0 |  0 |  0 |  0 |  0 |  0 |  0 |  0 |  0 |  0 |  0 |  0 |\n",
       "| 4 | BCCIP | 0 | 0 | 0 | 0 |  0 |  0 |  0 |  0 |  0 | NA | NA | NA | NA | NA | NA | NA | NA | NA | NA |\n",
       "| 5 | BUD13 | 0 | 0 | 0 | 0 |  0 |  0 |  0 |  0 |  0 |  1 |  0 |  0 |  0 |  0 |  0 |  0 | NA | NA | NA |\n",
       "| 6 | CDC40 | 0 | 0 | 0 | 0 | NA | NA | NA | NA | NA | NA | NA | NA | NA | NA | NA | NA | NA | NA | NA |\n",
       "\n"
      ],
      "text/plain": [
       "  V1    V2 V3 V4 V5 V6 V7 V8 V9 V10 V11 V12 V13 V14 V15 V16 V17 V18 V19 V20\n",
       "1 AARS  0  0  0  0   0  0  0  0  0   0  NA  NA  NA  NA  NA  NA  NA  NA  NA \n",
       "2 AGGF1 0  0  0  0   0  0  1  0  0   0   0  NA  NA  NA  NA  NA  NA  NA  NA \n",
       "3 AUH   0  0  0  0   0  0  0  0  0   0   0   0   0   0   0   0   0   0   0 \n",
       "4 BCCIP 0  0  0  0   0  0  0  0  0  NA  NA  NA  NA  NA  NA  NA  NA  NA  NA \n",
       "5 BUD13 0  0  0  0   0  0  0  0  0   1   0   0   0   0   0   0  NA  NA  NA \n",
       "6 CDC40 0  0  0  0  NA NA NA NA NA  NA  NA  NA  NA  NA  NA  NA  NA  NA  NA "
      ]
     },
     "metadata": {},
     "output_type": "display_data"
    }
   ],
   "source": [
    "data <- read.table(\"sequence_counts.txt\", header = FALSE, fill = TRUE)\n",
    "head(data)"
   ]
  },
  {
   "cell_type": "code",
   "execution_count": 10,
   "id": "9ccb7549-2cae-42b4-9d12-5397caee0fe0",
   "metadata": {},
   "outputs": [
    {
     "data": {
      "text/html": [
       "<table class=\"dataframe\">\n",
       "<caption>A data.frame: 6 × 21</caption>\n",
       "<thead>\n",
       "\t<tr><th></th><th scope=col>V1</th><th scope=col>V2</th><th scope=col>V3</th><th scope=col>V4</th><th scope=col>V5</th><th scope=col>V6</th><th scope=col>V7</th><th scope=col>V8</th><th scope=col>V9</th><th scope=col>V10</th><th scope=col>⋯</th><th scope=col>V12</th><th scope=col>V13</th><th scope=col>V14</th><th scope=col>V15</th><th scope=col>V16</th><th scope=col>V17</th><th scope=col>V18</th><th scope=col>V19</th><th scope=col>V20</th><th scope=col>Sum</th></tr>\n",
       "\t<tr><th></th><th scope=col>&lt;chr&gt;</th><th scope=col>&lt;int&gt;</th><th scope=col>&lt;int&gt;</th><th scope=col>&lt;int&gt;</th><th scope=col>&lt;int&gt;</th><th scope=col>&lt;int&gt;</th><th scope=col>&lt;int&gt;</th><th scope=col>&lt;int&gt;</th><th scope=col>&lt;int&gt;</th><th scope=col>&lt;int&gt;</th><th scope=col>⋯</th><th scope=col>&lt;int&gt;</th><th scope=col>&lt;int&gt;</th><th scope=col>&lt;int&gt;</th><th scope=col>&lt;int&gt;</th><th scope=col>&lt;int&gt;</th><th scope=col>&lt;int&gt;</th><th scope=col>&lt;int&gt;</th><th scope=col>&lt;int&gt;</th><th scope=col>&lt;int&gt;</th><th scope=col>&lt;dbl&gt;</th></tr>\n",
       "</thead>\n",
       "<tbody>\n",
       "\t<tr><th scope=row>1</th><td>AARS </td><td>0</td><td>0</td><td>0</td><td>0</td><td> 0</td><td> 0</td><td> 0</td><td> 0</td><td> 0</td><td>⋯</td><td>NA</td><td>NA</td><td>NA</td><td>NA</td><td>NA</td><td>NA</td><td>NA</td><td>NA</td><td>NA</td><td>0</td></tr>\n",
       "\t<tr><th scope=row>2</th><td>AGGF1</td><td>0</td><td>0</td><td>0</td><td>0</td><td> 0</td><td> 0</td><td> 1</td><td> 0</td><td> 0</td><td>⋯</td><td> 0</td><td>NA</td><td>NA</td><td>NA</td><td>NA</td><td>NA</td><td>NA</td><td>NA</td><td>NA</td><td>1</td></tr>\n",
       "\t<tr><th scope=row>3</th><td>AUH  </td><td>0</td><td>0</td><td>0</td><td>0</td><td> 0</td><td> 0</td><td> 0</td><td> 0</td><td> 0</td><td>⋯</td><td> 0</td><td> 0</td><td> 0</td><td> 0</td><td> 0</td><td> 0</td><td> 0</td><td> 0</td><td> 0</td><td>0</td></tr>\n",
       "\t<tr><th scope=row>4</th><td>BCCIP</td><td>0</td><td>0</td><td>0</td><td>0</td><td> 0</td><td> 0</td><td> 0</td><td> 0</td><td> 0</td><td>⋯</td><td>NA</td><td>NA</td><td>NA</td><td>NA</td><td>NA</td><td>NA</td><td>NA</td><td>NA</td><td>NA</td><td>0</td></tr>\n",
       "\t<tr><th scope=row>5</th><td>BUD13</td><td>0</td><td>0</td><td>0</td><td>0</td><td> 0</td><td> 0</td><td> 0</td><td> 0</td><td> 0</td><td>⋯</td><td> 0</td><td> 0</td><td> 0</td><td> 0</td><td> 0</td><td> 0</td><td>NA</td><td>NA</td><td>NA</td><td>1</td></tr>\n",
       "\t<tr><th scope=row>6</th><td>CDC40</td><td>0</td><td>0</td><td>0</td><td>0</td><td>NA</td><td>NA</td><td>NA</td><td>NA</td><td>NA</td><td>⋯</td><td>NA</td><td>NA</td><td>NA</td><td>NA</td><td>NA</td><td>NA</td><td>NA</td><td>NA</td><td>NA</td><td>0</td></tr>\n",
       "</tbody>\n",
       "</table>\n"
      ],
      "text/latex": [
       "A data.frame: 6 × 21\n",
       "\\begin{tabular}{r|lllllllllllllllllllll}\n",
       "  & V1 & V2 & V3 & V4 & V5 & V6 & V7 & V8 & V9 & V10 & ⋯ & V12 & V13 & V14 & V15 & V16 & V17 & V18 & V19 & V20 & Sum\\\\\n",
       "  & <chr> & <int> & <int> & <int> & <int> & <int> & <int> & <int> & <int> & <int> & ⋯ & <int> & <int> & <int> & <int> & <int> & <int> & <int> & <int> & <int> & <dbl>\\\\\n",
       "\\hline\n",
       "\t1 & AARS  & 0 & 0 & 0 & 0 &  0 &  0 &  0 &  0 &  0 & ⋯ & NA & NA & NA & NA & NA & NA & NA & NA & NA & 0\\\\\n",
       "\t2 & AGGF1 & 0 & 0 & 0 & 0 &  0 &  0 &  1 &  0 &  0 & ⋯ &  0 & NA & NA & NA & NA & NA & NA & NA & NA & 1\\\\\n",
       "\t3 & AUH   & 0 & 0 & 0 & 0 &  0 &  0 &  0 &  0 &  0 & ⋯ &  0 &  0 &  0 &  0 &  0 &  0 &  0 &  0 &  0 & 0\\\\\n",
       "\t4 & BCCIP & 0 & 0 & 0 & 0 &  0 &  0 &  0 &  0 &  0 & ⋯ & NA & NA & NA & NA & NA & NA & NA & NA & NA & 0\\\\\n",
       "\t5 & BUD13 & 0 & 0 & 0 & 0 &  0 &  0 &  0 &  0 &  0 & ⋯ &  0 &  0 &  0 &  0 &  0 &  0 & NA & NA & NA & 1\\\\\n",
       "\t6 & CDC40 & 0 & 0 & 0 & 0 & NA & NA & NA & NA & NA & ⋯ & NA & NA & NA & NA & NA & NA & NA & NA & NA & 0\\\\\n",
       "\\end{tabular}\n"
      ],
      "text/markdown": [
       "\n",
       "A data.frame: 6 × 21\n",
       "\n",
       "| <!--/--> | V1 &lt;chr&gt; | V2 &lt;int&gt; | V3 &lt;int&gt; | V4 &lt;int&gt; | V5 &lt;int&gt; | V6 &lt;int&gt; | V7 &lt;int&gt; | V8 &lt;int&gt; | V9 &lt;int&gt; | V10 &lt;int&gt; | ⋯ ⋯ | V12 &lt;int&gt; | V13 &lt;int&gt; | V14 &lt;int&gt; | V15 &lt;int&gt; | V16 &lt;int&gt; | V17 &lt;int&gt; | V18 &lt;int&gt; | V19 &lt;int&gt; | V20 &lt;int&gt; | Sum &lt;dbl&gt; |\n",
       "|---|---|---|---|---|---|---|---|---|---|---|---|---|---|---|---|---|---|---|---|---|---|\n",
       "| 1 | AARS  | 0 | 0 | 0 | 0 |  0 |  0 |  0 |  0 |  0 | ⋯ | NA | NA | NA | NA | NA | NA | NA | NA | NA | 0 |\n",
       "| 2 | AGGF1 | 0 | 0 | 0 | 0 |  0 |  0 |  1 |  0 |  0 | ⋯ |  0 | NA | NA | NA | NA | NA | NA | NA | NA | 1 |\n",
       "| 3 | AUH   | 0 | 0 | 0 | 0 |  0 |  0 |  0 |  0 |  0 | ⋯ |  0 |  0 |  0 |  0 |  0 |  0 |  0 |  0 |  0 | 0 |\n",
       "| 4 | BCCIP | 0 | 0 | 0 | 0 |  0 |  0 |  0 |  0 |  0 | ⋯ | NA | NA | NA | NA | NA | NA | NA | NA | NA | 0 |\n",
       "| 5 | BUD13 | 0 | 0 | 0 | 0 |  0 |  0 |  0 |  0 |  0 | ⋯ |  0 |  0 |  0 |  0 |  0 |  0 | NA | NA | NA | 1 |\n",
       "| 6 | CDC40 | 0 | 0 | 0 | 0 | NA | NA | NA | NA | NA | ⋯ | NA | NA | NA | NA | NA | NA | NA | NA | NA | 0 |\n",
       "\n"
      ],
      "text/plain": [
       "  V1    V2 V3 V4 V5 V6 V7 V8 V9 V10 ⋯ V12 V13 V14 V15 V16 V17 V18 V19 V20 Sum\n",
       "1 AARS  0  0  0  0   0  0  0  0  0  ⋯ NA  NA  NA  NA  NA  NA  NA  NA  NA  0  \n",
       "2 AGGF1 0  0  0  0   0  0  1  0  0  ⋯  0  NA  NA  NA  NA  NA  NA  NA  NA  1  \n",
       "3 AUH   0  0  0  0   0  0  0  0  0  ⋯  0   0   0   0   0   0   0   0   0  0  \n",
       "4 BCCIP 0  0  0  0   0  0  0  0  0  ⋯ NA  NA  NA  NA  NA  NA  NA  NA  NA  0  \n",
       "5 BUD13 0  0  0  0   0  0  0  0  0  ⋯  0   0   0   0   0   0  NA  NA  NA  1  \n",
       "6 CDC40 0  0  0  0  NA NA NA NA NA  ⋯ NA  NA  NA  NA  NA  NA  NA  NA  NA  0  "
      ]
     },
     "metadata": {},
     "output_type": "display_data"
    }
   ],
   "source": [
    "# Sum the counts for each protein (excluding the first column)\n",
    "protein_counts <- data %>%\n",
    "  mutate(Sum = rowSums(select(., -V1), na.rm = TRUE))\n",
    "\n",
    "# View the results\n",
    "head(protein_counts)"
   ]
  },
  {
   "cell_type": "code",
   "execution_count": 11,
   "id": "240e1312-453e-442d-b392-c34c683fe91f",
   "metadata": {},
   "outputs": [
    {
     "name": "stdout",
     "output_type": "stream",
     "text": [
      "         V1 Sum\n",
      "1     AGGF1   1\n",
      "2     BUD13   1\n",
      "3     CPSF6   2\n",
      "4     EIF3D   1\n",
      "5      FXR2   1\n",
      "6      HLTF   1\n",
      "7  HNRNPUL1   1\n",
      "8   IGF2BP1   1\n",
      "9      ILF3   1\n",
      "10    LARP7   1\n",
      "11   LIN28B   2\n",
      "12    MTPAP   1\n",
      "13    NCBP2   1\n",
      "14    PCBP2   1\n",
      "15    SRSF7   1\n",
      "16    TAF15   1\n",
      "17    TRA2A   3\n",
      "18    U2AF1   4\n",
      "19    U2AF2   5\n",
      "20    UCHL5   1\n",
      "21    XRCC6   2\n",
      "22   ZNF622   1\n"
     ]
    }
   ],
   "source": [
    "protein_counts %>%\n",
    "  filter(Sum > 0) %>%\n",
    "  select(V1, Sum) %>%\n",
    "  print()"
   ]
  },
  {
   "cell_type": "code",
   "execution_count": null,
   "id": "19300225-5df5-4669-bb67-90cb943ff07c",
   "metadata": {},
   "outputs": [],
   "source": [
    "# write.table(protein_counts, \"protein_counts_sum.txt\", row.names = FALSE, col.names = TRUE, quote = FALSE)"
   ]
  },
  {
   "cell_type": "code",
   "execution_count": 46,
   "id": "2693df84-0725-4554-a3a4-1ca7efc0ce59",
   "metadata": {},
   "outputs": [],
   "source": [
    "# Define file paths\n",
    "\n",
    "# meme_file <- \"/home/ylee/mCross/eCLIP_PFM_meme_cell_combined/PCBP2.combined.meme\"\n",
    "#fimo_file <- \"/home/ylee/meme/fimo_out/Actg1_hotspot/PCBP2/fimo.tsv\"\n",
    "\n",
    "meme_file_base_path <- \"/home/ylee/mCross/eCLIP_PFM_meme_cell_combined/\"\n",
    "fimo_file_base_path <- \"/home/ylee/meme/fimo_out/Actg1_hotspot/\"\n",
    "rbp_list_file <- \"/home/ylee/mCross/eCLIP_PFM_meme_cell_combined/protein_list.txt\"\n",
    "\n",
    "rbp_list <- readLines(rbp_list_file)"
   ]
  },
  {
   "cell_type": "code",
   "execution_count": 51,
   "id": "621a5ff6-1744-4584-8018-a85dd6bdb50c",
   "metadata": {},
   "outputs": [],
   "source": [
    "# Extract RBP related motifs from the MEME file\n",
    "extract_motifs <- function(rbp_list) { \n",
    "    RBP_motifs <- data.frame(\n",
    "        RBP_name = character(),\n",
    "        motif_id = character(),\n",
    "        motif_alt_id = character()    \n",
    "    )\n",
    "    \n",
    "    for (rbp in rbp_list){\n",
    "        RBP_name <- rbp\n",
    "        motif_id <- NULL\n",
    "        motif_alt_id <- NULL\n",
    "        \n",
    "        meme_file <- paste0(meme_file_base_path, rbp, \".combined.meme\")\n",
    "        lines <- readLines(meme_file)\n",
    "\n",
    "        for (line in lines) {\n",
    "            if (grepl(\"^MOTIF\", line)) {\n",
    "              motif_id <- sub(\"MOTIF (\\\\S+) (\\\\S+)\", \"\\\\1\", line)  # extract motif ID\n",
    "              motif_alt_id <- sub(\"MOTIF (\\\\S+) (\\\\S+)\", \"\\\\2\", line)  # extract motif alternative ID\n",
    "            }\n",
    "            if (grepl(\"^letter-probability matrix\", line)) {\n",
    "                new_row <- data.frame(\n",
    "                    RBP_name = rbp,\n",
    "                    motif_id = motif_id,\n",
    "                    motif_alt_id = motif_alt_id\n",
    "                )\n",
    "                RBP_motifs <- bind_rows(RBP_motifs, new_row)\n",
    "            }\n",
    "        }\n",
    "    }\n",
    "  \n",
    "  return(RBP_motifs)\n",
    "}"
   ]
  },
  {
   "cell_type": "code",
   "execution_count": 67,
   "id": "59c7c169-aa7a-48e2-8a32-24e0a03a7d4e",
   "metadata": {},
   "outputs": [],
   "source": [
    "RBP_motifs <- extract_motifs(rbp_list)"
   ]
  },
  {
   "cell_type": "code",
   "execution_count": 68,
   "id": "eaae799d-c4d5-4a8e-b08b-312223e1e608",
   "metadata": {},
   "outputs": [
    {
     "data": {
      "text/html": [
       "<table class=\"dataframe\">\n",
       "<caption>A data.frame: 5 × 3</caption>\n",
       "<thead>\n",
       "\t<tr><th></th><th scope=col>RBP_name</th><th scope=col>motif_id</th><th scope=col>motif_alt_id</th></tr>\n",
       "\t<tr><th></th><th scope=col>&lt;chr&gt;</th><th scope=col>&lt;chr&gt;</th><th scope=col>&lt;chr&gt;</th></tr>\n",
       "</thead>\n",
       "<tbody>\n",
       "\t<tr><th scope=row>1</th><td>AARS</td><td>1.1 </td><td>YWTDGCTAGKB</td></tr>\n",
       "\t<tr><th scope=row>2</th><td>AARS</td><td>1.10</td><td>WSARYTCACYK</td></tr>\n",
       "\t<tr><th scope=row>3</th><td>AARS</td><td>1.2 </td><td>YNGWCATAGDW</td></tr>\n",
       "\t<tr><th scope=row>4</th><td>AARS</td><td>1.3 </td><td>DNGATCATANN</td></tr>\n",
       "\t<tr><th scope=row>5</th><td>AARS</td><td>1.4 </td><td>BHVTTWCCAVW</td></tr>\n",
       "</tbody>\n",
       "</table>\n"
      ],
      "text/latex": [
       "A data.frame: 5 × 3\n",
       "\\begin{tabular}{r|lll}\n",
       "  & RBP\\_name & motif\\_id & motif\\_alt\\_id\\\\\n",
       "  & <chr> & <chr> & <chr>\\\\\n",
       "\\hline\n",
       "\t1 & AARS & 1.1  & YWTDGCTAGKB\\\\\n",
       "\t2 & AARS & 1.10 & WSARYTCACYK\\\\\n",
       "\t3 & AARS & 1.2  & YNGWCATAGDW\\\\\n",
       "\t4 & AARS & 1.3  & DNGATCATANN\\\\\n",
       "\t5 & AARS & 1.4  & BHVTTWCCAVW\\\\\n",
       "\\end{tabular}\n"
      ],
      "text/markdown": [
       "\n",
       "A data.frame: 5 × 3\n",
       "\n",
       "| <!--/--> | RBP_name &lt;chr&gt; | motif_id &lt;chr&gt; | motif_alt_id &lt;chr&gt; |\n",
       "|---|---|---|---|\n",
       "| 1 | AARS | 1.1  | YWTDGCTAGKB |\n",
       "| 2 | AARS | 1.10 | WSARYTCACYK |\n",
       "| 3 | AARS | 1.2  | YNGWCATAGDW |\n",
       "| 4 | AARS | 1.3  | DNGATCATANN |\n",
       "| 5 | AARS | 1.4  | BHVTTWCCAVW |\n",
       "\n"
      ],
      "text/plain": [
       "  RBP_name motif_id motif_alt_id\n",
       "1 AARS     1.1      YWTDGCTAGKB \n",
       "2 AARS     1.10     WSARYTCACYK \n",
       "3 AARS     1.2      YNGWCATAGDW \n",
       "4 AARS     1.3      DNGATCATANN \n",
       "5 AARS     1.4      BHVTTWCCAVW "
      ]
     },
     "metadata": {},
     "output_type": "display_data"
    }
   ],
   "source": [
    "head(RBP_motifs, 5)"
   ]
  },
  {
   "cell_type": "code",
   "execution_count": 89,
   "id": "a78de929-6983-41cc-8e50-44d083d58a24",
   "metadata": {},
   "outputs": [],
   "source": [
    "fimo_file <- \"/home/ylee/meme/fimo_out/Actg1_hotspot/ILF3/fimo.tsv\"\n",
    "fimo_data <- read.delim(fimo_file, header = TRUE)"
   ]
  },
  {
   "cell_type": "code",
   "execution_count": 90,
   "id": "d8717ae8-d8ac-4e4d-a9e3-1d05f432ec22",
   "metadata": {},
   "outputs": [
    {
     "data": {
      "text/html": [
       "<table class=\"dataframe\">\n",
       "<caption>A data.frame: 4 × 10</caption>\n",
       "<thead>\n",
       "\t<tr><th scope=col>motif_id</th><th scope=col>motif_alt_id</th><th scope=col>sequence_name</th><th scope=col>start</th><th scope=col>stop</th><th scope=col>strand</th><th scope=col>score</th><th scope=col>p.value</th><th scope=col>q.value</th><th scope=col>matched_sequence</th></tr>\n",
       "\t<tr><th scope=col>&lt;chr&gt;</th><th scope=col>&lt;chr&gt;</th><th scope=col>&lt;chr&gt;</th><th scope=col>&lt;int&gt;</th><th scope=col>&lt;int&gt;</th><th scope=col>&lt;chr&gt;</th><th scope=col>&lt;dbl&gt;</th><th scope=col>&lt;dbl&gt;</th><th scope=col>&lt;dbl&gt;</th><th scope=col>&lt;chr&gt;</th></tr>\n",
       "</thead>\n",
       "<tbody>\n",
       "\t<tr><td>1.1.1                                                                                                                                       </td><td>NNTGSCCTSNN</td><td>Actg1_hotspot_sequence_101nt</td><td>17</td><td>27</td><td>+</td><td>11.6667</td><td>3.22e-05</td><td>0.00496</td><td>GTTGCCCTGGA</td></tr>\n",
       "\t<tr><td># FIMO (Find Individual Motif Occurrences): Version 5.5.7 compiled on Oct 17 2024 at 21:46:28                                               </td><td>           </td><td>                            </td><td>NA</td><td>NA</td><td> </td><td>     NA</td><td>      NA</td><td>     NA</td><td>           </td></tr>\n",
       "\t<tr><td># The format of this file is described at https://meme-suite.org/meme/doc/fimo-output-format.html#tsv_results.                              </td><td>           </td><td>                            </td><td>NA</td><td>NA</td><td> </td><td>     NA</td><td>      NA</td><td>     NA</td><td>           </td></tr>\n",
       "\t<tr><td># fimo --o fimo_out/Actg1_hotspot/ILF3 /home/ylee/mCross/eCLIP_PFM_meme_cell_combined/ILF3.combined.meme /home/ylee/meme/Actg1_hotspot.fasta</td><td>           </td><td>                            </td><td>NA</td><td>NA</td><td> </td><td>     NA</td><td>      NA</td><td>     NA</td><td>           </td></tr>\n",
       "</tbody>\n",
       "</table>\n"
      ],
      "text/latex": [
       "A data.frame: 4 × 10\n",
       "\\begin{tabular}{llllllllll}\n",
       " motif\\_id & motif\\_alt\\_id & sequence\\_name & start & stop & strand & score & p.value & q.value & matched\\_sequence\\\\\n",
       " <chr> & <chr> & <chr> & <int> & <int> & <chr> & <dbl> & <dbl> & <dbl> & <chr>\\\\\n",
       "\\hline\n",
       "\t 1.1.1                                                                                                                                        & NNTGSCCTSNN & Actg1\\_hotspot\\_sequence\\_101nt & 17 & 27 & + & 11.6667 & 3.22e-05 & 0.00496 & GTTGCCCTGGA\\\\\n",
       "\t \\# FIMO (Find Individual Motif Occurrences): Version 5.5.7 compiled on Oct 17 2024 at 21:46:28                                                &             &                              & NA & NA &   &      NA &       NA &      NA &            \\\\\n",
       "\t \\# The format of this file is described at https://meme-suite.org/meme/doc/fimo-output-format.html\\#tsv\\_results.                               &             &                              & NA & NA &   &      NA &       NA &      NA &            \\\\\n",
       "\t \\# fimo --o fimo\\_out/Actg1\\_hotspot/ILF3 /home/ylee/mCross/eCLIP\\_PFM\\_meme\\_cell\\_combined/ILF3.combined.meme /home/ylee/meme/Actg1\\_hotspot.fasta &             &                              & NA & NA &   &      NA &       NA &      NA &            \\\\\n",
       "\\end{tabular}\n"
      ],
      "text/markdown": [
       "\n",
       "A data.frame: 4 × 10\n",
       "\n",
       "| motif_id &lt;chr&gt; | motif_alt_id &lt;chr&gt; | sequence_name &lt;chr&gt; | start &lt;int&gt; | stop &lt;int&gt; | strand &lt;chr&gt; | score &lt;dbl&gt; | p.value &lt;dbl&gt; | q.value &lt;dbl&gt; | matched_sequence &lt;chr&gt; |\n",
       "|---|---|---|---|---|---|---|---|---|---|\n",
       "| 1.1.1                                                                                                                                        | NNTGSCCTSNN | Actg1_hotspot_sequence_101nt | 17 | 27 | + | 11.6667 | 3.22e-05 | 0.00496 | GTTGCCCTGGA |\n",
       "| # FIMO (Find Individual Motif Occurrences): Version 5.5.7 compiled on Oct 17 2024 at 21:46:28                                                | <!----> | <!----> | NA | NA | <!----> |      NA |       NA |      NA | <!----> |\n",
       "| # The format of this file is described at https://meme-suite.org/meme/doc/fimo-output-format.html#tsv_results.                               | <!----> | <!----> | NA | NA | <!----> |      NA |       NA |      NA | <!----> |\n",
       "| # fimo --o fimo_out/Actg1_hotspot/ILF3 /home/ylee/mCross/eCLIP_PFM_meme_cell_combined/ILF3.combined.meme /home/ylee/meme/Actg1_hotspot.fasta | <!----> | <!----> | NA | NA | <!----> |      NA |       NA |      NA | <!----> |\n",
       "\n"
      ],
      "text/plain": [
       "  motif_id                                                                                                                                    \n",
       "1 1.1.1                                                                                                                                       \n",
       "2 # FIMO (Find Individual Motif Occurrences): Version 5.5.7 compiled on Oct 17 2024 at 21:46:28                                               \n",
       "3 # The format of this file is described at https://meme-suite.org/meme/doc/fimo-output-format.html#tsv_results.                              \n",
       "4 # fimo --o fimo_out/Actg1_hotspot/ILF3 /home/ylee/mCross/eCLIP_PFM_meme_cell_combined/ILF3.combined.meme /home/ylee/meme/Actg1_hotspot.fasta\n",
       "  motif_alt_id sequence_name                start stop strand score   p.value \n",
       "1 NNTGSCCTSNN  Actg1_hotspot_sequence_101nt 17    27   +      11.6667 3.22e-05\n",
       "2                                           NA    NA               NA       NA\n",
       "3                                           NA    NA               NA       NA\n",
       "4                                           NA    NA               NA       NA\n",
       "  q.value matched_sequence\n",
       "1 0.00496 GTTGCCCTGGA     \n",
       "2      NA                 \n",
       "3      NA                 \n",
       "4      NA                 "
      ]
     },
     "metadata": {},
     "output_type": "display_data"
    }
   ],
   "source": [
    "fimo_data"
   ]
  },
  {
   "cell_type": "code",
   "execution_count": 110,
   "id": "b5240734-8461-4d79-a0c7-c0b10dc8f21b",
   "metadata": {},
   "outputs": [],
   "source": [
    "alignment_details <- function(rbp_list, RBP_motifs) {\n",
    "    motif_details <- data.frame(\n",
    "        RBP_name = character(),\n",
    "        motif_id = character(),\n",
    "        motif_alt_id = character(),\n",
    "        alignment = logical(),\n",
    "        start = numeric(),\n",
    "        stop = numeric(),\n",
    "        strand = character(),\n",
    "        score = numeric(),\n",
    "        p_value = numeric(),\n",
    "        q_value = numeric(),\n",
    "        matched_sequence = character(),\n",
    "        stringsAsFactors = FALSE\n",
    "    )\n",
    "    \n",
    "    for (rbp in rbp_list){\n",
    "        fimo_file <- paste0(fimo_file_base_path, rbp, \"/fimo.tsv\")\n",
    "        fimo_data <- read.delim(fimo_file, header = TRUE)\n",
    "\n",
    "        motif_data <- RBP_motifs %>%\n",
    "            filter(RBP_name == rbp) %>%\n",
    "            select(motif_id, motif_alt_id)\n",
    "\n",
    "        final_data <- list()\n",
    "        for (i in 1:nrow(motif_data)) {\n",
    "            motif_row <-motif_data[i, ]\n",
    "            if (\"motif_id\" %in% colnames(fimo_data) && \"motif_alt_id\" %in% colnames(fimo_data)){\n",
    "                fimo_row <- fimo_data %>%  \n",
    "                    filter(motif_id == motif_row$motif_id[1], motif_alt_id == motif_row$motif_alt_id[1])\n",
    "                if (nrow(fimo_row) > 0) {\n",
    "                    # If alignment data exists, fill in alignment data\n",
    "                    alignment <- TRUE\n",
    "                    start <- fimo_row$start\n",
    "                    stop <- fimo_row$stop\n",
    "                    strand <- fimo_row$strand\n",
    "                    score <- fimo_row$score\n",
    "                    p_value <- fimo_row$p.value\n",
    "                    q_value <- fimo_row$q.value\n",
    "                    matched_sequence <- fimo_row$matched_sequence\n",
    "                } else {\n",
    "                    # If no alignment data, set to NA\n",
    "                    alignment <- FALSE\n",
    "                    start <- NA\n",
    "                    stop <- NA\n",
    "                    strand <- NA\n",
    "                    score <- NA\n",
    "                    p_value <- NA\n",
    "                    q_value <- NA\n",
    "                    matched_sequence <- NA\n",
    "                }\n",
    "            }else {\n",
    "                    # If no alignment data, set to NA\n",
    "                    alignment <- FALSE\n",
    "                    start <- NA\n",
    "                    stop <- NA\n",
    "                    strand <- NA\n",
    "                    score <- NA\n",
    "                    p_value <- NA\n",
    "                    q_value <- NA\n",
    "                    matched_sequence <- NA\n",
    "            }\n",
    "            \n",
    "\n",
    "            \n",
    "            # Create a data frame for the current motif and append to motif_details\n",
    "            motif_details <- bind_rows(motif_details, data.frame(\n",
    "                RBP_name = rbp,\n",
    "                motif_id = motif_row$motif_id[1],\n",
    "                motif_alt_id = motif_row$motif_alt_id[1],\n",
    "                alignment = alignment,\n",
    "                start = start,\n",
    "                stop = stop,\n",
    "                strand = strand,\n",
    "                score = score,\n",
    "                p_value = p_value,\n",
    "                q_value = q_value,\n",
    "                matched_sequence = matched_sequence,\n",
    "                stringsAsFactors = FALSE\n",
    "            ))\n",
    "        }\n",
    "    }\n",
    "    return(motif_details)    \n",
    "}"
   ]
  },
  {
   "cell_type": "code",
   "execution_count": 111,
   "id": "012d39c1-e829-423b-9a46-1dadfdb54e96",
   "metadata": {},
   "outputs": [],
   "source": [
    "motif_details <- alignment_details(rbp_list, RBP_motifs)"
   ]
  },
  {
   "cell_type": "code",
   "execution_count": 113,
   "id": "2e92020c-c87a-4281-a2c6-e68908160ccf",
   "metadata": {},
   "outputs": [
    {
     "data": {
      "text/html": [
       "<table class=\"dataframe\">\n",
       "<caption>A data.frame: 20 × 11</caption>\n",
       "<thead>\n",
       "\t<tr><th></th><th scope=col>RBP_name</th><th scope=col>motif_id</th><th scope=col>motif_alt_id</th><th scope=col>alignment</th><th scope=col>start</th><th scope=col>stop</th><th scope=col>strand</th><th scope=col>score</th><th scope=col>p_value</th><th scope=col>q_value</th><th scope=col>matched_sequence</th></tr>\n",
       "\t<tr><th></th><th scope=col>&lt;chr&gt;</th><th scope=col>&lt;chr&gt;</th><th scope=col>&lt;chr&gt;</th><th scope=col>&lt;lgl&gt;</th><th scope=col>&lt;dbl&gt;</th><th scope=col>&lt;dbl&gt;</th><th scope=col>&lt;chr&gt;</th><th scope=col>&lt;dbl&gt;</th><th scope=col>&lt;dbl&gt;</th><th scope=col>&lt;dbl&gt;</th><th scope=col>&lt;chr&gt;</th></tr>\n",
       "</thead>\n",
       "<tbody>\n",
       "\t<tr><th scope=row>1</th><td>AARS </td><td>1.1  </td><td>YWTDGCTAGKB</td><td>FALSE</td><td>NA</td><td>NA</td><td>NA</td><td>    NA</td><td>      NA</td><td>      NA</td><td>NA         </td></tr>\n",
       "\t<tr><th scope=row>2</th><td>AARS </td><td>1.10 </td><td>WSARYTCACYK</td><td>FALSE</td><td>NA</td><td>NA</td><td>NA</td><td>    NA</td><td>      NA</td><td>      NA</td><td>NA         </td></tr>\n",
       "\t<tr><th scope=row>3</th><td>AARS </td><td>1.2  </td><td>YNGWCATAGDW</td><td>FALSE</td><td>NA</td><td>NA</td><td>NA</td><td>    NA</td><td>      NA</td><td>      NA</td><td>NA         </td></tr>\n",
       "\t<tr><th scope=row>4</th><td>AARS </td><td>1.3  </td><td>DNGATCATANN</td><td>FALSE</td><td>NA</td><td>NA</td><td>NA</td><td>    NA</td><td>      NA</td><td>      NA</td><td>NA         </td></tr>\n",
       "\t<tr><th scope=row>5</th><td>AARS </td><td>1.4  </td><td>BHVTTWCCAVW</td><td>FALSE</td><td>NA</td><td>NA</td><td>NA</td><td>    NA</td><td>      NA</td><td>      NA</td><td>NA         </td></tr>\n",
       "\t<tr><th scope=row>6</th><td>AARS </td><td>1.5  </td><td>NNAAGSCCTNN</td><td>FALSE</td><td>NA</td><td>NA</td><td>NA</td><td>    NA</td><td>      NA</td><td>      NA</td><td>NA         </td></tr>\n",
       "\t<tr><th scope=row>7</th><td>AARS </td><td>1.6  </td><td>NBTGTCBTRVD</td><td>FALSE</td><td>NA</td><td>NA</td><td>NA</td><td>    NA</td><td>      NA</td><td>      NA</td><td>NA         </td></tr>\n",
       "\t<tr><th scope=row>8</th><td>AARS </td><td>1.7  </td><td>HKDTCCCAAVW</td><td>FALSE</td><td>NA</td><td>NA</td><td>NA</td><td>    NA</td><td>      NA</td><td>      NA</td><td>NA         </td></tr>\n",
       "\t<tr><th scope=row>9</th><td>AARS </td><td>1.8  </td><td>DRKTCAGACHB</td><td>FALSE</td><td>NA</td><td>NA</td><td>NA</td><td>    NA</td><td>      NA</td><td>      NA</td><td>NA         </td></tr>\n",
       "\t<tr><th scope=row>10</th><td>AARS </td><td>1.9  </td><td>HWTGAGACABK</td><td>FALSE</td><td>NA</td><td>NA</td><td>NA</td><td>    NA</td><td>      NA</td><td>      NA</td><td>NA         </td></tr>\n",
       "\t<tr><th scope=row>11</th><td>AGGF1</td><td>1.1.1</td><td>DDGAAGAWAND</td><td>FALSE</td><td>NA</td><td>NA</td><td>NA</td><td>    NA</td><td>      NA</td><td>      NA</td><td>NA         </td></tr>\n",
       "\t<tr><th scope=row>12</th><td>AGGF1</td><td>1.1.2</td><td>DDGAAGAAAND</td><td>FALSE</td><td>NA</td><td>NA</td><td>NA</td><td>    NA</td><td>      NA</td><td>      NA</td><td>NA         </td></tr>\n",
       "\t<tr><th scope=row>13</th><td>AGGF1</td><td>1.2.1</td><td>NDRGAAGAADN</td><td>FALSE</td><td>NA</td><td>NA</td><td>NA</td><td>    NA</td><td>      NA</td><td>      NA</td><td>NA         </td></tr>\n",
       "\t<tr><th scope=row>14</th><td>AGGF1</td><td>1.2.2</td><td>YRCACACACHY</td><td>FALSE</td><td>NA</td><td>NA</td><td>NA</td><td>    NA</td><td>      NA</td><td>      NA</td><td>NA         </td></tr>\n",
       "\t<tr><th scope=row>15</th><td>AGGF1</td><td>1.3.1</td><td>NDAAWGAAGNN</td><td>FALSE</td><td>NA</td><td>NA</td><td>NA</td><td>    NA</td><td>      NA</td><td>      NA</td><td>NA         </td></tr>\n",
       "\t<tr><th scope=row>16</th><td>AGGF1</td><td>1.3.2</td><td>DNAAGAAMTDN</td><td>FALSE</td><td>NA</td><td>NA</td><td>NA</td><td>    NA</td><td>      NA</td><td>      NA</td><td>NA         </td></tr>\n",
       "\t<tr><th scope=row>17</th><td>AGGF1</td><td>1.4.1</td><td>DNWRGAAGANN</td><td> TRUE</td><td>57</td><td>67</td><td>- </td><td>13.371</td><td>1.03e-06</td><td>0.000175</td><td>GGAGGAAGATG</td></tr>\n",
       "\t<tr><th scope=row>18</th><td>AGGF1</td><td>1.4.2</td><td>DDAAWGAAGNN</td><td>FALSE</td><td>NA</td><td>NA</td><td>NA</td><td>    NA</td><td>      NA</td><td>      NA</td><td>NA         </td></tr>\n",
       "\t<tr><th scope=row>19</th><td>AGGF1</td><td>1.5.1</td><td>NDAAGAAHTDD</td><td>FALSE</td><td>NA</td><td>NA</td><td>NA</td><td>    NA</td><td>      NA</td><td>      NA</td><td>NA         </td></tr>\n",
       "\t<tr><th scope=row>20</th><td>AGGF1</td><td>1.5.2</td><td>AYACACACAYN</td><td>FALSE</td><td>NA</td><td>NA</td><td>NA</td><td>    NA</td><td>      NA</td><td>      NA</td><td>NA         </td></tr>\n",
       "</tbody>\n",
       "</table>\n"
      ],
      "text/latex": [
       "A data.frame: 20 × 11\n",
       "\\begin{tabular}{r|lllllllllll}\n",
       "  & RBP\\_name & motif\\_id & motif\\_alt\\_id & alignment & start & stop & strand & score & p\\_value & q\\_value & matched\\_sequence\\\\\n",
       "  & <chr> & <chr> & <chr> & <lgl> & <dbl> & <dbl> & <chr> & <dbl> & <dbl> & <dbl> & <chr>\\\\\n",
       "\\hline\n",
       "\t1 & AARS  & 1.1   & YWTDGCTAGKB & FALSE & NA & NA & NA &     NA &       NA &       NA & NA         \\\\\n",
       "\t2 & AARS  & 1.10  & WSARYTCACYK & FALSE & NA & NA & NA &     NA &       NA &       NA & NA         \\\\\n",
       "\t3 & AARS  & 1.2   & YNGWCATAGDW & FALSE & NA & NA & NA &     NA &       NA &       NA & NA         \\\\\n",
       "\t4 & AARS  & 1.3   & DNGATCATANN & FALSE & NA & NA & NA &     NA &       NA &       NA & NA         \\\\\n",
       "\t5 & AARS  & 1.4   & BHVTTWCCAVW & FALSE & NA & NA & NA &     NA &       NA &       NA & NA         \\\\\n",
       "\t6 & AARS  & 1.5   & NNAAGSCCTNN & FALSE & NA & NA & NA &     NA &       NA &       NA & NA         \\\\\n",
       "\t7 & AARS  & 1.6   & NBTGTCBTRVD & FALSE & NA & NA & NA &     NA &       NA &       NA & NA         \\\\\n",
       "\t8 & AARS  & 1.7   & HKDTCCCAAVW & FALSE & NA & NA & NA &     NA &       NA &       NA & NA         \\\\\n",
       "\t9 & AARS  & 1.8   & DRKTCAGACHB & FALSE & NA & NA & NA &     NA &       NA &       NA & NA         \\\\\n",
       "\t10 & AARS  & 1.9   & HWTGAGACABK & FALSE & NA & NA & NA &     NA &       NA &       NA & NA         \\\\\n",
       "\t11 & AGGF1 & 1.1.1 & DDGAAGAWAND & FALSE & NA & NA & NA &     NA &       NA &       NA & NA         \\\\\n",
       "\t12 & AGGF1 & 1.1.2 & DDGAAGAAAND & FALSE & NA & NA & NA &     NA &       NA &       NA & NA         \\\\\n",
       "\t13 & AGGF1 & 1.2.1 & NDRGAAGAADN & FALSE & NA & NA & NA &     NA &       NA &       NA & NA         \\\\\n",
       "\t14 & AGGF1 & 1.2.2 & YRCACACACHY & FALSE & NA & NA & NA &     NA &       NA &       NA & NA         \\\\\n",
       "\t15 & AGGF1 & 1.3.1 & NDAAWGAAGNN & FALSE & NA & NA & NA &     NA &       NA &       NA & NA         \\\\\n",
       "\t16 & AGGF1 & 1.3.2 & DNAAGAAMTDN & FALSE & NA & NA & NA &     NA &       NA &       NA & NA         \\\\\n",
       "\t17 & AGGF1 & 1.4.1 & DNWRGAAGANN &  TRUE & 57 & 67 & -  & 13.371 & 1.03e-06 & 0.000175 & GGAGGAAGATG\\\\\n",
       "\t18 & AGGF1 & 1.4.2 & DDAAWGAAGNN & FALSE & NA & NA & NA &     NA &       NA &       NA & NA         \\\\\n",
       "\t19 & AGGF1 & 1.5.1 & NDAAGAAHTDD & FALSE & NA & NA & NA &     NA &       NA &       NA & NA         \\\\\n",
       "\t20 & AGGF1 & 1.5.2 & AYACACACAYN & FALSE & NA & NA & NA &     NA &       NA &       NA & NA         \\\\\n",
       "\\end{tabular}\n"
      ],
      "text/markdown": [
       "\n",
       "A data.frame: 20 × 11\n",
       "\n",
       "| <!--/--> | RBP_name &lt;chr&gt; | motif_id &lt;chr&gt; | motif_alt_id &lt;chr&gt; | alignment &lt;lgl&gt; | start &lt;dbl&gt; | stop &lt;dbl&gt; | strand &lt;chr&gt; | score &lt;dbl&gt; | p_value &lt;dbl&gt; | q_value &lt;dbl&gt; | matched_sequence &lt;chr&gt; |\n",
       "|---|---|---|---|---|---|---|---|---|---|---|---|\n",
       "| 1 | AARS  | 1.1   | YWTDGCTAGKB | FALSE | NA | NA | NA |     NA |       NA |       NA | NA          |\n",
       "| 2 | AARS  | 1.10  | WSARYTCACYK | FALSE | NA | NA | NA |     NA |       NA |       NA | NA          |\n",
       "| 3 | AARS  | 1.2   | YNGWCATAGDW | FALSE | NA | NA | NA |     NA |       NA |       NA | NA          |\n",
       "| 4 | AARS  | 1.3   | DNGATCATANN | FALSE | NA | NA | NA |     NA |       NA |       NA | NA          |\n",
       "| 5 | AARS  | 1.4   | BHVTTWCCAVW | FALSE | NA | NA | NA |     NA |       NA |       NA | NA          |\n",
       "| 6 | AARS  | 1.5   | NNAAGSCCTNN | FALSE | NA | NA | NA |     NA |       NA |       NA | NA          |\n",
       "| 7 | AARS  | 1.6   | NBTGTCBTRVD | FALSE | NA | NA | NA |     NA |       NA |       NA | NA          |\n",
       "| 8 | AARS  | 1.7   | HKDTCCCAAVW | FALSE | NA | NA | NA |     NA |       NA |       NA | NA          |\n",
       "| 9 | AARS  | 1.8   | DRKTCAGACHB | FALSE | NA | NA | NA |     NA |       NA |       NA | NA          |\n",
       "| 10 | AARS  | 1.9   | HWTGAGACABK | FALSE | NA | NA | NA |     NA |       NA |       NA | NA          |\n",
       "| 11 | AGGF1 | 1.1.1 | DDGAAGAWAND | FALSE | NA | NA | NA |     NA |       NA |       NA | NA          |\n",
       "| 12 | AGGF1 | 1.1.2 | DDGAAGAAAND | FALSE | NA | NA | NA |     NA |       NA |       NA | NA          |\n",
       "| 13 | AGGF1 | 1.2.1 | NDRGAAGAADN | FALSE | NA | NA | NA |     NA |       NA |       NA | NA          |\n",
       "| 14 | AGGF1 | 1.2.2 | YRCACACACHY | FALSE | NA | NA | NA |     NA |       NA |       NA | NA          |\n",
       "| 15 | AGGF1 | 1.3.1 | NDAAWGAAGNN | FALSE | NA | NA | NA |     NA |       NA |       NA | NA          |\n",
       "| 16 | AGGF1 | 1.3.2 | DNAAGAAMTDN | FALSE | NA | NA | NA |     NA |       NA |       NA | NA          |\n",
       "| 17 | AGGF1 | 1.4.1 | DNWRGAAGANN |  TRUE | 57 | 67 | -  | 13.371 | 1.03e-06 | 0.000175 | GGAGGAAGATG |\n",
       "| 18 | AGGF1 | 1.4.2 | DDAAWGAAGNN | FALSE | NA | NA | NA |     NA |       NA |       NA | NA          |\n",
       "| 19 | AGGF1 | 1.5.1 | NDAAGAAHTDD | FALSE | NA | NA | NA |     NA |       NA |       NA | NA          |\n",
       "| 20 | AGGF1 | 1.5.2 | AYACACACAYN | FALSE | NA | NA | NA |     NA |       NA |       NA | NA          |\n",
       "\n"
      ],
      "text/plain": [
       "   RBP_name motif_id motif_alt_id alignment start stop strand score  p_value \n",
       "1  AARS     1.1      YWTDGCTAGKB  FALSE     NA    NA   NA         NA       NA\n",
       "2  AARS     1.10     WSARYTCACYK  FALSE     NA    NA   NA         NA       NA\n",
       "3  AARS     1.2      YNGWCATAGDW  FALSE     NA    NA   NA         NA       NA\n",
       "4  AARS     1.3      DNGATCATANN  FALSE     NA    NA   NA         NA       NA\n",
       "5  AARS     1.4      BHVTTWCCAVW  FALSE     NA    NA   NA         NA       NA\n",
       "6  AARS     1.5      NNAAGSCCTNN  FALSE     NA    NA   NA         NA       NA\n",
       "7  AARS     1.6      NBTGTCBTRVD  FALSE     NA    NA   NA         NA       NA\n",
       "8  AARS     1.7      HKDTCCCAAVW  FALSE     NA    NA   NA         NA       NA\n",
       "9  AARS     1.8      DRKTCAGACHB  FALSE     NA    NA   NA         NA       NA\n",
       "10 AARS     1.9      HWTGAGACABK  FALSE     NA    NA   NA         NA       NA\n",
       "11 AGGF1    1.1.1    DDGAAGAWAND  FALSE     NA    NA   NA         NA       NA\n",
       "12 AGGF1    1.1.2    DDGAAGAAAND  FALSE     NA    NA   NA         NA       NA\n",
       "13 AGGF1    1.2.1    NDRGAAGAADN  FALSE     NA    NA   NA         NA       NA\n",
       "14 AGGF1    1.2.2    YRCACACACHY  FALSE     NA    NA   NA         NA       NA\n",
       "15 AGGF1    1.3.1    NDAAWGAAGNN  FALSE     NA    NA   NA         NA       NA\n",
       "16 AGGF1    1.3.2    DNAAGAAMTDN  FALSE     NA    NA   NA         NA       NA\n",
       "17 AGGF1    1.4.1    DNWRGAAGANN   TRUE     57    67   -      13.371 1.03e-06\n",
       "18 AGGF1    1.4.2    DDAAWGAAGNN  FALSE     NA    NA   NA         NA       NA\n",
       "19 AGGF1    1.5.1    NDAAGAAHTDD  FALSE     NA    NA   NA         NA       NA\n",
       "20 AGGF1    1.5.2    AYACACACAYN  FALSE     NA    NA   NA         NA       NA\n",
       "   q_value  matched_sequence\n",
       "1        NA NA              \n",
       "2        NA NA              \n",
       "3        NA NA              \n",
       "4        NA NA              \n",
       "5        NA NA              \n",
       "6        NA NA              \n",
       "7        NA NA              \n",
       "8        NA NA              \n",
       "9        NA NA              \n",
       "10       NA NA              \n",
       "11       NA NA              \n",
       "12       NA NA              \n",
       "13       NA NA              \n",
       "14       NA NA              \n",
       "15       NA NA              \n",
       "16       NA NA              \n",
       "17 0.000175 GGAGGAAGATG     \n",
       "18       NA NA              \n",
       "19       NA NA              \n",
       "20       NA NA              "
      ]
     },
     "metadata": {},
     "output_type": "display_data"
    }
   ],
   "source": [
    "head(motif_details, 20)"
   ]
  },
  {
   "cell_type": "code",
   "execution_count": 114,
   "id": "13b7c757-2610-44a8-a0e9-a45f2b4636a9",
   "metadata": {},
   "outputs": [],
   "source": [
    "write.csv(motif_details, \"/home/ylee/meme/fimo_out/Actg1_hotspot/RBP_motif_alignment.csv\", row.names = FALSE)"
   ]
  },
  {
   "cell_type": "code",
   "execution_count": null,
   "id": "92c418f6-02bf-459e-8ca2-840da6ce6527",
   "metadata": {},
   "outputs": [],
   "source": []
  }
 ],
 "metadata": {
  "kernelspec": {
   "display_name": "r_4.1.2",
   "language": "R",
   "name": "r_4.1.2"
  },
  "language_info": {
   "codemirror_mode": "r",
   "file_extension": ".r",
   "mimetype": "text/x-r-source",
   "name": "R",
   "pygments_lexer": "r",
   "version": "4.1.2"
  }
 },
 "nbformat": 4,
 "nbformat_minor": 5
}
