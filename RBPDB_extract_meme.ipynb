{
 "cells": [
  {
   "cell_type": "code",
   "execution_count": 1,
   "id": "9bc93c71-63f7-4c00-9dff-b794f93a2749",
   "metadata": {},
   "outputs": [],
   "source": [
    "# Replace double tabs with a single tab\n",
    "file_content <- readLines(\"/home/ylee/RBPDB/PFMs/matrix_list.txt\")\n",
    "file_content_clean <- gsub(\"\\t{2}\", \"\\t\", file_content)\n",
    "\n",
    "temp_file <- tempfile()\n",
    "writeLines(file_content_clean, temp_file)\n",
    "file_info <- read.table(temp_file, header = FALSE, sep = \"\\t\")\n",
    "unlink(temp_file)    # Remove the temporary file"
   ]
  },
  {
   "cell_type": "code",
   "execution_count": 2,
   "id": "38922388-fc55-4887-85e5-a76bbd5a79d9",
   "metadata": {},
   "outputs": [
    {
     "data": {
      "text/html": [
       "<table class=\"dataframe\">\n",
       "<caption>A data.frame: 6 × 4</caption>\n",
       "<thead>\n",
       "\t<tr><th></th><th scope=col>motif_id</th><th scope=col>num</th><th scope=col>RBP_name</th><th scope=col>RBP_domain</th></tr>\n",
       "\t<tr><th></th><th scope=col>&lt;chr&gt;</th><th scope=col>&lt;dbl&gt;</th><th scope=col>&lt;chr&gt;</th><th scope=col>&lt;chr&gt;</th></tr>\n",
       "</thead>\n",
       "<tbody>\n",
       "\t<tr><th scope=row>1</th><td>1216_19457263</td><td>14.192382</td><td>KHDRBS3</td><td>KHx1 </td></tr>\n",
       "\t<tr><th scope=row>2</th><td>149_16041388 </td><td>12.412947</td><td>QKI    </td><td>KHx1 </td></tr>\n",
       "\t<tr><th scope=row>3</th><td>1176_19561594</td><td> 8.206370</td><td>Vts1   </td><td>SAMx1</td></tr>\n",
       "\t<tr><th scope=row>4</th><td>662_1717938  </td><td>11.815652</td><td>SNRPA  </td><td>RRMx2</td></tr>\n",
       "\t<tr><th scope=row>5</th><td>950_7908267  </td><td> 8.432399</td><td>PABPC1 </td><td>RRMx4</td></tr>\n",
       "\t<tr><th scope=row>6</th><td>1173_19561594</td><td> 6.607919</td><td>SFRS1  </td><td>RRMx2</td></tr>\n",
       "</tbody>\n",
       "</table>\n"
      ],
      "text/latex": [
       "A data.frame: 6 × 4\n",
       "\\begin{tabular}{r|llll}\n",
       "  & motif\\_id & num & RBP\\_name & RBP\\_domain\\\\\n",
       "  & <chr> & <dbl> & <chr> & <chr>\\\\\n",
       "\\hline\n",
       "\t1 & 1216\\_19457263 & 14.192382 & KHDRBS3 & KHx1 \\\\\n",
       "\t2 & 149\\_16041388  & 12.412947 & QKI     & KHx1 \\\\\n",
       "\t3 & 1176\\_19561594 &  8.206370 & Vts1    & SAMx1\\\\\n",
       "\t4 & 662\\_1717938   & 11.815652 & SNRPA   & RRMx2\\\\\n",
       "\t5 & 950\\_7908267   &  8.432399 & PABPC1  & RRMx4\\\\\n",
       "\t6 & 1173\\_19561594 &  6.607919 & SFRS1   & RRMx2\\\\\n",
       "\\end{tabular}\n"
      ],
      "text/markdown": [
       "\n",
       "A data.frame: 6 × 4\n",
       "\n",
       "| <!--/--> | motif_id &lt;chr&gt; | num &lt;dbl&gt; | RBP_name &lt;chr&gt; | RBP_domain &lt;chr&gt; |\n",
       "|---|---|---|---|---|\n",
       "| 1 | 1216_19457263 | 14.192382 | KHDRBS3 | KHx1  |\n",
       "| 2 | 149_16041388  | 12.412947 | QKI     | KHx1  |\n",
       "| 3 | 1176_19561594 |  8.206370 | Vts1    | SAMx1 |\n",
       "| 4 | 662_1717938   | 11.815652 | SNRPA   | RRMx2 |\n",
       "| 5 | 950_7908267   |  8.432399 | PABPC1  | RRMx4 |\n",
       "| 6 | 1173_19561594 |  6.607919 | SFRS1   | RRMx2 |\n",
       "\n"
      ],
      "text/plain": [
       "  motif_id      num       RBP_name RBP_domain\n",
       "1 1216_19457263 14.192382 KHDRBS3  KHx1      \n",
       "2 149_16041388  12.412947 QKI      KHx1      \n",
       "3 1176_19561594  8.206370 Vts1     SAMx1     \n",
       "4 662_1717938   11.815652 SNRPA    RRMx2     \n",
       "5 950_7908267    8.432399 PABPC1   RRMx4     \n",
       "6 1173_19561594  6.607919 SFRS1    RRMx2     "
      ]
     },
     "metadata": {},
     "output_type": "display_data"
    }
   ],
   "source": [
    "colnames(file_info) <- c(\"motif_id\", \"num\", \"RBP_name\", \"RBP_domain\")\n",
    "file_info <- file_info[, -5]\n",
    "head(file_info)"
   ]
  },
  {
   "cell_type": "code",
   "execution_count": 4,
   "id": "25021b90-fe71-4d5e-a15a-c90e4fb25dcf",
   "metadata": {
    "scrolled": true
   },
   "outputs": [],
   "source": [
    "library(AnnotationDbi)\n",
    "library(org.Hs.eg.db) # Human gene database\n",
    "library(org.Mm.eg.db) # Mouse gene database"
   ]
  },
  {
   "cell_type": "code",
   "execution_count": 5,
   "id": "f9b35d36-0369-4293-bce6-37229c1addca",
   "metadata": {},
   "outputs": [
    {
     "data": {
      "text/html": [
       "<table class=\"dataframe\">\n",
       "<caption>A data.frame: 6 × 6</caption>\n",
       "<thead>\n",
       "\t<tr><th></th><th scope=col>motif_id</th><th scope=col>num</th><th scope=col>RBP_name</th><th scope=col>RBP_domain</th><th scope=col>valid_human</th><th scope=col>valid_mouse</th></tr>\n",
       "\t<tr><th></th><th scope=col>&lt;chr&gt;</th><th scope=col>&lt;dbl&gt;</th><th scope=col>&lt;chr&gt;</th><th scope=col>&lt;chr&gt;</th><th scope=col>&lt;lgl&gt;</th><th scope=col>&lt;lgl&gt;</th></tr>\n",
       "</thead>\n",
       "<tbody>\n",
       "\t<tr><th scope=row>1</th><td>1216_19457263</td><td>14.192382</td><td>KHDRBS3</td><td>KHx1 </td><td> TRUE</td><td>FALSE</td></tr>\n",
       "\t<tr><th scope=row>2</th><td>149_16041388 </td><td>12.412947</td><td>QKI    </td><td>KHx1 </td><td> TRUE</td><td>FALSE</td></tr>\n",
       "\t<tr><th scope=row>3</th><td>1176_19561594</td><td> 8.206370</td><td>Vts1   </td><td>SAMx1</td><td>FALSE</td><td>FALSE</td></tr>\n",
       "\t<tr><th scope=row>4</th><td>662_1717938  </td><td>11.815652</td><td>SNRPA  </td><td>RRMx2</td><td> TRUE</td><td>FALSE</td></tr>\n",
       "\t<tr><th scope=row>5</th><td>950_7908267  </td><td> 8.432399</td><td>PABPC1 </td><td>RRMx4</td><td> TRUE</td><td>FALSE</td></tr>\n",
       "\t<tr><th scope=row>6</th><td>1173_19561594</td><td> 6.607919</td><td>SFRS1  </td><td>RRMx2</td><td>FALSE</td><td>FALSE</td></tr>\n",
       "</tbody>\n",
       "</table>\n"
      ],
      "text/latex": [
       "A data.frame: 6 × 6\n",
       "\\begin{tabular}{r|llllll}\n",
       "  & motif\\_id & num & RBP\\_name & RBP\\_domain & valid\\_human & valid\\_mouse\\\\\n",
       "  & <chr> & <dbl> & <chr> & <chr> & <lgl> & <lgl>\\\\\n",
       "\\hline\n",
       "\t1 & 1216\\_19457263 & 14.192382 & KHDRBS3 & KHx1  &  TRUE & FALSE\\\\\n",
       "\t2 & 149\\_16041388  & 12.412947 & QKI     & KHx1  &  TRUE & FALSE\\\\\n",
       "\t3 & 1176\\_19561594 &  8.206370 & Vts1    & SAMx1 & FALSE & FALSE\\\\\n",
       "\t4 & 662\\_1717938   & 11.815652 & SNRPA   & RRMx2 &  TRUE & FALSE\\\\\n",
       "\t5 & 950\\_7908267   &  8.432399 & PABPC1  & RRMx4 &  TRUE & FALSE\\\\\n",
       "\t6 & 1173\\_19561594 &  6.607919 & SFRS1   & RRMx2 & FALSE & FALSE\\\\\n",
       "\\end{tabular}\n"
      ],
      "text/markdown": [
       "\n",
       "A data.frame: 6 × 6\n",
       "\n",
       "| <!--/--> | motif_id &lt;chr&gt; | num &lt;dbl&gt; | RBP_name &lt;chr&gt; | RBP_domain &lt;chr&gt; | valid_human &lt;lgl&gt; | valid_mouse &lt;lgl&gt; |\n",
       "|---|---|---|---|---|---|---|\n",
       "| 1 | 1216_19457263 | 14.192382 | KHDRBS3 | KHx1  |  TRUE | FALSE |\n",
       "| 2 | 149_16041388  | 12.412947 | QKI     | KHx1  |  TRUE | FALSE |\n",
       "| 3 | 1176_19561594 |  8.206370 | Vts1    | SAMx1 | FALSE | FALSE |\n",
       "| 4 | 662_1717938   | 11.815652 | SNRPA   | RRMx2 |  TRUE | FALSE |\n",
       "| 5 | 950_7908267   |  8.432399 | PABPC1  | RRMx4 |  TRUE | FALSE |\n",
       "| 6 | 1173_19561594 |  6.607919 | SFRS1   | RRMx2 | FALSE | FALSE |\n",
       "\n"
      ],
      "text/plain": [
       "  motif_id      num       RBP_name RBP_domain valid_human valid_mouse\n",
       "1 1216_19457263 14.192382 KHDRBS3  KHx1        TRUE       FALSE      \n",
       "2 149_16041388  12.412947 QKI      KHx1        TRUE       FALSE      \n",
       "3 1176_19561594  8.206370 Vts1     SAMx1      FALSE       FALSE      \n",
       "4 662_1717938   11.815652 SNRPA    RRMx2       TRUE       FALSE      \n",
       "5 950_7908267    8.432399 PABPC1   RRMx4       TRUE       FALSE      \n",
       "6 1173_19561594  6.607919 SFRS1    RRMx2      FALSE       FALSE      "
      ]
     },
     "metadata": {},
     "output_type": "display_data"
    }
   ],
   "source": [
    "# bring valid key list\n",
    "valid_human_keys <- c(keys(org.Hs.eg.db, keytype = \"SYMBOL\"), keys(org.Hs.eg.db, keytype = \"ENSEMBL\"))\n",
    "valid_mouse_keys <- c(keys(org.Mm.eg.db, keytype = \"SYMBOL\"), keys(org.Mm.eg.db, keytype = \"ENSEMBL\"))\n",
    "\n",
    "# check if the RBP_name is valid\n",
    "file_info$valid_human <- file_info$RBP_name %in% valid_human_keys\n",
    "file_info$valid_mouse <- file_info$RBP_name %in% valid_mouse_keys\n",
    "\n",
    "head(file_info)"
   ]
  },
  {
   "cell_type": "code",
   "execution_count": 6,
   "id": "4ffdbe50-3c8f-48f8-83df-1307d4878452",
   "metadata": {
    "collapsed": true,
    "jupyter": {
     "outputs_hidden": true
    },
    "scrolled": true
   },
   "outputs": [
    {
     "name": "stdout",
     "output_type": "stream",
     "text": [
      "[1] \"Saved: /home/ylee/RBPDB/RBPDB_PFM_species_filtered/KHDRBS3_PWM_1216_19457263.txt\"\n",
      "[1] \"Saved: /home/ylee/RBPDB/RBPDB_PFM_species_filtered/QKI_PWM_149_16041388.txt\"\n",
      "[1] \"Saved: /home/ylee/RBPDB/RBPDB_PFM_species_filtered/SNRPA_PWM_662_1717938.txt\"\n",
      "[1] \"Saved: /home/ylee/RBPDB/RBPDB_PFM_species_filtered/PABPC1_PWM_950_7908267.txt\"\n",
      "[1] \"Saved: /home/ylee/RBPDB/RBPDB_PFM_species_filtered/ZFP36_PWM_221_12324455.txt\"\n",
      "[1] \"Saved: /home/ylee/RBPDB/RBPDB_PFM_species_filtered/EIF4B_PWM_350_8846295.txt\"\n",
      "[1] \"Saved: /home/ylee/RBPDB/RBPDB_PFM_species_filtered/SNRPA_PWM_1175_19561594.txt\"\n",
      "[1] \"Saved: /home/ylee/RBPDB/RBPDB_PFM_species_filtered/RBMY1A1_PWM_1052_17318228.txt\"\n",
      "[1] \"Saved: /home/ylee/RBPDB/RBPDB_PFM_species_filtered/NOVA2_PWM_682_10811881.txt\"\n",
      "[1] \"Saved: /home/ylee/RBPDB/RBPDB_PFM_species_filtered/ELAVL1_PWM_1170_19561594.txt\"\n",
      "[1] \"Saved: /home/ylee/RBPDB/RBPDB_PFM_species_filtered/RBMY1A1_PWM_1053_17318228.txt\"\n",
      "[1] \"Saved: /home/ylee/RBPDB/RBPDB_PFM_species_filtered/PTBP1_PWM_1171_19561594.txt\"\n",
      "[1] \"Saved: /home/ylee/RBPDB/RBPDB_PFM_species_filtered/Pum2_PWM_330_11780640.txt\"\n",
      "[1] \"Saved: /home/ylee/RBPDB/RBPDB_PFM_species_filtered/SNRPA_PWM_947_10094314.txt\"\n",
      "[1] \"Saved: /home/ylee/RBPDB/RBPDB_PFM_species_filtered/SNRPA_PWM_948_10094314.txt\"\n",
      "[1] \"Saved: /home/ylee/RBPDB/RBPDB_PFM_species_filtered/NCL_PWM_131_11376140.txt\"\n",
      "[1] \"Saved: /home/ylee/RBPDB/RBPDB_PFM_species_filtered/ELAVL2_PWM_784_7972035.txt\"\n",
      "[1] \"Saved: /home/ylee/RBPDB/RBPDB_PFM_species_filtered/IGF2BP1_PWM_359_12507992.txt\"\n",
      "[1] \"Saved: /home/ylee/RBPDB/RBPDB_PFM_species_filtered/KHSRP_PWM_1186_17893325.txt\"\n",
      "[1] \"Saved: /home/ylee/RBPDB/RBPDB_PFM_species_filtered/ZRANB2_PWM_1285_19304800.txt\"\n",
      "[1] \"Saved: /home/ylee/RBPDB/RBPDB_PFM_species_filtered/SNRPA_PWM_661_1717938.txt\"\n",
      "[1] \"Saved: /home/ylee/RBPDB/RBPDB_PFM_species_filtered/SNRPA_PWM_946_10094314.txt\"\n",
      "[1] \"Saved: /home/ylee/RBPDB/RBPDB_PFM_species_filtered/Pum2_PWM_329_11780640.txt\"\n",
      "[1] \"Saved: /home/ylee/RBPDB/RBPDB_PFM_species_filtered/MBNL1_PWM_669_20071745.txt\"\n",
      "[1] \"Saved: /home/ylee/RBPDB/RBPDB_PFM_species_filtered/ELAVL2_PWM_783_7972035.txt\"\n",
      "[1] \"Saved: /home/ylee/RBPDB/RBPDB_PFM_species_filtered/YBX1_PWM_1177_19561594.txt\"\n",
      "[1] \"Saved: /home/ylee/RBPDB/RBPDB_PFM_species_filtered/FUS_PWM_637_11098054.txt\"\n",
      "[1] \"Saved: /home/ylee/RBPDB/RBPDB_PFM_species_filtered/QKI_PWM_1215_16041388.txt\"\n",
      "[1] \"Saved: /home/ylee/RBPDB/RBPDB_PFM_species_filtered/RBMX_PWM_922_19282290.txt\"\n",
      "[1] \"Saved: /home/ylee/RBPDB/RBPDB_PFM_species_filtered/HNRNPA1_PWM_23_7510636.txt\"\n",
      "[1] \"Saved: /home/ylee/RBPDB/RBPDB_PFM_species_filtered/KHDRBS3_PWM_147_19457263.txt\"\n",
      "[1] \"Saved: /home/ylee/RBPDB/RBPDB_PFM_species_filtered/KHDRBS3_PWM_1174_19561594.txt\"\n",
      "[1] \"Saved: /home/ylee/RBPDB/RBPDB_PFM_species_filtered/ACO1_PWM_1213_8021254.txt\"\n",
      "[1] \"Saved: /home/ylee/RBPDB/RBPDB_PFM_species_filtered/EIF4B_PWM_352_8846295.txt\"\n",
      "[1] \"Saved: /home/ylee/RBPDB/RBPDB_PFM_species_filtered/SNRPA_PWM_949_10094314.txt\"\n",
      "[1] \"Saved: /home/ylee/RBPDB/RBPDB_PFM_species_filtered/RBM4_PWM_1172_19561594.txt\"\n",
      "[1] \"Saved: /home/ylee/RBPDB/RBPDB_PFM_species_filtered/NONO_PWM_488_9001221.txt\"\n",
      "[1] \"Saved: /home/ylee/RBPDB/RBPDB_PFM_species_filtered/NCL_PWM_1026_10858445.txt\"\n",
      "[1] \"Saved: /home/ylee/RBPDB/RBPDB_PFM_species_filtered/ELAVL2_PWM_782_8497264.txt\"\n",
      "[1] \"Saved: /home/ylee/RBPDB/RBPDB_PFM_species_filtered/NOVA2_PWM_680_9789075.txt\"\n",
      "[1] \"Saved: /home/ylee/RBPDB/RBPDB_PFM_species_filtered/KHSRP_PWM_1185_17893325.txt\"\n",
      "[1] \"Saved: /home/ylee/RBPDB/RBPDB_PFM_species_filtered/YTHDC1_PWM_969_20167602.txt\"\n",
      "[1] \"Saved: /home/ylee/RBPDB/RBPDB_PFM_species_filtered/ZFP36_PWM_951_12324455.txt\"\n",
      "[1] \"Saved: /home/ylee/RBPDB/RBPDB_PFM_species_filtered/SNRPA_PWM_663_1717938.txt\"\n",
      "[1] \"Saved: /home/ylee/RBPDB/RBPDB_PFM_species_filtered/PABPC1_PWM_24_7908267.txt\"\n",
      "[1] \"Saved: /home/ylee/RBPDB/RBPDB_PFM_species_filtered/EIF4B_PWM_351_8846295.txt\"\n",
      "[1] \"Saved: /home/ylee/RBPDB/RBPDB_PFM_species_filtered/NCL_PWM_1004_8676391.txt\"\n"
     ]
    }
   ],
   "source": [
    "input_dir = \"/home/ylee/RBPDB/PFMs/\"\n",
    "output_dir = \"/home/ylee/RBPDB/RBPDB_PFM_species_filtered/\"\n",
    "\n",
    "for (i in 1:nrow(file_info)) {\n",
    "    RBP <- file_info[i, \"RBP_name\"]\n",
    "    \n",
    "    if (file_info[i, \"valid_human\"] || file_info[i, \"valid_mouse\"]) {\n",
    "        input_file <- file.path(paste0(input_dir, file_info[i, \"motif_id\"], \".pfm\"))\n",
    "        output_file <- file.path(paste0(output_dir, file_info[i, \"RBP_name\"], \"_PWM_\", file_info[i, \"motif_id\"], \".txt\"))\n",
    "        \n",
    "        motif_data <- read.table(input_file, header = FALSE, sep = \"\", stringsAsFactors = FALSE)\n",
    "        matrix_data <- as.data.frame(t(motif_data))          # transpose data\n",
    "        \n",
    "        write.table(matrix_data, output_file, sep = \"\\t\", row.names = FALSE, col.names = FALSE, quote = FALSE)\n",
    "        print(paste(\"Saved:\", output_file))\n",
    "    }\n",
    "}"
   ]
  },
  {
   "cell_type": "markdown",
   "id": "af863d4a-9014-4af8-a9dd-3a02c2e33847",
   "metadata": {},
   "source": [
    "## Summary_original_info\n",
    "##### Summary that includes the original database information"
   ]
  },
  {
   "cell_type": "code",
   "execution_count": 16,
   "id": "d66db86d-4f34-40b7-bd28-cd1c194d7566",
   "metadata": {},
   "outputs": [],
   "source": [
    "base_dir <- \"/home/ylee/RBPDB/RBPDB_meme\""
   ]
  },
  {
   "cell_type": "code",
   "execution_count": 17,
   "id": "ea7bdf11-d674-41aa-9ec4-c189334a875f",
   "metadata": {},
   "outputs": [],
   "source": [
    "files <- list.files(base_dir, full.names = TRUE)\n",
    "\n",
    "file_info <- data.frame(\n",
    "    full_path = files,\n",
    "    base_name = basename(files),\n",
    "    stringsAsFactors = FALSE\n",
    ")\n",
    "\n",
    "file_info$RBP_name <- sub(\"_PWM.*\", \"\", file_info$base_name)\n",
    "file_info$motif_id <- sub(\".meme\", \"\", sub(\".*PWM_\", \"\", file_info$base_name))"
   ]
  },
  {
   "cell_type": "code",
   "execution_count": 18,
   "id": "9ba31f19-294e-4d92-b1cf-5fc7ea3372f0",
   "metadata": {},
   "outputs": [],
   "source": [
    "for (i in 1:nrow(file_info)) {\n",
    "    lines <- readLines(file_info[i, \"full_path\"])\n",
    "    motif_line <- grep(\"^MOTIF\", lines, value = TRUE)  # Find line starting with \"MOTIF\"\n",
    "    motif_name <- sub(\"^MOTIF \\\\d+\\\\s+\", \"\", motif_line)  # Remove \"MOTIF <number> \" to get the name\n",
    "    file_info[i, \"motif_alt_id\"] <- motif_name\n",
    "}"
   ]
  },
  {
   "cell_type": "code",
   "execution_count": 19,
   "id": "0b21ab33-2643-4abd-bd24-f8c6082c3685",
   "metadata": {},
   "outputs": [
    {
     "data": {
      "text/html": [
       "<table class=\"dataframe\">\n",
       "<caption>A data.frame: 6 × 5</caption>\n",
       "<thead>\n",
       "\t<tr><th></th><th scope=col>full_path</th><th scope=col>base_name</th><th scope=col>RBP_name</th><th scope=col>motif_id</th><th scope=col>motif_alt_id</th></tr>\n",
       "\t<tr><th></th><th scope=col>&lt;chr&gt;</th><th scope=col>&lt;chr&gt;</th><th scope=col>&lt;chr&gt;</th><th scope=col>&lt;chr&gt;</th><th scope=col>&lt;chr&gt;</th></tr>\n",
       "</thead>\n",
       "<tbody>\n",
       "\t<tr><th scope=row>1</th><td>/home/ylee/RBPDB/RBPDB_meme/ACO1_PWM_1213_8021254.meme   </td><td>ACO1_PWM_1213_8021254.meme   </td><td>ACO1  </td><td>1213_8021254 </td><td>YAGDRH        </td></tr>\n",
       "\t<tr><th scope=row>2</th><td>/home/ylee/RBPDB/RBPDB_meme/EIF4B_PWM_350_8846295.meme   </td><td>EIF4B_PWM_350_8846295.meme   </td><td>EIF4B </td><td>350_8846295  </td><td>BTHGGAM       </td></tr>\n",
       "\t<tr><th scope=row>3</th><td>/home/ylee/RBPDB/RBPDB_meme/EIF4B_PWM_351_8846295.meme   </td><td>EIF4B_PWM_351_8846295.meme   </td><td>EIF4B </td><td>351_8846295  </td><td>GYBGRAM       </td></tr>\n",
       "\t<tr><th scope=row>4</th><td>/home/ylee/RBPDB/RBPDB_meme/EIF4B_PWM_352_8846295.meme   </td><td>EIF4B_PWM_352_8846295.meme   </td><td>EIF4B </td><td>352_8846295  </td><td>GGAM          </td></tr>\n",
       "\t<tr><th scope=row>5</th><td>/home/ylee/RBPDB/RBPDB_meme/ELAVL1_PWM_1170_19561594.meme</td><td>ELAVL1_PWM_1170_19561594.meme</td><td>ELAVL1</td><td>1170_19561594</td><td>RTTW          </td></tr>\n",
       "\t<tr><th scope=row>6</th><td>/home/ylee/RBPDB/RBPDB_meme/ELAVL2_PWM_782_8497264.meme  </td><td>ELAVL2_PWM_782_8497264.meme  </td><td>ELAVL2</td><td>782_8497264  </td><td>HTYMTTTDYWTTHN</td></tr>\n",
       "</tbody>\n",
       "</table>\n"
      ],
      "text/latex": [
       "A data.frame: 6 × 5\n",
       "\\begin{tabular}{r|lllll}\n",
       "  & full\\_path & base\\_name & RBP\\_name & motif\\_id & motif\\_alt\\_id\\\\\n",
       "  & <chr> & <chr> & <chr> & <chr> & <chr>\\\\\n",
       "\\hline\n",
       "\t1 & /home/ylee/RBPDB/RBPDB\\_meme/ACO1\\_PWM\\_1213\\_8021254.meme    & ACO1\\_PWM\\_1213\\_8021254.meme    & ACO1   & 1213\\_8021254  & YAGDRH        \\\\\n",
       "\t2 & /home/ylee/RBPDB/RBPDB\\_meme/EIF4B\\_PWM\\_350\\_8846295.meme    & EIF4B\\_PWM\\_350\\_8846295.meme    & EIF4B  & 350\\_8846295   & BTHGGAM       \\\\\n",
       "\t3 & /home/ylee/RBPDB/RBPDB\\_meme/EIF4B\\_PWM\\_351\\_8846295.meme    & EIF4B\\_PWM\\_351\\_8846295.meme    & EIF4B  & 351\\_8846295   & GYBGRAM       \\\\\n",
       "\t4 & /home/ylee/RBPDB/RBPDB\\_meme/EIF4B\\_PWM\\_352\\_8846295.meme    & EIF4B\\_PWM\\_352\\_8846295.meme    & EIF4B  & 352\\_8846295   & GGAM          \\\\\n",
       "\t5 & /home/ylee/RBPDB/RBPDB\\_meme/ELAVL1\\_PWM\\_1170\\_19561594.meme & ELAVL1\\_PWM\\_1170\\_19561594.meme & ELAVL1 & 1170\\_19561594 & RTTW          \\\\\n",
       "\t6 & /home/ylee/RBPDB/RBPDB\\_meme/ELAVL2\\_PWM\\_782\\_8497264.meme   & ELAVL2\\_PWM\\_782\\_8497264.meme   & ELAVL2 & 782\\_8497264   & HTYMTTTDYWTTHN\\\\\n",
       "\\end{tabular}\n"
      ],
      "text/markdown": [
       "\n",
       "A data.frame: 6 × 5\n",
       "\n",
       "| <!--/--> | full_path &lt;chr&gt; | base_name &lt;chr&gt; | RBP_name &lt;chr&gt; | motif_id &lt;chr&gt; | motif_alt_id &lt;chr&gt; |\n",
       "|---|---|---|---|---|---|\n",
       "| 1 | /home/ylee/RBPDB/RBPDB_meme/ACO1_PWM_1213_8021254.meme    | ACO1_PWM_1213_8021254.meme    | ACO1   | 1213_8021254  | YAGDRH         |\n",
       "| 2 | /home/ylee/RBPDB/RBPDB_meme/EIF4B_PWM_350_8846295.meme    | EIF4B_PWM_350_8846295.meme    | EIF4B  | 350_8846295   | BTHGGAM        |\n",
       "| 3 | /home/ylee/RBPDB/RBPDB_meme/EIF4B_PWM_351_8846295.meme    | EIF4B_PWM_351_8846295.meme    | EIF4B  | 351_8846295   | GYBGRAM        |\n",
       "| 4 | /home/ylee/RBPDB/RBPDB_meme/EIF4B_PWM_352_8846295.meme    | EIF4B_PWM_352_8846295.meme    | EIF4B  | 352_8846295   | GGAM           |\n",
       "| 5 | /home/ylee/RBPDB/RBPDB_meme/ELAVL1_PWM_1170_19561594.meme | ELAVL1_PWM_1170_19561594.meme | ELAVL1 | 1170_19561594 | RTTW           |\n",
       "| 6 | /home/ylee/RBPDB/RBPDB_meme/ELAVL2_PWM_782_8497264.meme   | ELAVL2_PWM_782_8497264.meme   | ELAVL2 | 782_8497264   | HTYMTTTDYWTTHN |\n",
       "\n"
      ],
      "text/plain": [
       "  full_path                                                \n",
       "1 /home/ylee/RBPDB/RBPDB_meme/ACO1_PWM_1213_8021254.meme   \n",
       "2 /home/ylee/RBPDB/RBPDB_meme/EIF4B_PWM_350_8846295.meme   \n",
       "3 /home/ylee/RBPDB/RBPDB_meme/EIF4B_PWM_351_8846295.meme   \n",
       "4 /home/ylee/RBPDB/RBPDB_meme/EIF4B_PWM_352_8846295.meme   \n",
       "5 /home/ylee/RBPDB/RBPDB_meme/ELAVL1_PWM_1170_19561594.meme\n",
       "6 /home/ylee/RBPDB/RBPDB_meme/ELAVL2_PWM_782_8497264.meme  \n",
       "  base_name                     RBP_name motif_id      motif_alt_id  \n",
       "1 ACO1_PWM_1213_8021254.meme    ACO1     1213_8021254  YAGDRH        \n",
       "2 EIF4B_PWM_350_8846295.meme    EIF4B    350_8846295   BTHGGAM       \n",
       "3 EIF4B_PWM_351_8846295.meme    EIF4B    351_8846295   GYBGRAM       \n",
       "4 EIF4B_PWM_352_8846295.meme    EIF4B    352_8846295   GGAM          \n",
       "5 ELAVL1_PWM_1170_19561594.meme ELAVL1   1170_19561594 RTTW          \n",
       "6 ELAVL2_PWM_782_8497264.meme   ELAVL2   782_8497264   HTYMTTTDYWTTHN"
      ]
     },
     "metadata": {},
     "output_type": "display_data"
    }
   ],
   "source": [
    "head(file_info)"
   ]
  },
  {
   "cell_type": "code",
   "execution_count": 20,
   "id": "38dec23f-c444-40e9-ac2a-26221ef315ec",
   "metadata": {},
   "outputs": [
    {
     "data": {
      "text/html": [
       "<table class=\"dataframe\">\n",
       "<caption>A data.frame: 6 × 3</caption>\n",
       "<thead>\n",
       "\t<tr><th></th><th scope=col>RBP_name</th><th scope=col>motif_id</th><th scope=col>motif_alt_id</th></tr>\n",
       "\t<tr><th></th><th scope=col>&lt;chr&gt;</th><th scope=col>&lt;chr&gt;</th><th scope=col>&lt;chr&gt;</th></tr>\n",
       "</thead>\n",
       "<tbody>\n",
       "\t<tr><th scope=row>1</th><td>ACO1  </td><td>1213_8021254 </td><td>YAGDRH        </td></tr>\n",
       "\t<tr><th scope=row>2</th><td>EIF4B </td><td>350_8846295  </td><td>BTHGGAM       </td></tr>\n",
       "\t<tr><th scope=row>3</th><td>EIF4B </td><td>351_8846295  </td><td>GYBGRAM       </td></tr>\n",
       "\t<tr><th scope=row>4</th><td>EIF4B </td><td>352_8846295  </td><td>GGAM          </td></tr>\n",
       "\t<tr><th scope=row>5</th><td>ELAVL1</td><td>1170_19561594</td><td>RTTW          </td></tr>\n",
       "\t<tr><th scope=row>6</th><td>ELAVL2</td><td>782_8497264  </td><td>HTYMTTTDYWTTHN</td></tr>\n",
       "</tbody>\n",
       "</table>\n"
      ],
      "text/latex": [
       "A data.frame: 6 × 3\n",
       "\\begin{tabular}{r|lll}\n",
       "  & RBP\\_name & motif\\_id & motif\\_alt\\_id\\\\\n",
       "  & <chr> & <chr> & <chr>\\\\\n",
       "\\hline\n",
       "\t1 & ACO1   & 1213\\_8021254  & YAGDRH        \\\\\n",
       "\t2 & EIF4B  & 350\\_8846295   & BTHGGAM       \\\\\n",
       "\t3 & EIF4B  & 351\\_8846295   & GYBGRAM       \\\\\n",
       "\t4 & EIF4B  & 352\\_8846295   & GGAM          \\\\\n",
       "\t5 & ELAVL1 & 1170\\_19561594 & RTTW          \\\\\n",
       "\t6 & ELAVL2 & 782\\_8497264   & HTYMTTTDYWTTHN\\\\\n",
       "\\end{tabular}\n"
      ],
      "text/markdown": [
       "\n",
       "A data.frame: 6 × 3\n",
       "\n",
       "| <!--/--> | RBP_name &lt;chr&gt; | motif_id &lt;chr&gt; | motif_alt_id &lt;chr&gt; |\n",
       "|---|---|---|---|\n",
       "| 1 | ACO1   | 1213_8021254  | YAGDRH         |\n",
       "| 2 | EIF4B  | 350_8846295   | BTHGGAM        |\n",
       "| 3 | EIF4B  | 351_8846295   | GYBGRAM        |\n",
       "| 4 | EIF4B  | 352_8846295   | GGAM           |\n",
       "| 5 | ELAVL1 | 1170_19561594 | RTTW           |\n",
       "| 6 | ELAVL2 | 782_8497264   | HTYMTTTDYWTTHN |\n",
       "\n"
      ],
      "text/plain": [
       "  RBP_name motif_id      motif_alt_id  \n",
       "1 ACO1     1213_8021254  YAGDRH        \n",
       "2 EIF4B    350_8846295   BTHGGAM       \n",
       "3 EIF4B    351_8846295   GYBGRAM       \n",
       "4 EIF4B    352_8846295   GGAM          \n",
       "5 ELAVL1   1170_19561594 RTTW          \n",
       "6 ELAVL2   782_8497264   HTYMTTTDYWTTHN"
      ]
     },
     "metadata": {},
     "output_type": "display_data"
    }
   ],
   "source": [
    "file_info <- file_info[, -c(1, 2)]\n",
    "head(file_info)"
   ]
  },
  {
   "cell_type": "code",
   "execution_count": 21,
   "id": "e395c31a-dad7-4e78-a911-91432e92238a",
   "metadata": {},
   "outputs": [
    {
     "data": {
      "text/html": [
       "25"
      ],
      "text/latex": [
       "25"
      ],
      "text/markdown": [
       "25"
      ],
      "text/plain": [
       "[1] 25"
      ]
     },
     "metadata": {},
     "output_type": "display_data"
    }
   ],
   "source": [
    "length(unique(file_info$RBP_name))"
   ]
  },
  {
   "cell_type": "code",
   "execution_count": 22,
   "id": "a51ad647-5874-400e-b59c-62f7b0b4320a",
   "metadata": {},
   "outputs": [
    {
     "data": {
      "text/html": [
       "47"
      ],
      "text/latex": [
       "47"
      ],
      "text/markdown": [
       "47"
      ],
      "text/plain": [
       "[1] 47"
      ]
     },
     "metadata": {},
     "output_type": "display_data"
    }
   ],
   "source": [
    "nrow(file_info)"
   ]
  },
  {
   "cell_type": "code",
   "execution_count": 23,
   "id": "530a6c49-39c9-4f74-9ea4-b0b2f72912ec",
   "metadata": {},
   "outputs": [],
   "source": [
    "write.csv(file_info, \"/home/ylee/RBPDB/RBPDB_RBP_motifs_original_db_info.csv\", row.names = FALSE)"
   ]
  },
  {
   "cell_type": "markdown",
   "id": "10a5e016-d5a8-4c9c-b3a7-50bfdb839791",
   "metadata": {},
   "source": [
    "## Summary\n",
    "##### Summary that includes annotation of fimo"
   ]
  },
  {
   "cell_type": "code",
   "execution_count": 28,
   "id": "09ca0bfd-aca1-4d68-9945-021d2a597e06",
   "metadata": {},
   "outputs": [],
   "source": [
    "library(dplyr)\n",
    "library(tidyr)"
   ]
  },
  {
   "cell_type": "code",
   "execution_count": 29,
   "id": "4d7d13d5-3cbb-476d-9231-0a5017c70128",
   "metadata": {},
   "outputs": [],
   "source": [
    "base_dir <- \"/home/ylee/RBPDB/RBPDB_meme_combined\""
   ]
  },
  {
   "cell_type": "code",
   "execution_count": 30,
   "id": "19df9b0a-bf63-4ca3-ac4f-d35a3a22f659",
   "metadata": {},
   "outputs": [
    {
     "data": {
      "text/html": [
       "25"
      ],
      "text/latex": [
       "25"
      ],
      "text/markdown": [
       "25"
      ],
      "text/plain": [
       "[1] 25"
      ]
     },
     "metadata": {},
     "output_type": "display_data"
    }
   ],
   "source": [
    "files <- list.files(base_dir, full.names = TRUE)\n",
    "rbp_list <- sub(\"_combined.*\", \"\", basename(files))\n",
    "length(rbp_list)"
   ]
  },
  {
   "cell_type": "code",
   "execution_count": 31,
   "id": "9eb3a597-008b-4fe6-9403-373e0c677fb5",
   "metadata": {},
   "outputs": [],
   "source": [
    "# Extract RBP related motifs from the MEME file\n",
    "extract_motifs <- function(rbp_list, database) { \n",
    "    RBP_motifs <- data.frame(\n",
    "        RBP_name = character(),\n",
    "        motif_id = character(),\n",
    "        motif_alt_id = character()    \n",
    "    )\n",
    "    \n",
    "    for (rbp in rbp_list){\n",
    "        RBP_name <- rbp\n",
    "        motif_id <- NULL\n",
    "        motif_alt_id <- NULL\n",
    "        \n",
    "        meme_file <- paste0(base_dir, \"/\", rbp, \"_combined_\", database, \".meme\")\n",
    "        lines <- readLines(meme_file)\n",
    "\n",
    "        for (line in lines) {\n",
    "            if (grepl(\"^MOTIF\", line)) {\n",
    "              motif_id <- sub(\"MOTIF (\\\\S+) (\\\\S+)\", \"\\\\1\", line)  # extract motif ID\n",
    "              motif_alt_id <- sub(\"MOTIF (\\\\S+) (\\\\S+)\", \"\\\\2\", line)  # extract motif alternative ID\n",
    "            }\n",
    "            if (grepl(\"^letter-probability matrix\", line)) {\n",
    "                new_row <- data.frame(\n",
    "                    RBP_name = rbp,\n",
    "                    motif_id = motif_id,\n",
    "                    motif_alt_id = motif_alt_id\n",
    "                )\n",
    "                RBP_motifs <- bind_rows(RBP_motifs, new_row)\n",
    "            }\n",
    "        }\n",
    "    }\n",
    "  \n",
    "  return(RBP_motifs)\n",
    "}"
   ]
  },
  {
   "cell_type": "code",
   "execution_count": 33,
   "id": "2c20d989-c147-47eb-bdde-83830af9ad7d",
   "metadata": {},
   "outputs": [
    {
     "data": {
      "text/html": [
       "<table class=\"dataframe\">\n",
       "<caption>A data.frame: 6 × 3</caption>\n",
       "<thead>\n",
       "\t<tr><th></th><th scope=col>RBP_name</th><th scope=col>motif_id</th><th scope=col>motif_alt_id</th></tr>\n",
       "\t<tr><th></th><th scope=col>&lt;chr&gt;</th><th scope=col>&lt;chr&gt;</th><th scope=col>&lt;chr&gt;</th></tr>\n",
       "</thead>\n",
       "<tbody>\n",
       "\t<tr><th scope=row>1</th><td>ACO1  </td><td>1  </td><td>YAGDRH        </td></tr>\n",
       "\t<tr><th scope=row>2</th><td>EIF4B </td><td>1.1</td><td>BTHGGAM       </td></tr>\n",
       "\t<tr><th scope=row>3</th><td>EIF4B </td><td>1.2</td><td>GYBGRAM       </td></tr>\n",
       "\t<tr><th scope=row>4</th><td>EIF4B </td><td>1.3</td><td>GGAM          </td></tr>\n",
       "\t<tr><th scope=row>5</th><td>ELAVL1</td><td>1  </td><td>RTTW          </td></tr>\n",
       "\t<tr><th scope=row>6</th><td>ELAVL2</td><td>1.1</td><td>HTYMTTTDYWTTHN</td></tr>\n",
       "</tbody>\n",
       "</table>\n"
      ],
      "text/latex": [
       "A data.frame: 6 × 3\n",
       "\\begin{tabular}{r|lll}\n",
       "  & RBP\\_name & motif\\_id & motif\\_alt\\_id\\\\\n",
       "  & <chr> & <chr> & <chr>\\\\\n",
       "\\hline\n",
       "\t1 & ACO1   & 1   & YAGDRH        \\\\\n",
       "\t2 & EIF4B  & 1.1 & BTHGGAM       \\\\\n",
       "\t3 & EIF4B  & 1.2 & GYBGRAM       \\\\\n",
       "\t4 & EIF4B  & 1.3 & GGAM          \\\\\n",
       "\t5 & ELAVL1 & 1   & RTTW          \\\\\n",
       "\t6 & ELAVL2 & 1.1 & HTYMTTTDYWTTHN\\\\\n",
       "\\end{tabular}\n"
      ],
      "text/markdown": [
       "\n",
       "A data.frame: 6 × 3\n",
       "\n",
       "| <!--/--> | RBP_name &lt;chr&gt; | motif_id &lt;chr&gt; | motif_alt_id &lt;chr&gt; |\n",
       "|---|---|---|---|\n",
       "| 1 | ACO1   | 1   | YAGDRH         |\n",
       "| 2 | EIF4B  | 1.1 | BTHGGAM        |\n",
       "| 3 | EIF4B  | 1.2 | GYBGRAM        |\n",
       "| 4 | EIF4B  | 1.3 | GGAM           |\n",
       "| 5 | ELAVL1 | 1   | RTTW           |\n",
       "| 6 | ELAVL2 | 1.1 | HTYMTTTDYWTTHN |\n",
       "\n"
      ],
      "text/plain": [
       "  RBP_name motif_id motif_alt_id  \n",
       "1 ACO1     1        YAGDRH        \n",
       "2 EIF4B    1.1      BTHGGAM       \n",
       "3 EIF4B    1.2      GYBGRAM       \n",
       "4 EIF4B    1.3      GGAM          \n",
       "5 ELAVL1   1        RTTW          \n",
       "6 ELAVL2   1.1      HTYMTTTDYWTTHN"
      ]
     },
     "metadata": {},
     "output_type": "display_data"
    }
   ],
   "source": [
    "RBP_motifs <- extract_motifs(rbp_list, \"RBPDB\")\n",
    "head(RBP_motifs)"
   ]
  },
  {
   "cell_type": "code",
   "execution_count": 34,
   "id": "cfbec774-ffcb-4878-b2fd-06c09f3f7c06",
   "metadata": {},
   "outputs": [
    {
     "data": {
      "text/html": [
       "25"
      ],
      "text/latex": [
       "25"
      ],
      "text/markdown": [
       "25"
      ],
      "text/plain": [
       "[1] 25"
      ]
     },
     "metadata": {},
     "output_type": "display_data"
    },
    {
     "data": {
      "text/html": [
       "47"
      ],
      "text/latex": [
       "47"
      ],
      "text/markdown": [
       "47"
      ],
      "text/plain": [
       "[1] 47"
      ]
     },
     "metadata": {},
     "output_type": "display_data"
    }
   ],
   "source": [
    "length(unique(RBP_motifs$RBP_name))\n",
    "nrow(RBP_motifs)"
   ]
  },
  {
   "cell_type": "code",
   "execution_count": 35,
   "id": "50f6bb28-6f98-4c03-ae75-65a28ebebd13",
   "metadata": {},
   "outputs": [],
   "source": [
    "write.csv(RBP_motifs, \"/home/ylee/RBPDB/RBPDB_RBP_motifs.csv\", row.names = FALSE)"
   ]
  }
 ],
 "metadata": {
  "kernelspec": {
   "display_name": "r_4.1.2",
   "language": "R",
   "name": "r_4.1.2"
  },
  "language_info": {
   "codemirror_mode": "r",
   "file_extension": ".r",
   "mimetype": "text/x-r-source",
   "name": "R",
   "pygments_lexer": "r",
   "version": "4.1.2"
  }
 },
 "nbformat": 4,
 "nbformat_minor": 5
}
