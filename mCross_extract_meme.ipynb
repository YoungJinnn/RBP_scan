{
 "cells": [
  {
   "cell_type": "code",
   "execution_count": 24,
   "id": "d8f10559-745c-4570-8bf7-4b2ad4b1777b",
   "metadata": {},
   "outputs": [],
   "source": [
    "input_dir <- \"/home/ylee/mCross/eCLIP_PWM/\"\n",
    "output_dir <- \"/home/ylee/mCross/eCLIP_PFM_processed/\"\n",
    "dir.create(output_dir, showWarnings = FALSE)\n",
    "\n",
    "files <- list.files(input_dir, pattern = \"*.mat$\", full.names = TRUE)\n",
    "files <- gsub(\"//\", \"/\", files)"
   ]
  },
  {
   "cell_type": "markdown",
   "id": "5af604f4-3a2e-4c16-9365-3af4cfa4a07c",
   "metadata": {},
   "source": [
    "## Extract count matrix from mCross result"
   ]
  },
  {
   "cell_type": "code",
   "execution_count": 30,
   "id": "bcf40d56-1f9e-485d-811b-494b2f3d16c6",
   "metadata": {},
   "outputs": [],
   "source": [
    "# function to extract PFM\n",
    "extract_pfm <- function(file) {\n",
    "    lines <- readLines(file)\n",
    "    \n",
    "    start_idx <- grep(\"^P0\", lines)\n",
    "    \n",
    "    if (length(start_idx) > 0) {\n",
    "        end_idx <- grep(\"^XX\", lines[(start_idx + 1):length(lines)])\n",
    "\n",
    "        if (length(end_idx) > 0) {\n",
    "            end_idx <- start_idx + end_idx[1] \n",
    "            \n",
    "            # Extract lines within the PFM section\n",
    "            pfm_lines <- lines[(start_idx + 1):(end_idx - 1)]\n",
    "            \n",
    "            # Convert lines to a matrix\n",
    "            pfm_matrix <- do.call(rbind, lapply(pfm_lines, function(line) {\n",
    "                counts <- strsplit(line, \"\\\\s+\")[[1]][-1]   # Remove position number\n",
    "                as.numeric(counts[1:4])                     # Keep only the four numeric columns\n",
    "            }))\n",
    "            \n",
    "            return(pfm_matrix)\n",
    "        }\n",
    "    }\n",
    "    warning(paste(\"No valid PFM section found in\", file))\n",
    "    return(NULL)\n",
    "    \n",
    "}"
   ]
  },
  {
   "cell_type": "code",
   "execution_count": 31,
   "id": "39f47d3c-2afa-4a08-bfde-fed7babb7147",
   "metadata": {
    "collapsed": true,
    "jupyter": {
     "outputs_hidden": true
    }
   },
   "outputs": [
    {
     "name": "stderr",
     "output_type": "stream",
     "text": [
      "Warning message in extract_pfm(file):\n",
      "“No valid PFM section found in /home/ylee/mCross/eCLIP_PWM/HepG2.DHX30.top10.cluster.m1.00.mat”\n",
      "Warning message in extract_pfm(file):\n",
      "“No valid PFM section found in /home/ylee/mCross/eCLIP_PWM/HepG2.EFTUD2.top10.cluster.m1.00.mat”\n",
      "Warning message in extract_pfm(file):\n",
      "“No valid PFM section found in /home/ylee/mCross/eCLIP_PWM/HepG2.FKBP4.top10.cluster.m1.00.mat”\n",
      "Warning message in extract_pfm(file):\n",
      "“No valid PFM section found in /home/ylee/mCross/eCLIP_PWM/HepG2.FUBP3.top10.cluster.m1.03.mat”\n",
      "Warning message in extract_pfm(file):\n",
      "“No valid PFM section found in /home/ylee/mCross/eCLIP_PWM/HepG2.IGF2BP3.top10.cluster.m1.00.mat”\n",
      "Warning message in extract_pfm(file):\n",
      "“No valid PFM section found in /home/ylee/mCross/eCLIP_PWM/HepG2.RBM15.top10.cluster.m1.00.mat”\n",
      "Warning message in extract_pfm(file):\n",
      "“No valid PFM section found in /home/ylee/mCross/eCLIP_PWM/K562.AKAP8L.top10.cluster.m1.00.mat”\n",
      "Warning message in extract_pfm(file):\n",
      "“No valid PFM section found in /home/ylee/mCross/eCLIP_PWM/K562.DDX42.top10.cluster.m1.00.mat”\n",
      "Warning message in extract_pfm(file):\n",
      "“No valid PFM section found in /home/ylee/mCross/eCLIP_PWM/K562.DROSHA.top10.cluster.m1.00.mat”\n",
      "Warning message in extract_pfm(file):\n",
      "“No valid PFM section found in /home/ylee/mCross/eCLIP_PWM/K562.FASTKD2.top10.cluster.m1.00.mat”\n",
      "Warning message in extract_pfm(file):\n",
      "“No valid PFM section found in /home/ylee/mCross/eCLIP_PWM/K562.GEMIN5.top10.cluster.m1.00.mat”\n",
      "Warning message in extract_pfm(file):\n",
      "“No valid PFM section found in /home/ylee/mCross/eCLIP_PWM/K562.SERBP1.top10.cluster.m1.07.mat”\n"
     ]
    },
    {
     "name": "stdout",
     "output_type": "stream",
     "text": [
      "Processing complete. PFM matrices saved in: /home/ylee/mCross/eCLIP_PFM_processed/ \n"
     ]
    }
   ],
   "source": [
    "for (file in files) {\n",
    "  pfm_matrix <- extract_pfm(file)\n",
    "  \n",
    "  if (!is.null(pfm_matrix)) {\n",
    "    # Define output file name based on the input file name\n",
    "    output_file <- file.path(output_dir, paste0(basename(file), \"_PFM.txt\"))\n",
    "    \n",
    "    # Write the matrix to a text file, space-delimited\n",
    "    write.table(pfm_matrix, file = output_file, sep = \" \", row.names = FALSE, col.names = FALSE, quote = FALSE)\n",
    "  }\n",
    "}\n",
    "\n",
    "cat(\"Processing complete. PFM matrices saved in:\", output_dir, \"\\n\")"
   ]
  },
  {
   "cell_type": "markdown",
   "id": "516da316-d765-40d2-bace-e7c361da19c0",
   "metadata": {},
   "source": [
    "## Summary"
   ]
  },
  {
   "cell_type": "code",
   "execution_count": 211,
   "id": "e4a85472-91fa-4a3a-b9dc-9d5664d84596",
   "metadata": {},
   "outputs": [],
   "source": [
    "library(dplyr)\n",
    "library(tidyr)"
   ]
  },
  {
   "cell_type": "code",
   "execution_count": 153,
   "id": "89c5cfe4-b3b7-4e8d-ac5f-98651757fe66",
   "metadata": {},
   "outputs": [],
   "source": [
    "base_dir <- \"/home/ylee/mCross/eCLIP_meme_cell_combined\""
   ]
  },
  {
   "cell_type": "code",
   "execution_count": 154,
   "id": "616f9e2a-89aa-4667-b84b-2e6a7db19d19",
   "metadata": {},
   "outputs": [
    {
     "data": {
      "text/html": [
       "103"
      ],
      "text/latex": [
       "103"
      ],
      "text/markdown": [
       "103"
      ],
      "text/plain": [
       "[1] 103"
      ]
     },
     "metadata": {},
     "output_type": "display_data"
    }
   ],
   "source": [
    "files <- list.files(base_dir, full.names = TRUE)\n",
    "rbp_list <- sub(\"_combined.*\", \"\", basename(files))\n",
    "length(rbp_list)"
   ]
  },
  {
   "cell_type": "code",
   "execution_count": 155,
   "id": "ffe2127d-b497-4159-b663-e3ab6cf9db2b",
   "metadata": {},
   "outputs": [],
   "source": [
    "# Extract RBP related motifs from the MEME file\n",
    "extract_motifs <- function(rbp_list, database) { \n",
    "    RBP_motifs <- data.frame(\n",
    "        RBP_name = character(),\n",
    "        motif_id = character(),\n",
    "        motif_alt_id = character()    \n",
    "    )\n",
    "    \n",
    "    for (rbp in rbp_list){\n",
    "        RBP_name <- rbp\n",
    "        motif_id <- NULL\n",
    "        motif_alt_id <- NULL\n",
    "        \n",
    "        meme_file <- paste0(base_dir, \"/\", rbp, \"_combined_\", database, \".meme\")\n",
    "        lines <- readLines(meme_file)\n",
    "\n",
    "        for (line in lines) {\n",
    "            if (grepl(\"^MOTIF\", line)) {\n",
    "              motif_id <- sub(\"MOTIF (\\\\S+) (\\\\S+)\", \"\\\\1\", line)  # extract motif ID\n",
    "              motif_alt_id <- sub(\"MOTIF (\\\\S+) (\\\\S+)\", \"\\\\2\", line)  # extract motif alternative ID\n",
    "            }\n",
    "            if (grepl(\"^letter-probability matrix\", line)) {\n",
    "                new_row <- data.frame(\n",
    "                    RBP_name = rbp,\n",
    "                    motif_id = motif_id,\n",
    "                    motif_alt_id = motif_alt_id\n",
    "                )\n",
    "                RBP_motifs <- bind_rows(RBP_motifs, new_row)\n",
    "            }\n",
    "        }\n",
    "    }\n",
    "  \n",
    "  return(RBP_motifs)\n",
    "}"
   ]
  },
  {
   "cell_type": "code",
   "execution_count": 156,
   "id": "63460f2d-5b54-4c53-8fce-dd7937640e7e",
   "metadata": {},
   "outputs": [
    {
     "data": {
      "text/html": [
       "<table class=\"dataframe\">\n",
       "<caption>A data.frame: 6 × 3</caption>\n",
       "<thead>\n",
       "\t<tr><th></th><th scope=col>RBP_name</th><th scope=col>motif_id</th><th scope=col>motif_alt_id</th></tr>\n",
       "\t<tr><th></th><th scope=col>&lt;chr&gt;</th><th scope=col>&lt;chr&gt;</th><th scope=col>&lt;chr&gt;</th></tr>\n",
       "</thead>\n",
       "<tbody>\n",
       "\t<tr><th scope=row>1</th><td>AARS</td><td>1.1 </td><td>YWTDGCTAGKB</td></tr>\n",
       "\t<tr><th scope=row>2</th><td>AARS</td><td>1.10</td><td>WSARYTCACYK</td></tr>\n",
       "\t<tr><th scope=row>3</th><td>AARS</td><td>1.2 </td><td>YNGWCATAGDW</td></tr>\n",
       "\t<tr><th scope=row>4</th><td>AARS</td><td>1.3 </td><td>DNGATCATANN</td></tr>\n",
       "\t<tr><th scope=row>5</th><td>AARS</td><td>1.4 </td><td>BHVTTWCCAVW</td></tr>\n",
       "\t<tr><th scope=row>6</th><td>AARS</td><td>1.5 </td><td>NNAAGSCCTNN</td></tr>\n",
       "</tbody>\n",
       "</table>\n"
      ],
      "text/latex": [
       "A data.frame: 6 × 3\n",
       "\\begin{tabular}{r|lll}\n",
       "  & RBP\\_name & motif\\_id & motif\\_alt\\_id\\\\\n",
       "  & <chr> & <chr> & <chr>\\\\\n",
       "\\hline\n",
       "\t1 & AARS & 1.1  & YWTDGCTAGKB\\\\\n",
       "\t2 & AARS & 1.10 & WSARYTCACYK\\\\\n",
       "\t3 & AARS & 1.2  & YNGWCATAGDW\\\\\n",
       "\t4 & AARS & 1.3  & DNGATCATANN\\\\\n",
       "\t5 & AARS & 1.4  & BHVTTWCCAVW\\\\\n",
       "\t6 & AARS & 1.5  & NNAAGSCCTNN\\\\\n",
       "\\end{tabular}\n"
      ],
      "text/markdown": [
       "\n",
       "A data.frame: 6 × 3\n",
       "\n",
       "| <!--/--> | RBP_name &lt;chr&gt; | motif_id &lt;chr&gt; | motif_alt_id &lt;chr&gt; |\n",
       "|---|---|---|---|\n",
       "| 1 | AARS | 1.1  | YWTDGCTAGKB |\n",
       "| 2 | AARS | 1.10 | WSARYTCACYK |\n",
       "| 3 | AARS | 1.2  | YNGWCATAGDW |\n",
       "| 4 | AARS | 1.3  | DNGATCATANN |\n",
       "| 5 | AARS | 1.4  | BHVTTWCCAVW |\n",
       "| 6 | AARS | 1.5  | NNAAGSCCTNN |\n",
       "\n"
      ],
      "text/plain": [
       "  RBP_name motif_id motif_alt_id\n",
       "1 AARS     1.1      YWTDGCTAGKB \n",
       "2 AARS     1.10     WSARYTCACYK \n",
       "3 AARS     1.2      YNGWCATAGDW \n",
       "4 AARS     1.3      DNGATCATANN \n",
       "5 AARS     1.4      BHVTTWCCAVW \n",
       "6 AARS     1.5      NNAAGSCCTNN "
      ]
     },
     "metadata": {},
     "output_type": "display_data"
    }
   ],
   "source": [
    "RBP_motifs <- extract_motifs(rbp_list, \"mCross\")\n",
    "head(RBP_motifs)"
   ]
  },
  {
   "cell_type": "code",
   "execution_count": 157,
   "id": "0c515bf2-4912-4b06-807a-0ad41ac28434",
   "metadata": {},
   "outputs": [
    {
     "data": {
      "text/html": [
       "103"
      ],
      "text/latex": [
       "103"
      ],
      "text/markdown": [
       "103"
      ],
      "text/plain": [
       "[1] 103"
      ]
     },
     "metadata": {},
     "output_type": "display_data"
    },
    {
     "data": {
      "text/html": [
       "1071"
      ],
      "text/latex": [
       "1071"
      ],
      "text/markdown": [
       "1071"
      ],
      "text/plain": [
       "[1] 1071"
      ]
     },
     "metadata": {},
     "output_type": "display_data"
    }
   ],
   "source": [
    "length(unique(RBP_motifs$RBP_name))\n",
    "nrow(RBP_motifs)"
   ]
  },
  {
   "cell_type": "code",
   "execution_count": 158,
   "id": "acd60a72-ba48-42c4-b8c8-281d23615f03",
   "metadata": {},
   "outputs": [],
   "source": [
    "write.csv(RBP_motifs, \"/home/ylee/mCross/mCross_RBP_motifs.csv\", row.names = FALSE)"
   ]
  },
  {
   "cell_type": "markdown",
   "id": "73f085c6-54d4-4e23-a290-8be800221018",
   "metadata": {},
   "source": [
    "## All Summary_original_db_info"
   ]
  },
  {
   "cell_type": "code",
   "execution_count": 202,
   "id": "ffda8b29-05ff-481a-b48c-ef79ebf39837",
   "metadata": {},
   "outputs": [],
   "source": [
    "mCross_info <- read.csv(\"/home/ylee/mCross/mCross_RBP_motifs.csv\", header = TRUE)\n",
    "CisBP_RNA_info <- read.csv(\"/home/ylee/CisBP-RNA/CisBP-RNA_RBP_motifs.csv\", header = TRUE)\n",
    "oRNAment_info <- read.csv(\"/home/ylee/oRNAment/oRNAment_RBP_motifs.csv\", header = TRUE)\n",
    "RBPDB_info <- read.csv(\"/home/ylee/RBPDB/RBPDB_RBP_motifs.csv\", header = TRUE)"
   ]
  },
  {
   "cell_type": "code",
   "execution_count": 203,
   "id": "e356973f-e09d-45bc-a003-85e6ca1c20bb",
   "metadata": {},
   "outputs": [
    {
     "data": {
      "text/html": [
       "<table class=\"dataframe\">\n",
       "<caption>A data.frame: 3 × 4</caption>\n",
       "<thead>\n",
       "\t<tr><th></th><th scope=col>database</th><th scope=col>RBP_name</th><th scope=col>motif_id</th><th scope=col>motif_alt_id</th></tr>\n",
       "\t<tr><th></th><th scope=col>&lt;chr&gt;</th><th scope=col>&lt;chr&gt;</th><th scope=col>&lt;chr&gt;</th><th scope=col>&lt;chr&gt;</th></tr>\n",
       "</thead>\n",
       "<tbody>\n",
       "\t<tr><th scope=row>1</th><td>mCross</td><td>AARS</td><td>1.1 </td><td>YWTDGCTAGKB</td></tr>\n",
       "\t<tr><th scope=row>2</th><td>mCross</td><td>AARS</td><td>1.10</td><td>WSARYTCACYK</td></tr>\n",
       "\t<tr><th scope=row>3</th><td>mCross</td><td>AARS</td><td>1.2 </td><td>YNGWCATAGDW</td></tr>\n",
       "</tbody>\n",
       "</table>\n"
      ],
      "text/latex": [
       "A data.frame: 3 × 4\n",
       "\\begin{tabular}{r|llll}\n",
       "  & database & RBP\\_name & motif\\_id & motif\\_alt\\_id\\\\\n",
       "  & <chr> & <chr> & <chr> & <chr>\\\\\n",
       "\\hline\n",
       "\t1 & mCross & AARS & 1.1  & YWTDGCTAGKB\\\\\n",
       "\t2 & mCross & AARS & 1.10 & WSARYTCACYK\\\\\n",
       "\t3 & mCross & AARS & 1.2  & YNGWCATAGDW\\\\\n",
       "\\end{tabular}\n"
      ],
      "text/markdown": [
       "\n",
       "A data.frame: 3 × 4\n",
       "\n",
       "| <!--/--> | database &lt;chr&gt; | RBP_name &lt;chr&gt; | motif_id &lt;chr&gt; | motif_alt_id &lt;chr&gt; |\n",
       "|---|---|---|---|---|\n",
       "| 1 | mCross | AARS | 1.1  | YWTDGCTAGKB |\n",
       "| 2 | mCross | AARS | 1.10 | WSARYTCACYK |\n",
       "| 3 | mCross | AARS | 1.2  | YNGWCATAGDW |\n",
       "\n"
      ],
      "text/plain": [
       "  database RBP_name motif_id motif_alt_id\n",
       "1 mCross   AARS     1.1      YWTDGCTAGKB \n",
       "2 mCross   AARS     1.10     WSARYTCACYK \n",
       "3 mCross   AARS     1.2      YNGWCATAGDW "
      ]
     },
     "metadata": {},
     "output_type": "display_data"
    },
    {
     "data": {
      "text/html": [
       "1071"
      ],
      "text/latex": [
       "1071"
      ],
      "text/markdown": [
       "1071"
      ],
      "text/plain": [
       "[1] 1071"
      ]
     },
     "metadata": {},
     "output_type": "display_data"
    }
   ],
   "source": [
    "mCross_info <- data.frame(database = \"mCross\", mCross_info)     # mCross_info$database <- \"mCross\"\n",
    "head(mCross_info, 3)\n",
    "nrow(mCross_info)"
   ]
  },
  {
   "cell_type": "code",
   "execution_count": 204,
   "id": "31cefa38-f597-4e37-b336-13a235804e99",
   "metadata": {},
   "outputs": [
    {
     "data": {
      "text/html": [
       "<table class=\"dataframe\">\n",
       "<caption>A data.frame: 3 × 4</caption>\n",
       "<thead>\n",
       "\t<tr><th></th><th scope=col>database</th><th scope=col>RBP_name</th><th scope=col>motif_id</th><th scope=col>motif_alt_id</th></tr>\n",
       "\t<tr><th></th><th scope=col>&lt;chr&gt;</th><th scope=col>&lt;chr&gt;</th><th scope=col>&lt;dbl&gt;</th><th scope=col>&lt;chr&gt;</th></tr>\n",
       "</thead>\n",
       "<tbody>\n",
       "\t<tr><th scope=row>1</th><td>CisBP_RNA</td><td>A1CF </td><td>1.1</td><td>WTAATTR</td></tr>\n",
       "\t<tr><th scope=row>2</th><td>CisBP_RNA</td><td>A1CF </td><td>1.2</td><td>DTAATTV</td></tr>\n",
       "\t<tr><th scope=row>3</th><td>CisBP_RNA</td><td>A2BP1</td><td>1.1</td><td>WGCATGM</td></tr>\n",
       "</tbody>\n",
       "</table>\n"
      ],
      "text/latex": [
       "A data.frame: 3 × 4\n",
       "\\begin{tabular}{r|llll}\n",
       "  & database & RBP\\_name & motif\\_id & motif\\_alt\\_id\\\\\n",
       "  & <chr> & <chr> & <dbl> & <chr>\\\\\n",
       "\\hline\n",
       "\t1 & CisBP\\_RNA & A1CF  & 1.1 & WTAATTR\\\\\n",
       "\t2 & CisBP\\_RNA & A1CF  & 1.2 & DTAATTV\\\\\n",
       "\t3 & CisBP\\_RNA & A2BP1 & 1.1 & WGCATGM\\\\\n",
       "\\end{tabular}\n"
      ],
      "text/markdown": [
       "\n",
       "A data.frame: 3 × 4\n",
       "\n",
       "| <!--/--> | database &lt;chr&gt; | RBP_name &lt;chr&gt; | motif_id &lt;dbl&gt; | motif_alt_id &lt;chr&gt; |\n",
       "|---|---|---|---|---|\n",
       "| 1 | CisBP_RNA | A1CF  | 1.1 | WTAATTR |\n",
       "| 2 | CisBP_RNA | A1CF  | 1.2 | DTAATTV |\n",
       "| 3 | CisBP_RNA | A2BP1 | 1.1 | WGCATGM |\n",
       "\n"
      ],
      "text/plain": [
       "  database  RBP_name motif_id motif_alt_id\n",
       "1 CisBP_RNA A1CF     1.1      WTAATTR     \n",
       "2 CisBP_RNA A1CF     1.2      DTAATTV     \n",
       "3 CisBP_RNA A2BP1    1.1      WGCATGM     "
      ]
     },
     "metadata": {},
     "output_type": "display_data"
    },
    {
     "data": {
      "text/html": [
       "232"
      ],
      "text/latex": [
       "232"
      ],
      "text/markdown": [
       "232"
      ],
      "text/plain": [
       "[1] 232"
      ]
     },
     "metadata": {},
     "output_type": "display_data"
    }
   ],
   "source": [
    "CisBP_RNA_info <- data.frame(database = \"CisBP_RNA\", CisBP_RNA_info)\n",
    "head(CisBP_RNA_info, 3)\n",
    "nrow(CisBP_RNA_info)"
   ]
  },
  {
   "cell_type": "code",
   "execution_count": 205,
   "id": "4d0040e7-bfc0-455b-94be-82417286154e",
   "metadata": {},
   "outputs": [
    {
     "data": {
      "text/html": [
       "<table class=\"dataframe\">\n",
       "<caption>A data.frame: 3 × 4</caption>\n",
       "<thead>\n",
       "\t<tr><th></th><th scope=col>database</th><th scope=col>RBP_name</th><th scope=col>motif_id</th><th scope=col>motif_alt_id</th></tr>\n",
       "\t<tr><th></th><th scope=col>&lt;chr&gt;</th><th scope=col>&lt;chr&gt;</th><th scope=col>&lt;dbl&gt;</th><th scope=col>&lt;chr&gt;</th></tr>\n",
       "</thead>\n",
       "<tbody>\n",
       "\t<tr><th scope=row>1</th><td>oRNAment</td><td>A1CF</td><td>1.1</td><td>NTAATTA</td></tr>\n",
       "\t<tr><th scope=row>2</th><td>oRNAment</td><td>A1CF</td><td>1.2</td><td>VAATCAN</td></tr>\n",
       "\t<tr><th scope=row>3</th><td>oRNAment</td><td>A1CF</td><td>1.3</td><td>SGGRCTG</td></tr>\n",
       "</tbody>\n",
       "</table>\n"
      ],
      "text/latex": [
       "A data.frame: 3 × 4\n",
       "\\begin{tabular}{r|llll}\n",
       "  & database & RBP\\_name & motif\\_id & motif\\_alt\\_id\\\\\n",
       "  & <chr> & <chr> & <dbl> & <chr>\\\\\n",
       "\\hline\n",
       "\t1 & oRNAment & A1CF & 1.1 & NTAATTA\\\\\n",
       "\t2 & oRNAment & A1CF & 1.2 & VAATCAN\\\\\n",
       "\t3 & oRNAment & A1CF & 1.3 & SGGRCTG\\\\\n",
       "\\end{tabular}\n"
      ],
      "text/markdown": [
       "\n",
       "A data.frame: 3 × 4\n",
       "\n",
       "| <!--/--> | database &lt;chr&gt; | RBP_name &lt;chr&gt; | motif_id &lt;dbl&gt; | motif_alt_id &lt;chr&gt; |\n",
       "|---|---|---|---|---|\n",
       "| 1 | oRNAment | A1CF | 1.1 | NTAATTA |\n",
       "| 2 | oRNAment | A1CF | 1.2 | VAATCAN |\n",
       "| 3 | oRNAment | A1CF | 1.3 | SGGRCTG |\n",
       "\n"
      ],
      "text/plain": [
       "  database RBP_name motif_id motif_alt_id\n",
       "1 oRNAment A1CF     1.1      NTAATTA     \n",
       "2 oRNAment A1CF     1.2      VAATCAN     \n",
       "3 oRNAment A1CF     1.3      SGGRCTG     "
      ]
     },
     "metadata": {},
     "output_type": "display_data"
    },
    {
     "data": {
      "text/html": [
       "323"
      ],
      "text/latex": [
       "323"
      ],
      "text/markdown": [
       "323"
      ],
      "text/plain": [
       "[1] 323"
      ]
     },
     "metadata": {},
     "output_type": "display_data"
    }
   ],
   "source": [
    "oRNAment_info <- data.frame(database = \"oRNAment\", oRNAment_info)\n",
    "head(oRNAment_info, 3)\n",
    "nrow(oRNAment_info)"
   ]
  },
  {
   "cell_type": "code",
   "execution_count": 206,
   "id": "639b34d1-f4ce-485f-a3a5-effc0860476c",
   "metadata": {},
   "outputs": [
    {
     "data": {
      "text/html": [
       "<table class=\"dataframe\">\n",
       "<caption>A data.frame: 3 × 4</caption>\n",
       "<thead>\n",
       "\t<tr><th></th><th scope=col>database</th><th scope=col>RBP_name</th><th scope=col>motif_id</th><th scope=col>motif_alt_id</th></tr>\n",
       "\t<tr><th></th><th scope=col>&lt;chr&gt;</th><th scope=col>&lt;chr&gt;</th><th scope=col>&lt;dbl&gt;</th><th scope=col>&lt;chr&gt;</th></tr>\n",
       "</thead>\n",
       "<tbody>\n",
       "\t<tr><th scope=row>1</th><td>RBPDB</td><td>ACO1 </td><td>1.0</td><td>YAGDRH </td></tr>\n",
       "\t<tr><th scope=row>2</th><td>RBPDB</td><td>EIF4B</td><td>1.1</td><td>BTHGGAM</td></tr>\n",
       "\t<tr><th scope=row>3</th><td>RBPDB</td><td>EIF4B</td><td>1.2</td><td>GYBGRAM</td></tr>\n",
       "</tbody>\n",
       "</table>\n"
      ],
      "text/latex": [
       "A data.frame: 3 × 4\n",
       "\\begin{tabular}{r|llll}\n",
       "  & database & RBP\\_name & motif\\_id & motif\\_alt\\_id\\\\\n",
       "  & <chr> & <chr> & <dbl> & <chr>\\\\\n",
       "\\hline\n",
       "\t1 & RBPDB & ACO1  & 1.0 & YAGDRH \\\\\n",
       "\t2 & RBPDB & EIF4B & 1.1 & BTHGGAM\\\\\n",
       "\t3 & RBPDB & EIF4B & 1.2 & GYBGRAM\\\\\n",
       "\\end{tabular}\n"
      ],
      "text/markdown": [
       "\n",
       "A data.frame: 3 × 4\n",
       "\n",
       "| <!--/--> | database &lt;chr&gt; | RBP_name &lt;chr&gt; | motif_id &lt;dbl&gt; | motif_alt_id &lt;chr&gt; |\n",
       "|---|---|---|---|---|\n",
       "| 1 | RBPDB | ACO1  | 1.0 | YAGDRH  |\n",
       "| 2 | RBPDB | EIF4B | 1.1 | BTHGGAM |\n",
       "| 3 | RBPDB | EIF4B | 1.2 | GYBGRAM |\n",
       "\n"
      ],
      "text/plain": [
       "  database RBP_name motif_id motif_alt_id\n",
       "1 RBPDB    ACO1     1.0      YAGDRH      \n",
       "2 RBPDB    EIF4B    1.1      BTHGGAM     \n",
       "3 RBPDB    EIF4B    1.2      GYBGRAM     "
      ]
     },
     "metadata": {},
     "output_type": "display_data"
    },
    {
     "data": {
      "text/html": [
       "47"
      ],
      "text/latex": [
       "47"
      ],
      "text/markdown": [
       "47"
      ],
      "text/plain": [
       "[1] 47"
      ]
     },
     "metadata": {},
     "output_type": "display_data"
    }
   ],
   "source": [
    "RBPDB_info <- data.frame(database = \"RBPDB\", RBPDB_info)\n",
    "head(RBPDB_info, 3)\n",
    "nrow(RBPDB_info)"
   ]
  },
  {
   "cell_type": "code",
   "execution_count": 207,
   "id": "6e04e9c7-50c9-42ed-8c22-6fe09f63342e",
   "metadata": {},
   "outputs": [],
   "source": [
    "All_info <- rbind(mCross_info, CisBP_RNA_info, oRNAment_info, RBPDB_info)"
   ]
  },
  {
   "cell_type": "code",
   "execution_count": 208,
   "id": "f8f87aae-588a-418a-980f-10fd59b743d6",
   "metadata": {},
   "outputs": [
    {
     "data": {
      "text/html": [
       "1673"
      ],
      "text/latex": [
       "1673"
      ],
      "text/markdown": [
       "1673"
      ],
      "text/plain": [
       "[1] 1673"
      ]
     },
     "metadata": {},
     "output_type": "display_data"
    }
   ],
   "source": [
    "nrow(All_info)"
   ]
  },
  {
   "cell_type": "code",
   "execution_count": 209,
   "id": "455116f5-8c22-45a3-93a7-a33051076de4",
   "metadata": {},
   "outputs": [
    {
     "data": {
      "text/html": [
       "290"
      ],
      "text/latex": [
       "290"
      ],
      "text/markdown": [
       "290"
      ],
      "text/plain": [
       "[1] 290"
      ]
     },
     "metadata": {},
     "output_type": "display_data"
    }
   ],
   "source": [
    "length(unique(All_info$RBP_name))"
   ]
  },
  {
   "cell_type": "markdown",
   "id": "69839419-8967-4a1b-82d5-8c3506a33c58",
   "metadata": {},
   "source": [
    "## All Summary"
   ]
  },
  {
   "cell_type": "code",
   "execution_count": 212,
   "id": "f6854bfa-ce66-43c0-8faa-18a8adead139",
   "metadata": {},
   "outputs": [],
   "source": [
    "base_dir <- \"/home/ylee/AllmotifDB/AllmotifDB_meme_combined\""
   ]
  },
  {
   "cell_type": "code",
   "execution_count": 223,
   "id": "11572d96-43a8-4a79-aeea-34312449e3b8",
   "metadata": {},
   "outputs": [
    {
     "data": {
      "text/html": [
       "290"
      ],
      "text/latex": [
       "290"
      ],
      "text/markdown": [
       "290"
      ],
      "text/plain": [
       "[1] 290"
      ]
     },
     "metadata": {},
     "output_type": "display_data"
    }
   ],
   "source": [
    "files <- list.files(base_dir, full.names = TRUE)\n",
    "rbp_list <- sub(\"_combined.*\", \"\", basename(files))\n",
    "length(rbp_list)"
   ]
  },
  {
   "cell_type": "code",
   "execution_count": 228,
   "id": "9a3818ba-83ea-45bd-b602-7993ea6f41eb",
   "metadata": {},
   "outputs": [],
   "source": [
    "# Extract RBP related motifs from the MEME file\n",
    "extract_motifs <- function(rbp_list) { \n",
    "    RBP_motifs <- data.frame(\n",
    "        RBP_name = character(),\n",
    "        motif_id = character(),\n",
    "        motif_alt_id = character()    \n",
    "    )\n",
    "    \n",
    "    for (rbp in rbp_list){\n",
    "        RBP_name <- rbp\n",
    "        motif_id <- NULL\n",
    "        motif_alt_id <- NULL\n",
    "        \n",
    "        meme_file <- paste0(base_dir, \"/\", rbp, \"_combined.meme\")\n",
    "        lines <- readLines(meme_file)\n",
    "\n",
    "        for (line in lines) {\n",
    "            if (grepl(\"^MOTIF\", line)) {\n",
    "              motif_id <- sub(\"MOTIF (\\\\S+) (\\\\S+)\", \"\\\\1\", line)  # extract motif ID\n",
    "              motif_alt_id <- sub(\"MOTIF (\\\\S+) (\\\\S+)\", \"\\\\2\", line)  # extract motif alternative ID\n",
    "            }\n",
    "            if (grepl(\"^letter-probability matrix\", line)) {\n",
    "                new_row <- data.frame(\n",
    "                    RBP_name = rbp,\n",
    "                    motif_id = motif_id,\n",
    "                    motif_alt_id = motif_alt_id\n",
    "                )\n",
    "                RBP_motifs <- bind_rows(RBP_motifs, new_row)\n",
    "            }\n",
    "        }\n",
    "    }\n",
    "  \n",
    "  return(RBP_motifs)\n",
    "}"
   ]
  },
  {
   "cell_type": "code",
   "execution_count": 229,
   "id": "2a2c6f31-9076-4f9a-be23-22174e737589",
   "metadata": {},
   "outputs": [
    {
     "data": {
      "text/html": [
       "<table class=\"dataframe\">\n",
       "<caption>A data.frame: 6 × 3</caption>\n",
       "<thead>\n",
       "\t<tr><th></th><th scope=col>RBP_name</th><th scope=col>motif_id</th><th scope=col>motif_alt_id</th></tr>\n",
       "\t<tr><th></th><th scope=col>&lt;chr&gt;</th><th scope=col>&lt;chr&gt;</th><th scope=col>&lt;chr&gt;</th></tr>\n",
       "</thead>\n",
       "<tbody>\n",
       "\t<tr><th scope=row>1</th><td>A1CF</td><td>1.1.1</td><td>WTAATTR</td></tr>\n",
       "\t<tr><th scope=row>2</th><td>A1CF</td><td>1.1.2</td><td>NTAATTA</td></tr>\n",
       "\t<tr><th scope=row>3</th><td>A1CF</td><td>1.2.1</td><td>DTAATTV</td></tr>\n",
       "\t<tr><th scope=row>4</th><td>A1CF</td><td>1.2.2</td><td>VAATCAN</td></tr>\n",
       "\t<tr><th scope=row>5</th><td>A1CF</td><td>1.3  </td><td>SGGRCTG</td></tr>\n",
       "\t<tr><th scope=row>6</th><td>A1CF</td><td>1.4  </td><td>AGHTCGG</td></tr>\n",
       "</tbody>\n",
       "</table>\n"
      ],
      "text/latex": [
       "A data.frame: 6 × 3\n",
       "\\begin{tabular}{r|lll}\n",
       "  & RBP\\_name & motif\\_id & motif\\_alt\\_id\\\\\n",
       "  & <chr> & <chr> & <chr>\\\\\n",
       "\\hline\n",
       "\t1 & A1CF & 1.1.1 & WTAATTR\\\\\n",
       "\t2 & A1CF & 1.1.2 & NTAATTA\\\\\n",
       "\t3 & A1CF & 1.2.1 & DTAATTV\\\\\n",
       "\t4 & A1CF & 1.2.2 & VAATCAN\\\\\n",
       "\t5 & A1CF & 1.3   & SGGRCTG\\\\\n",
       "\t6 & A1CF & 1.4   & AGHTCGG\\\\\n",
       "\\end{tabular}\n"
      ],
      "text/markdown": [
       "\n",
       "A data.frame: 6 × 3\n",
       "\n",
       "| <!--/--> | RBP_name &lt;chr&gt; | motif_id &lt;chr&gt; | motif_alt_id &lt;chr&gt; |\n",
       "|---|---|---|---|\n",
       "| 1 | A1CF | 1.1.1 | WTAATTR |\n",
       "| 2 | A1CF | 1.1.2 | NTAATTA |\n",
       "| 3 | A1CF | 1.2.1 | DTAATTV |\n",
       "| 4 | A1CF | 1.2.2 | VAATCAN |\n",
       "| 5 | A1CF | 1.3   | SGGRCTG |\n",
       "| 6 | A1CF | 1.4   | AGHTCGG |\n",
       "\n"
      ],
      "text/plain": [
       "  RBP_name motif_id motif_alt_id\n",
       "1 A1CF     1.1.1    WTAATTR     \n",
       "2 A1CF     1.1.2    NTAATTA     \n",
       "3 A1CF     1.2.1    DTAATTV     \n",
       "4 A1CF     1.2.2    VAATCAN     \n",
       "5 A1CF     1.3      SGGRCTG     \n",
       "6 A1CF     1.4      AGHTCGG     "
      ]
     },
     "metadata": {},
     "output_type": "display_data"
    }
   ],
   "source": [
    "RBP_motifs <- extract_motifs(rbp_list)\n",
    "head(RBP_motifs)"
   ]
  },
  {
   "cell_type": "code",
   "execution_count": 220,
   "id": "71499d53-6318-4ecf-b487-8def91c28869",
   "metadata": {},
   "outputs": [
    {
     "data": {
      "text/html": [
       "1673"
      ],
      "text/latex": [
       "1673"
      ],
      "text/markdown": [
       "1673"
      ],
      "text/plain": [
       "[1] 1673"
      ]
     },
     "metadata": {},
     "output_type": "display_data"
    }
   ],
   "source": [
    "nrow(RBP_motifs)"
   ]
  },
  {
   "cell_type": "code",
   "execution_count": 221,
   "id": "b0f9fede-1b4b-48d2-b125-81b3fdbf2392",
   "metadata": {},
   "outputs": [
    {
     "data": {
      "text/html": [
       "290"
      ],
      "text/latex": [
       "290"
      ],
      "text/markdown": [
       "290"
      ],
      "text/plain": [
       "[1] 290"
      ]
     },
     "metadata": {},
     "output_type": "display_data"
    }
   ],
   "source": [
    "length(unique(RBP_motifs$RBP_name))"
   ]
  },
  {
   "cell_type": "markdown",
   "id": "599ed31a-8f0a-436d-8e23-7a39612c9e2b",
   "metadata": {},
   "source": [
    "## Merged information of RBP motifs"
   ]
  },
  {
   "cell_type": "code",
   "execution_count": 230,
   "id": "0676e801-3c43-4e34-a21c-34260b4101c0",
   "metadata": {},
   "outputs": [],
   "source": [
    "All_info_sorted <- All_info[order(All_info$RBP_name, All_info$motif_alt_id), ]\n",
    "RBP_motifs_sorted <- RBP_motifs[order(RBP_motifs$RBP_name, RBP_motifs$motif_alt_id), ]"
   ]
  },
  {
   "cell_type": "code",
   "execution_count": 236,
   "id": "27611af6-f794-45b9-a66c-3486543b91d6",
   "metadata": {},
   "outputs": [
    {
     "data": {
      "text/html": [
       "<table class=\"dataframe\">\n",
       "<caption>A data.frame: 6 × 4</caption>\n",
       "<thead>\n",
       "\t<tr><th></th><th scope=col>database</th><th scope=col>RBP_name</th><th scope=col>motif_id</th><th scope=col>motif_alt_id</th></tr>\n",
       "\t<tr><th></th><th scope=col>&lt;chr&gt;</th><th scope=col>&lt;chr&gt;</th><th scope=col>&lt;chr&gt;</th><th scope=col>&lt;chr&gt;</th></tr>\n",
       "</thead>\n",
       "<tbody>\n",
       "\t<tr><th scope=row>1308</th><td>oRNAment </td><td>A1CF</td><td>1.5</td><td>AATAWAV</td></tr>\n",
       "\t<tr><th scope=row>1307</th><td>oRNAment </td><td>A1CF</td><td>1.4</td><td>AGHTCGG</td></tr>\n",
       "\t<tr><th scope=row>1073</th><td>CisBP_RNA</td><td>A1CF</td><td>1.2</td><td>DTAATTV</td></tr>\n",
       "\t<tr><th scope=row>1304</th><td>oRNAment </td><td>A1CF</td><td>1.1</td><td>NTAATTA</td></tr>\n",
       "\t<tr><th scope=row>1306</th><td>oRNAment </td><td>A1CF</td><td>1.3</td><td>SGGRCTG</td></tr>\n",
       "\t<tr><th scope=row>1305</th><td>oRNAment </td><td>A1CF</td><td>1.2</td><td>VAATCAN</td></tr>\n",
       "</tbody>\n",
       "</table>\n"
      ],
      "text/latex": [
       "A data.frame: 6 × 4\n",
       "\\begin{tabular}{r|llll}\n",
       "  & database & RBP\\_name & motif\\_id & motif\\_alt\\_id\\\\\n",
       "  & <chr> & <chr> & <chr> & <chr>\\\\\n",
       "\\hline\n",
       "\t1308 & oRNAment  & A1CF & 1.5 & AATAWAV\\\\\n",
       "\t1307 & oRNAment  & A1CF & 1.4 & AGHTCGG\\\\\n",
       "\t1073 & CisBP\\_RNA & A1CF & 1.2 & DTAATTV\\\\\n",
       "\t1304 & oRNAment  & A1CF & 1.1 & NTAATTA\\\\\n",
       "\t1306 & oRNAment  & A1CF & 1.3 & SGGRCTG\\\\\n",
       "\t1305 & oRNAment  & A1CF & 1.2 & VAATCAN\\\\\n",
       "\\end{tabular}\n"
      ],
      "text/markdown": [
       "\n",
       "A data.frame: 6 × 4\n",
       "\n",
       "| <!--/--> | database &lt;chr&gt; | RBP_name &lt;chr&gt; | motif_id &lt;chr&gt; | motif_alt_id &lt;chr&gt; |\n",
       "|---|---|---|---|---|\n",
       "| 1308 | oRNAment  | A1CF | 1.5 | AATAWAV |\n",
       "| 1307 | oRNAment  | A1CF | 1.4 | AGHTCGG |\n",
       "| 1073 | CisBP_RNA | A1CF | 1.2 | DTAATTV |\n",
       "| 1304 | oRNAment  | A1CF | 1.1 | NTAATTA |\n",
       "| 1306 | oRNAment  | A1CF | 1.3 | SGGRCTG |\n",
       "| 1305 | oRNAment  | A1CF | 1.2 | VAATCAN |\n",
       "\n"
      ],
      "text/plain": [
       "     database  RBP_name motif_id motif_alt_id\n",
       "1308 oRNAment  A1CF     1.5      AATAWAV     \n",
       "1307 oRNAment  A1CF     1.4      AGHTCGG     \n",
       "1073 CisBP_RNA A1CF     1.2      DTAATTV     \n",
       "1304 oRNAment  A1CF     1.1      NTAATTA     \n",
       "1306 oRNAment  A1CF     1.3      SGGRCTG     \n",
       "1305 oRNAment  A1CF     1.2      VAATCAN     "
      ]
     },
     "metadata": {},
     "output_type": "display_data"
    },
    {
     "data": {
      "text/html": [
       "<table class=\"dataframe\">\n",
       "<caption>A data.frame: 6 × 3</caption>\n",
       "<thead>\n",
       "\t<tr><th></th><th scope=col>RBP_name</th><th scope=col>motif_id</th><th scope=col>motif_alt_id</th></tr>\n",
       "\t<tr><th></th><th scope=col>&lt;chr&gt;</th><th scope=col>&lt;chr&gt;</th><th scope=col>&lt;chr&gt;</th></tr>\n",
       "</thead>\n",
       "<tbody>\n",
       "\t<tr><th scope=row>7</th><td>A1CF</td><td>1.5  </td><td>AATAWAV</td></tr>\n",
       "\t<tr><th scope=row>6</th><td>A1CF</td><td>1.4  </td><td>AGHTCGG</td></tr>\n",
       "\t<tr><th scope=row>3</th><td>A1CF</td><td>1.2.1</td><td>DTAATTV</td></tr>\n",
       "\t<tr><th scope=row>2</th><td>A1CF</td><td>1.1.2</td><td>NTAATTA</td></tr>\n",
       "\t<tr><th scope=row>5</th><td>A1CF</td><td>1.3  </td><td>SGGRCTG</td></tr>\n",
       "\t<tr><th scope=row>4</th><td>A1CF</td><td>1.2.2</td><td>VAATCAN</td></tr>\n",
       "</tbody>\n",
       "</table>\n"
      ],
      "text/latex": [
       "A data.frame: 6 × 3\n",
       "\\begin{tabular}{r|lll}\n",
       "  & RBP\\_name & motif\\_id & motif\\_alt\\_id\\\\\n",
       "  & <chr> & <chr> & <chr>\\\\\n",
       "\\hline\n",
       "\t7 & A1CF & 1.5   & AATAWAV\\\\\n",
       "\t6 & A1CF & 1.4   & AGHTCGG\\\\\n",
       "\t3 & A1CF & 1.2.1 & DTAATTV\\\\\n",
       "\t2 & A1CF & 1.1.2 & NTAATTA\\\\\n",
       "\t5 & A1CF & 1.3   & SGGRCTG\\\\\n",
       "\t4 & A1CF & 1.2.2 & VAATCAN\\\\\n",
       "\\end{tabular}\n"
      ],
      "text/markdown": [
       "\n",
       "A data.frame: 6 × 3\n",
       "\n",
       "| <!--/--> | RBP_name &lt;chr&gt; | motif_id &lt;chr&gt; | motif_alt_id &lt;chr&gt; |\n",
       "|---|---|---|---|\n",
       "| 7 | A1CF | 1.5   | AATAWAV |\n",
       "| 6 | A1CF | 1.4   | AGHTCGG |\n",
       "| 3 | A1CF | 1.2.1 | DTAATTV |\n",
       "| 2 | A1CF | 1.1.2 | NTAATTA |\n",
       "| 5 | A1CF | 1.3   | SGGRCTG |\n",
       "| 4 | A1CF | 1.2.2 | VAATCAN |\n",
       "\n"
      ],
      "text/plain": [
       "  RBP_name motif_id motif_alt_id\n",
       "7 A1CF     1.5      AATAWAV     \n",
       "6 A1CF     1.4      AGHTCGG     \n",
       "3 A1CF     1.2.1    DTAATTV     \n",
       "2 A1CF     1.1.2    NTAATTA     \n",
       "5 A1CF     1.3      SGGRCTG     \n",
       "4 A1CF     1.2.2    VAATCAN     "
      ]
     },
     "metadata": {},
     "output_type": "display_data"
    }
   ],
   "source": [
    "head(All_info_sorted)\n",
    "head(RBP_motifs_sorted)"
   ]
  },
  {
   "cell_type": "code",
   "execution_count": 234,
   "id": "d4da9316-c1d7-4add-b75d-962d5eaa7e26",
   "metadata": {},
   "outputs": [],
   "source": [
    "merged_df <- cbind(All_info_sorted[ , -c(3, 4)], RBP_motifs_sorted[ , -1])"
   ]
  },
  {
   "cell_type": "code",
   "execution_count": 235,
   "id": "80f7217a-c1bb-4de8-a562-e88a149c53d3",
   "metadata": {
    "scrolled": true
   },
   "outputs": [
    {
     "data": {
      "text/html": [
       "<table class=\"dataframe\">\n",
       "<caption>A data.frame: 1673 × 4</caption>\n",
       "<thead>\n",
       "\t<tr><th></th><th scope=col>database</th><th scope=col>RBP_name</th><th scope=col>motif_id</th><th scope=col>motif_alt_id</th></tr>\n",
       "\t<tr><th></th><th scope=col>&lt;chr&gt;</th><th scope=col>&lt;chr&gt;</th><th scope=col>&lt;chr&gt;</th><th scope=col>&lt;chr&gt;</th></tr>\n",
       "</thead>\n",
       "<tbody>\n",
       "\t<tr><th scope=row>1308</th><td>oRNAment </td><td>A1CF </td><td>1.5  </td><td>AATAWAV    </td></tr>\n",
       "\t<tr><th scope=row>1307</th><td>oRNAment </td><td>A1CF </td><td>1.4  </td><td>AGHTCGG    </td></tr>\n",
       "\t<tr><th scope=row>1073</th><td>CisBP_RNA</td><td>A1CF </td><td>1.2.1</td><td>DTAATTV    </td></tr>\n",
       "\t<tr><th scope=row>1304</th><td>oRNAment </td><td>A1CF </td><td>1.1.2</td><td>NTAATTA    </td></tr>\n",
       "\t<tr><th scope=row>1306</th><td>oRNAment </td><td>A1CF </td><td>1.3  </td><td>SGGRCTG    </td></tr>\n",
       "\t<tr><th scope=row>1305</th><td>oRNAment </td><td>A1CF </td><td>1.2.2</td><td>VAATCAN    </td></tr>\n",
       "\t<tr><th scope=row>1072</th><td>CisBP_RNA</td><td>A1CF </td><td>1.1.1</td><td>WTAATTR    </td></tr>\n",
       "\t<tr><th scope=row>1309</th><td>oRNAment </td><td>A1CF </td><td>1.6  </td><td>WTAATTR    </td></tr>\n",
       "\t<tr><th scope=row>1075</th><td>CisBP_RNA</td><td>A2BP1</td><td>1.2  </td><td>TGCATG     </td></tr>\n",
       "\t<tr><th scope=row>1074</th><td>CisBP_RNA</td><td>A2BP1</td><td>1.1  </td><td>WGCATGM    </td></tr>\n",
       "\t<tr><th scope=row>5</th><td>mCross   </td><td>AARS </td><td>1.4  </td><td>BHVTTWCCAVW</td></tr>\n",
       "\t<tr><th scope=row>4</th><td>mCross   </td><td>AARS </td><td>1.3  </td><td>DNGATCATANN</td></tr>\n",
       "\t<tr><th scope=row>9</th><td>mCross   </td><td>AARS </td><td>1.8  </td><td>DRKTCAGACHB</td></tr>\n",
       "\t<tr><th scope=row>8</th><td>mCross   </td><td>AARS </td><td>1.7  </td><td>HKDTCCCAAVW</td></tr>\n",
       "\t<tr><th scope=row>10</th><td>mCross   </td><td>AARS </td><td>1.9  </td><td>HWTGAGACABK</td></tr>\n",
       "\t<tr><th scope=row>7</th><td>mCross   </td><td>AARS </td><td>1.6  </td><td>NBTGTCBTRVD</td></tr>\n",
       "\t<tr><th scope=row>6</th><td>mCross   </td><td>AARS </td><td>1.5  </td><td>NNAAGSCCTNN</td></tr>\n",
       "\t<tr><th scope=row>2</th><td>mCross   </td><td>AARS </td><td>1.10 </td><td>WSARYTCACYK</td></tr>\n",
       "\t<tr><th scope=row>3</th><td>mCross   </td><td>AARS </td><td>1.2  </td><td>YNGWCATAGDW</td></tr>\n",
       "\t<tr><th scope=row>1</th><td>mCross   </td><td>AARS </td><td>1.1  </td><td>YWTDGCTAGKB</td></tr>\n",
       "\t<tr><th scope=row>1076</th><td>CisBP_RNA</td><td>ACO1 </td><td>1.1  </td><td>YAGDRH     </td></tr>\n",
       "\t<tr><th scope=row>1627</th><td>RBPDB    </td><td>ACO1 </td><td>1.2  </td><td>YAGDRH     </td></tr>\n",
       "\t<tr><th scope=row>20</th><td>mCross   </td><td>AGGF1</td><td>1.5.2</td><td>AYACACACAYN</td></tr>\n",
       "\t<tr><th scope=row>21</th><td>mCross   </td><td>AGGF1</td><td>1.6  </td><td>DDAARAARADD</td></tr>\n",
       "\t<tr><th scope=row>18</th><td>mCross   </td><td>AGGF1</td><td>1.4.2</td><td>DDAAWGAAGNN</td></tr>\n",
       "\t<tr><th scope=row>12</th><td>mCross   </td><td>AGGF1</td><td>1.1.2</td><td>DDGAAGAAAND</td></tr>\n",
       "\t<tr><th scope=row>11</th><td>mCross   </td><td>AGGF1</td><td>1.1.1</td><td>DDGAAGAWAND</td></tr>\n",
       "\t<tr><th scope=row>16</th><td>mCross   </td><td>AGGF1</td><td>1.3.2</td><td>DNAAGAAMTDN</td></tr>\n",
       "\t<tr><th scope=row>17</th><td>mCross   </td><td>AGGF1</td><td>1.4.1</td><td>DNWRGAAGANN</td></tr>\n",
       "\t<tr><th scope=row>19</th><td>mCross   </td><td>AGGF1</td><td>1.5.1</td><td>NDAAGAAHTDD</td></tr>\n",
       "\t<tr><th scope=row>⋮</th><td>⋮</td><td>⋮</td><td>⋮</td><td>⋮</td></tr>\n",
       "\t<tr><th scope=row>1619</th><td>oRNAment </td><td>ZCRB1 </td><td>1.1  </td><td>NHHTTAA    </td></tr>\n",
       "\t<tr><th scope=row>1301</th><td>CisBP_RNA</td><td>ZFP36 </td><td>1.1.1</td><td>AAHAARBAAAG</td></tr>\n",
       "\t<tr><th scope=row>1671</th><td>RBPDB    </td><td>ZFP36 </td><td>1.1.2</td><td>AAHAARBAAAG</td></tr>\n",
       "\t<tr><th scope=row>1621</th><td>oRNAment </td><td>ZFP36 </td><td>1    </td><td>TATTTAW    </td></tr>\n",
       "\t<tr><th scope=row>1302</th><td>CisBP_RNA</td><td>ZFP36 </td><td>1.2.1</td><td>TTATTTAWK  </td></tr>\n",
       "\t<tr><th scope=row>1672</th><td>RBPDB    </td><td>ZFP36 </td><td>1.2.2</td><td>TTATTTAWK  </td></tr>\n",
       "\t<tr><th scope=row>1622</th><td>oRNAment </td><td>ZNF326</td><td>1.1  </td><td>GGATGTC    </td></tr>\n",
       "\t<tr><th scope=row>1625</th><td>oRNAment </td><td>ZNF326</td><td>1.4  </td><td>GGAYNCG    </td></tr>\n",
       "\t<tr><th scope=row>1623</th><td>oRNAment </td><td>ZNF326</td><td>1.2  </td><td>GWRTTCY    </td></tr>\n",
       "\t<tr><th scope=row>1624</th><td>oRNAment </td><td>ZNF326</td><td>1.3  </td><td>KGAWCGY    </td></tr>\n",
       "\t<tr><th scope=row>1055</th><td>mCross   </td><td>ZNF622</td><td>1.1  </td><td>DNCAAGMAANN</td></tr>\n",
       "\t<tr><th scope=row>1056</th><td>mCross   </td><td>ZNF622</td><td>1.2  </td><td>NNAAGAACCDB</td></tr>\n",
       "\t<tr><th scope=row>1058</th><td>mCross   </td><td>ZNF622</td><td>1.4  </td><td>NNACCATCKNN</td></tr>\n",
       "\t<tr><th scope=row>1063</th><td>mCross   </td><td>ZNF622</td><td>1.9  </td><td>NNAGCAACANN</td></tr>\n",
       "\t<tr><th scope=row>1060</th><td>mCross   </td><td>ZNF622</td><td>1.6  </td><td>NNCATCGAGNN</td></tr>\n",
       "\t<tr><th scope=row>1062</th><td>mCross   </td><td>ZNF622</td><td>1.8  </td><td>NNGACTTCANN</td></tr>\n",
       "\t<tr><th scope=row>1059</th><td>mCross   </td><td>ZNF622</td><td>1.5  </td><td>NNGCHGAAADN</td></tr>\n",
       "\t<tr><th scope=row>1061</th><td>mCross   </td><td>ZNF622</td><td>1.7  </td><td>NNTCAAGCANN</td></tr>\n",
       "\t<tr><th scope=row>1057</th><td>mCross   </td><td>ZNF622</td><td>1.3  </td><td>NNTGATGGANN</td></tr>\n",
       "\t<tr><th scope=row>1303</th><td>CisBP_RNA</td><td>ZNF638</td><td>1.1  </td><td>BGTTSKT    </td></tr>\n",
       "\t<tr><th scope=row>1626</th><td>oRNAment </td><td>ZNF638</td><td>1.2  </td><td>BGTTSKT    </td></tr>\n",
       "\t<tr><th scope=row>1673</th><td>RBPDB    </td><td>ZRANB2</td><td>1    </td><td>AGGTAA     </td></tr>\n",
       "\t<tr><th scope=row>1065</th><td>mCross   </td><td>ZRANB2</td><td>1.2  </td><td>DBGTGGTRRNB</td></tr>\n",
       "\t<tr><th scope=row>1068</th><td>mCross   </td><td>ZRANB2</td><td>1.5  </td><td>DDGGTAASGGR</td></tr>\n",
       "\t<tr><th scope=row>1071</th><td>mCross   </td><td>ZRANB2</td><td>1.8  </td><td>DNAHGGTATKD</td></tr>\n",
       "\t<tr><th scope=row>1066</th><td>mCross   </td><td>ZRANB2</td><td>1.3  </td><td>NDGGTGGTDNN</td></tr>\n",
       "\t<tr><th scope=row>1070</th><td>mCross   </td><td>ZRANB2</td><td>1.7  </td><td>NNCTGGTATND</td></tr>\n",
       "\t<tr><th scope=row>1069</th><td>mCross   </td><td>ZRANB2</td><td>1.6  </td><td>NNTGGTAAYDD</td></tr>\n",
       "\t<tr><th scope=row>1067</th><td>mCross   </td><td>ZRANB2</td><td>1.4  </td><td>NTNGGTAAADK</td></tr>\n",
       "\t<tr><th scope=row>1064</th><td>mCross   </td><td>ZRANB2</td><td>1.1  </td><td>RKGTRAGGTRB</td></tr>\n",
       "</tbody>\n",
       "</table>\n"
      ],
      "text/latex": [
       "A data.frame: 1673 × 4\n",
       "\\begin{tabular}{r|llll}\n",
       "  & database & RBP\\_name & motif\\_id & motif\\_alt\\_id\\\\\n",
       "  & <chr> & <chr> & <chr> & <chr>\\\\\n",
       "\\hline\n",
       "\t1308 & oRNAment  & A1CF  & 1.5   & AATAWAV    \\\\\n",
       "\t1307 & oRNAment  & A1CF  & 1.4   & AGHTCGG    \\\\\n",
       "\t1073 & CisBP\\_RNA & A1CF  & 1.2.1 & DTAATTV    \\\\\n",
       "\t1304 & oRNAment  & A1CF  & 1.1.2 & NTAATTA    \\\\\n",
       "\t1306 & oRNAment  & A1CF  & 1.3   & SGGRCTG    \\\\\n",
       "\t1305 & oRNAment  & A1CF  & 1.2.2 & VAATCAN    \\\\\n",
       "\t1072 & CisBP\\_RNA & A1CF  & 1.1.1 & WTAATTR    \\\\\n",
       "\t1309 & oRNAment  & A1CF  & 1.6   & WTAATTR    \\\\\n",
       "\t1075 & CisBP\\_RNA & A2BP1 & 1.2   & TGCATG     \\\\\n",
       "\t1074 & CisBP\\_RNA & A2BP1 & 1.1   & WGCATGM    \\\\\n",
       "\t5 & mCross    & AARS  & 1.4   & BHVTTWCCAVW\\\\\n",
       "\t4 & mCross    & AARS  & 1.3   & DNGATCATANN\\\\\n",
       "\t9 & mCross    & AARS  & 1.8   & DRKTCAGACHB\\\\\n",
       "\t8 & mCross    & AARS  & 1.7   & HKDTCCCAAVW\\\\\n",
       "\t10 & mCross    & AARS  & 1.9   & HWTGAGACABK\\\\\n",
       "\t7 & mCross    & AARS  & 1.6   & NBTGTCBTRVD\\\\\n",
       "\t6 & mCross    & AARS  & 1.5   & NNAAGSCCTNN\\\\\n",
       "\t2 & mCross    & AARS  & 1.10  & WSARYTCACYK\\\\\n",
       "\t3 & mCross    & AARS  & 1.2   & YNGWCATAGDW\\\\\n",
       "\t1 & mCross    & AARS  & 1.1   & YWTDGCTAGKB\\\\\n",
       "\t1076 & CisBP\\_RNA & ACO1  & 1.1   & YAGDRH     \\\\\n",
       "\t1627 & RBPDB     & ACO1  & 1.2   & YAGDRH     \\\\\n",
       "\t20 & mCross    & AGGF1 & 1.5.2 & AYACACACAYN\\\\\n",
       "\t21 & mCross    & AGGF1 & 1.6   & DDAARAARADD\\\\\n",
       "\t18 & mCross    & AGGF1 & 1.4.2 & DDAAWGAAGNN\\\\\n",
       "\t12 & mCross    & AGGF1 & 1.1.2 & DDGAAGAAAND\\\\\n",
       "\t11 & mCross    & AGGF1 & 1.1.1 & DDGAAGAWAND\\\\\n",
       "\t16 & mCross    & AGGF1 & 1.3.2 & DNAAGAAMTDN\\\\\n",
       "\t17 & mCross    & AGGF1 & 1.4.1 & DNWRGAAGANN\\\\\n",
       "\t19 & mCross    & AGGF1 & 1.5.1 & NDAAGAAHTDD\\\\\n",
       "\t⋮ & ⋮ & ⋮ & ⋮ & ⋮\\\\\n",
       "\t1619 & oRNAment  & ZCRB1  & 1.1   & NHHTTAA    \\\\\n",
       "\t1301 & CisBP\\_RNA & ZFP36  & 1.1.1 & AAHAARBAAAG\\\\\n",
       "\t1671 & RBPDB     & ZFP36  & 1.1.2 & AAHAARBAAAG\\\\\n",
       "\t1621 & oRNAment  & ZFP36  & 1     & TATTTAW    \\\\\n",
       "\t1302 & CisBP\\_RNA & ZFP36  & 1.2.1 & TTATTTAWK  \\\\\n",
       "\t1672 & RBPDB     & ZFP36  & 1.2.2 & TTATTTAWK  \\\\\n",
       "\t1622 & oRNAment  & ZNF326 & 1.1   & GGATGTC    \\\\\n",
       "\t1625 & oRNAment  & ZNF326 & 1.4   & GGAYNCG    \\\\\n",
       "\t1623 & oRNAment  & ZNF326 & 1.2   & GWRTTCY    \\\\\n",
       "\t1624 & oRNAment  & ZNF326 & 1.3   & KGAWCGY    \\\\\n",
       "\t1055 & mCross    & ZNF622 & 1.1   & DNCAAGMAANN\\\\\n",
       "\t1056 & mCross    & ZNF622 & 1.2   & NNAAGAACCDB\\\\\n",
       "\t1058 & mCross    & ZNF622 & 1.4   & NNACCATCKNN\\\\\n",
       "\t1063 & mCross    & ZNF622 & 1.9   & NNAGCAACANN\\\\\n",
       "\t1060 & mCross    & ZNF622 & 1.6   & NNCATCGAGNN\\\\\n",
       "\t1062 & mCross    & ZNF622 & 1.8   & NNGACTTCANN\\\\\n",
       "\t1059 & mCross    & ZNF622 & 1.5   & NNGCHGAAADN\\\\\n",
       "\t1061 & mCross    & ZNF622 & 1.7   & NNTCAAGCANN\\\\\n",
       "\t1057 & mCross    & ZNF622 & 1.3   & NNTGATGGANN\\\\\n",
       "\t1303 & CisBP\\_RNA & ZNF638 & 1.1   & BGTTSKT    \\\\\n",
       "\t1626 & oRNAment  & ZNF638 & 1.2   & BGTTSKT    \\\\\n",
       "\t1673 & RBPDB     & ZRANB2 & 1     & AGGTAA     \\\\\n",
       "\t1065 & mCross    & ZRANB2 & 1.2   & DBGTGGTRRNB\\\\\n",
       "\t1068 & mCross    & ZRANB2 & 1.5   & DDGGTAASGGR\\\\\n",
       "\t1071 & mCross    & ZRANB2 & 1.8   & DNAHGGTATKD\\\\\n",
       "\t1066 & mCross    & ZRANB2 & 1.3   & NDGGTGGTDNN\\\\\n",
       "\t1070 & mCross    & ZRANB2 & 1.7   & NNCTGGTATND\\\\\n",
       "\t1069 & mCross    & ZRANB2 & 1.6   & NNTGGTAAYDD\\\\\n",
       "\t1067 & mCross    & ZRANB2 & 1.4   & NTNGGTAAADK\\\\\n",
       "\t1064 & mCross    & ZRANB2 & 1.1   & RKGTRAGGTRB\\\\\n",
       "\\end{tabular}\n"
      ],
      "text/markdown": [
       "\n",
       "A data.frame: 1673 × 4\n",
       "\n",
       "| <!--/--> | database &lt;chr&gt; | RBP_name &lt;chr&gt; | motif_id &lt;chr&gt; | motif_alt_id &lt;chr&gt; |\n",
       "|---|---|---|---|---|\n",
       "| 1308 | oRNAment  | A1CF  | 1.5   | AATAWAV     |\n",
       "| 1307 | oRNAment  | A1CF  | 1.4   | AGHTCGG     |\n",
       "| 1073 | CisBP_RNA | A1CF  | 1.2.1 | DTAATTV     |\n",
       "| 1304 | oRNAment  | A1CF  | 1.1.2 | NTAATTA     |\n",
       "| 1306 | oRNAment  | A1CF  | 1.3   | SGGRCTG     |\n",
       "| 1305 | oRNAment  | A1CF  | 1.2.2 | VAATCAN     |\n",
       "| 1072 | CisBP_RNA | A1CF  | 1.1.1 | WTAATTR     |\n",
       "| 1309 | oRNAment  | A1CF  | 1.6   | WTAATTR     |\n",
       "| 1075 | CisBP_RNA | A2BP1 | 1.2   | TGCATG      |\n",
       "| 1074 | CisBP_RNA | A2BP1 | 1.1   | WGCATGM     |\n",
       "| 5 | mCross    | AARS  | 1.4   | BHVTTWCCAVW |\n",
       "| 4 | mCross    | AARS  | 1.3   | DNGATCATANN |\n",
       "| 9 | mCross    | AARS  | 1.8   | DRKTCAGACHB |\n",
       "| 8 | mCross    | AARS  | 1.7   | HKDTCCCAAVW |\n",
       "| 10 | mCross    | AARS  | 1.9   | HWTGAGACABK |\n",
       "| 7 | mCross    | AARS  | 1.6   | NBTGTCBTRVD |\n",
       "| 6 | mCross    | AARS  | 1.5   | NNAAGSCCTNN |\n",
       "| 2 | mCross    | AARS  | 1.10  | WSARYTCACYK |\n",
       "| 3 | mCross    | AARS  | 1.2   | YNGWCATAGDW |\n",
       "| 1 | mCross    | AARS  | 1.1   | YWTDGCTAGKB |\n",
       "| 1076 | CisBP_RNA | ACO1  | 1.1   | YAGDRH      |\n",
       "| 1627 | RBPDB     | ACO1  | 1.2   | YAGDRH      |\n",
       "| 20 | mCross    | AGGF1 | 1.5.2 | AYACACACAYN |\n",
       "| 21 | mCross    | AGGF1 | 1.6   | DDAARAARADD |\n",
       "| 18 | mCross    | AGGF1 | 1.4.2 | DDAAWGAAGNN |\n",
       "| 12 | mCross    | AGGF1 | 1.1.2 | DDGAAGAAAND |\n",
       "| 11 | mCross    | AGGF1 | 1.1.1 | DDGAAGAWAND |\n",
       "| 16 | mCross    | AGGF1 | 1.3.2 | DNAAGAAMTDN |\n",
       "| 17 | mCross    | AGGF1 | 1.4.1 | DNWRGAAGANN |\n",
       "| 19 | mCross    | AGGF1 | 1.5.1 | NDAAGAAHTDD |\n",
       "| ⋮ | ⋮ | ⋮ | ⋮ | ⋮ |\n",
       "| 1619 | oRNAment  | ZCRB1  | 1.1   | NHHTTAA     |\n",
       "| 1301 | CisBP_RNA | ZFP36  | 1.1.1 | AAHAARBAAAG |\n",
       "| 1671 | RBPDB     | ZFP36  | 1.1.2 | AAHAARBAAAG |\n",
       "| 1621 | oRNAment  | ZFP36  | 1     | TATTTAW     |\n",
       "| 1302 | CisBP_RNA | ZFP36  | 1.2.1 | TTATTTAWK   |\n",
       "| 1672 | RBPDB     | ZFP36  | 1.2.2 | TTATTTAWK   |\n",
       "| 1622 | oRNAment  | ZNF326 | 1.1   | GGATGTC     |\n",
       "| 1625 | oRNAment  | ZNF326 | 1.4   | GGAYNCG     |\n",
       "| 1623 | oRNAment  | ZNF326 | 1.2   | GWRTTCY     |\n",
       "| 1624 | oRNAment  | ZNF326 | 1.3   | KGAWCGY     |\n",
       "| 1055 | mCross    | ZNF622 | 1.1   | DNCAAGMAANN |\n",
       "| 1056 | mCross    | ZNF622 | 1.2   | NNAAGAACCDB |\n",
       "| 1058 | mCross    | ZNF622 | 1.4   | NNACCATCKNN |\n",
       "| 1063 | mCross    | ZNF622 | 1.9   | NNAGCAACANN |\n",
       "| 1060 | mCross    | ZNF622 | 1.6   | NNCATCGAGNN |\n",
       "| 1062 | mCross    | ZNF622 | 1.8   | NNGACTTCANN |\n",
       "| 1059 | mCross    | ZNF622 | 1.5   | NNGCHGAAADN |\n",
       "| 1061 | mCross    | ZNF622 | 1.7   | NNTCAAGCANN |\n",
       "| 1057 | mCross    | ZNF622 | 1.3   | NNTGATGGANN |\n",
       "| 1303 | CisBP_RNA | ZNF638 | 1.1   | BGTTSKT     |\n",
       "| 1626 | oRNAment  | ZNF638 | 1.2   | BGTTSKT     |\n",
       "| 1673 | RBPDB     | ZRANB2 | 1     | AGGTAA      |\n",
       "| 1065 | mCross    | ZRANB2 | 1.2   | DBGTGGTRRNB |\n",
       "| 1068 | mCross    | ZRANB2 | 1.5   | DDGGTAASGGR |\n",
       "| 1071 | mCross    | ZRANB2 | 1.8   | DNAHGGTATKD |\n",
       "| 1066 | mCross    | ZRANB2 | 1.3   | NDGGTGGTDNN |\n",
       "| 1070 | mCross    | ZRANB2 | 1.7   | NNCTGGTATND |\n",
       "| 1069 | mCross    | ZRANB2 | 1.6   | NNTGGTAAYDD |\n",
       "| 1067 | mCross    | ZRANB2 | 1.4   | NTNGGTAAADK |\n",
       "| 1064 | mCross    | ZRANB2 | 1.1   | RKGTRAGGTRB |\n",
       "\n"
      ],
      "text/plain": [
       "     database  RBP_name motif_id motif_alt_id\n",
       "1308 oRNAment  A1CF     1.5      AATAWAV     \n",
       "1307 oRNAment  A1CF     1.4      AGHTCGG     \n",
       "1073 CisBP_RNA A1CF     1.2.1    DTAATTV     \n",
       "1304 oRNAment  A1CF     1.1.2    NTAATTA     \n",
       "1306 oRNAment  A1CF     1.3      SGGRCTG     \n",
       "1305 oRNAment  A1CF     1.2.2    VAATCAN     \n",
       "1072 CisBP_RNA A1CF     1.1.1    WTAATTR     \n",
       "1309 oRNAment  A1CF     1.6      WTAATTR     \n",
       "1075 CisBP_RNA A2BP1    1.2      TGCATG      \n",
       "1074 CisBP_RNA A2BP1    1.1      WGCATGM     \n",
       "5    mCross    AARS     1.4      BHVTTWCCAVW \n",
       "4    mCross    AARS     1.3      DNGATCATANN \n",
       "9    mCross    AARS     1.8      DRKTCAGACHB \n",
       "8    mCross    AARS     1.7      HKDTCCCAAVW \n",
       "10   mCross    AARS     1.9      HWTGAGACABK \n",
       "7    mCross    AARS     1.6      NBTGTCBTRVD \n",
       "6    mCross    AARS     1.5      NNAAGSCCTNN \n",
       "2    mCross    AARS     1.10     WSARYTCACYK \n",
       "3    mCross    AARS     1.2      YNGWCATAGDW \n",
       "1    mCross    AARS     1.1      YWTDGCTAGKB \n",
       "1076 CisBP_RNA ACO1     1.1      YAGDRH      \n",
       "1627 RBPDB     ACO1     1.2      YAGDRH      \n",
       "20   mCross    AGGF1    1.5.2    AYACACACAYN \n",
       "21   mCross    AGGF1    1.6      DDAARAARADD \n",
       "18   mCross    AGGF1    1.4.2    DDAAWGAAGNN \n",
       "12   mCross    AGGF1    1.1.2    DDGAAGAAAND \n",
       "11   mCross    AGGF1    1.1.1    DDGAAGAWAND \n",
       "16   mCross    AGGF1    1.3.2    DNAAGAAMTDN \n",
       "17   mCross    AGGF1    1.4.1    DNWRGAAGANN \n",
       "19   mCross    AGGF1    1.5.1    NDAAGAAHTDD \n",
       "⋮    ⋮         ⋮        ⋮        ⋮           \n",
       "1619 oRNAment  ZCRB1    1.1      NHHTTAA     \n",
       "1301 CisBP_RNA ZFP36    1.1.1    AAHAARBAAAG \n",
       "1671 RBPDB     ZFP36    1.1.2    AAHAARBAAAG \n",
       "1621 oRNAment  ZFP36    1        TATTTAW     \n",
       "1302 CisBP_RNA ZFP36    1.2.1    TTATTTAWK   \n",
       "1672 RBPDB     ZFP36    1.2.2    TTATTTAWK   \n",
       "1622 oRNAment  ZNF326   1.1      GGATGTC     \n",
       "1625 oRNAment  ZNF326   1.4      GGAYNCG     \n",
       "1623 oRNAment  ZNF326   1.2      GWRTTCY     \n",
       "1624 oRNAment  ZNF326   1.3      KGAWCGY     \n",
       "1055 mCross    ZNF622   1.1      DNCAAGMAANN \n",
       "1056 mCross    ZNF622   1.2      NNAAGAACCDB \n",
       "1058 mCross    ZNF622   1.4      NNACCATCKNN \n",
       "1063 mCross    ZNF622   1.9      NNAGCAACANN \n",
       "1060 mCross    ZNF622   1.6      NNCATCGAGNN \n",
       "1062 mCross    ZNF622   1.8      NNGACTTCANN \n",
       "1059 mCross    ZNF622   1.5      NNGCHGAAADN \n",
       "1061 mCross    ZNF622   1.7      NNTCAAGCANN \n",
       "1057 mCross    ZNF622   1.3      NNTGATGGANN \n",
       "1303 CisBP_RNA ZNF638   1.1      BGTTSKT     \n",
       "1626 oRNAment  ZNF638   1.2      BGTTSKT     \n",
       "1673 RBPDB     ZRANB2   1        AGGTAA      \n",
       "1065 mCross    ZRANB2   1.2      DBGTGGTRRNB \n",
       "1068 mCross    ZRANB2   1.5      DDGGTAASGGR \n",
       "1071 mCross    ZRANB2   1.8      DNAHGGTATKD \n",
       "1066 mCross    ZRANB2   1.3      NDGGTGGTDNN \n",
       "1070 mCross    ZRANB2   1.7      NNCTGGTATND \n",
       "1069 mCross    ZRANB2   1.6      NNTGGTAAYDD \n",
       "1067 mCross    ZRANB2   1.4      NTNGGTAAADK \n",
       "1064 mCross    ZRANB2   1.1      RKGTRAGGTRB "
      ]
     },
     "metadata": {},
     "output_type": "display_data"
    }
   ],
   "source": [
    "merged_df"
   ]
  },
  {
   "cell_type": "code",
   "execution_count": 237,
   "id": "5d587498-5004-4bd1-a68b-5d8e34f4c5e8",
   "metadata": {},
   "outputs": [],
   "source": [
    "write.csv(merged_df, \"/home/ylee/AllmotifDB/All_RBP_motifs.csv\", row.names = FALSE)"
   ]
  },
  {
   "cell_type": "code",
   "execution_count": null,
   "id": "a37da41b-f131-4f2a-9530-f4d0ba14b440",
   "metadata": {},
   "outputs": [],
   "source": []
  }
 ],
 "metadata": {
  "kernelspec": {
   "display_name": "r_4.1.2",
   "language": "R",
   "name": "r_4.1.2"
  },
  "language_info": {
   "codemirror_mode": "r",
   "file_extension": ".r",
   "mimetype": "text/x-r-source",
   "name": "R",
   "pygments_lexer": "r",
   "version": "4.1.2"
  }
 },
 "nbformat": 4,
 "nbformat_minor": 5
}
